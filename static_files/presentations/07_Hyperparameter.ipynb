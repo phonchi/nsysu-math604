{
  "cells": [
    {
      "cell_type": "markdown",
      "metadata": {
        "id": "1QiCFLer1FIe"
      },
      "source": [
        "**Lab 6 – Hyperparameter Tuning**"
      ]
    },
    {
      "cell_type": "markdown",
      "metadata": {
        "id": "vCyq3-8y1FIj"
      },
      "source": [
        "_This notebook contains the sample from https://github.com/fchollet/deep-learning-with-python-notebooks_, https://keras.io/guides/keras_tuner/getting_started/, https://keras.io/examples/vision/reptile/ and https://github.com/datamllab/automl-in-action-notebooks"
      ]
    },
    {
      "cell_type": "markdown",
      "metadata": {
        "id": "9J5g6PDs1FIk"
      },
      "source": [
        "<table align=\"left\">\n",
        "  <td>\n",
        "    <a href=\"https://colab.research.google.com/github/phonchi/nsysu-math604/blob/master/static_files/presentations/07_Hyperparameter.ipynb\" target=\"_parent\"><img src=\"https://colab.research.google.com/assets/colab-badge.svg\" alt=\"Open In Colab\"/></a>\n",
        "  </td>\n",
        "  <td>\n",
        "    <a target=\"_blank\" href=\"https://kaggle.com/kernels/welcome?src=https://github.com/phonchi/nsysu-math604/blob/master/static_files/presentations/07_Hyperparameter.ipynb\"><img src=\"https://kaggle.com/static/images/open-in-kaggle.svg\" /></a>\n",
        "  </td>\n",
        "</table>"
      ]
    },
    {
      "cell_type": "markdown",
      "metadata": {
        "id": "jRs8qCoF1FIk"
      },
      "source": [
        "# Setup"
      ]
    },
    {
      "cell_type": "markdown",
      "metadata": {
        "id": "ZB0uE-rI1FIl"
      },
      "source": [
        "First, let's import a few common modules, ensure MatplotLib plots figures inline and prepare a function to save the figures. We also check that Python 3.5 or later is installed (although Python 2.x may work, it is deprecated so we strongly recommend you use Python 3 instead), as well as Scikit-Learn ≥0.20 and TensorFlow ≥2.0."
      ]
    },
    {
      "cell_type": "code",
      "execution_count": 1,
      "metadata": {
        "id": "Jc9dG1NU1FIm"
      },
      "outputs": [],
      "source": [
        "# Python ≥3.5 is required\n",
        "import sys\n",
        "assert sys.version_info >= (3, 5)\n",
        "\n",
        "# Is this notebook running on Colab or Kaggle?\n",
        "IS_COLAB = \"google.colab\" in sys.modules\n",
        "IS_KAGGLE = \"kaggle_secrets\" in sys.modules\n",
        "\n",
        "# Scikit-Learn ≥0.20 is required\n",
        "import sklearn\n",
        "assert sklearn.__version__ >= \"0.20\"\n",
        "\n",
        "# TensorFlow ≥2.0 is required\n",
        "import tensorflow as tf\n",
        "from tensorflow import keras\n",
        "import tensorflow_datasets as tfds\n",
        "assert tf.__version__ >= \"2.0\"\n",
        "\n",
        "if not tf.config.list_physical_devices('GPU'):\n",
        "    print(\"No GPU was detected. CNNs can be very slow without a GPU.\")\n",
        "    if IS_COLAB:\n",
        "        print(\"Go to Runtime > Change runtime and select a GPU hardware accelerator.\")\n",
        "    if IS_KAGGLE:\n",
        "        print(\"Go to Settings > Accelerator and select GPU.\")\n",
        "\n",
        "# Common imports\n",
        "import numpy as np\n",
        "import os\n",
        "import random\n",
        "\n",
        "# to make this notebook's output stable across runs\n",
        "np.random.seed(42)\n",
        "tf.random.set_seed(42)\n",
        "\n",
        "# To plot pretty figures\n",
        "%matplotlib inline\n",
        "import matplotlib as mpl\n",
        "import matplotlib.pyplot as plt\n",
        "mpl.rc('axes', labelsize=14)\n",
        "mpl.rc('xtick', labelsize=12)\n",
        "mpl.rc('ytick', labelsize=12)\n",
        "\n",
        "# Where to save the figures\n",
        "PROJECT_ROOT_DIR = \".\"\n",
        "CHAPTER_ID = \"cnn\"\n",
        "IMAGES_PATH = os.path.join(PROJECT_ROOT_DIR, \"images\", CHAPTER_ID)\n",
        "os.makedirs(IMAGES_PATH, exist_ok=True)\n",
        "\n",
        "def save_fig(fig_id, tight_layout=True, fig_extension=\"png\", resolution=300):\n",
        "    path = os.path.join(IMAGES_PATH, fig_id + \".\" + fig_extension)\n",
        "    print(\"Saving figure\", fig_id)\n",
        "    if tight_layout:\n",
        "        plt.tight_layout()\n",
        "    plt.savefig(path, format=fig_extension, dpi=resolution)"
      ]
    },
    {
      "cell_type": "code",
      "source": [
        "!pip install keras-tuner -q\n",
        "!pip install autokeras -q"
      ],
      "metadata": {
        "colab": {
          "base_uri": "https://localhost:8080/"
        },
        "id": "ie5yp8uJ-XWV",
        "outputId": "87208f77-df2c-47ea-96d5-efa0f34cd606"
      },
      "execution_count": 10,
      "outputs": [
        {
          "output_type": "stream",
          "name": "stdout",
          "text": [
            "\u001b[K     |████████████████████████████████| 160 kB 13.9 MB/s \n",
            "\u001b[K     |████████████████████████████████| 462 kB 46.2 MB/s \n",
            "\u001b[?25h"
          ]
        }
      ]
    },
    {
      "cell_type": "markdown",
      "source": [
        "# Hyperparamter tuning \n",
        "\n",
        "Training the weights of a model is relatively easy: you compute a loss function on a mini-batch of data and then use backpropagation to move the weights in the right direction. Updating hyperparameters, on the other hand, presents unique challenges. Consider these points:\n",
        "\n",
        "- The hyperparameter space is typically made up of discrete decisions and thus\n",
        "isn’t continuous or differentiable. Hence, you typically can’t do gradient descent in hyperparameter space. Instead, you must rely on gradient-free optimization techniques, which naturally are far less efficient than gradient descent.\n",
        "- Computing the feedback signal of this optimization process (does this set of\n",
        "hyperparameters lead to a high-performing model on this task?) can be extremely\n",
        "expensive: it requires creating and training a new model from scratch on your\n",
        "dataset.\n",
        "- The feedback signal may be noisy: if a training run performs 0.2% better, is that because of a better model configuration, or because you got lucky with the initial weight values?\n",
        "\n",
        "Thankfully, there’s a tool that makes hyperparameter tuning simpler: `KerasTuner`. Let’s check it out."
      ],
      "metadata": {
        "id": "dnFEHWflQNt-"
      }
    },
    {
      "cell_type": "markdown",
      "source": [
        "## Using KerasTuner"
      ],
      "metadata": {
        "id": "YaqmRmOf64NX"
      }
    },
    {
      "cell_type": "markdown",
      "source": [
        "KerasTuner lets you replace hard-coded hyperparameter values, such as `units=32`, with a range of possible choices, such as `Int(name=\"units\", min_value=16, max_value=64, step=16)`. This set of choices in a given model is called the search space of the hyperparameter tuning process.\n",
        "\n",
        "To specify a search space, define a model-building function. It takes an hp argument, from which you can sample hyperparameter ranges, and it returns a compiled Keras model."
      ],
      "metadata": {
        "id": "zArXzoEhRy2V"
      }
    },
    {
      "cell_type": "markdown",
      "source": [
        "### Tune model architecture"
      ],
      "metadata": {
        "id": "uVP8ycBrGLeg"
      }
    },
    {
      "cell_type": "code",
      "source": [
        "from tensorflow import keras\n",
        "from tensorflow.keras import layers\n",
        "\n",
        "def build_model(hp):\n",
        "  # Sample hyperparameter values from the hp object. After sampling, these values (such as the \"units\" which is number of nuerons \n",
        "  # variable here) are just regular Python constants.\n",
        "  model = keras.Sequential()\n",
        "  model.add(layers.Flatten())\n",
        "  # Tune the number of layers.\n",
        "  for i in range(hp.Int(\"num_layers\", 1, 3)):\n",
        "    model.add(        \n",
        "      layers.Dense(\n",
        "      # Tune number of units.\n",
        "        units=hp.Int(\"units\", min_value=16, max_value=64, step=16),\n",
        "        # Tune the activation function to use.\n",
        "        activation=hp.Choice(\"activation\", [\"relu\", \"tanh\"]),\n",
        "      )\n",
        "    )\n",
        "  # Tune whether to use dropout.\n",
        "  if hp.Boolean(\"dropout\"):\n",
        "    model.add(layers.Dropout(rate=0.25))\n",
        "  model.add(layers.Dense(10, activation=\"softmax\"))\n",
        "  # Define the optimizer learning rate as a hyperparameter.\n",
        "  learning_rate = hp.Float(\"lr\", min_value=1e-4, max_value=1e-2, sampling=\"log\")\n",
        "  optimizer = hp.Choice(name=\"optimizer\", values=[\"rmsprop\", \"adam\"])\n",
        "  model.compile(\n",
        "    optimizer=optimizer,\n",
        "    loss=\"sparse_categorical_crossentropy\",\n",
        "    metrics=[\"accuracy\"])\n",
        "  return model"
      ],
      "metadata": {
        "id": "3p_FvdDcSC5I"
      },
      "execution_count": null,
      "outputs": []
    },
    {
      "cell_type": "markdown",
      "source": [
        "If you want to adopt a more modular and configurable approach to model-building,\n",
        "you can also subclass the `HyperModel` class and define a build method, as follows."
      ],
      "metadata": {
        "id": "jdoal-4GSeN3"
      }
    },
    {
      "cell_type": "code",
      "source": [
        "import keras_tuner as kt\n",
        "\n",
        "class SimpleMLP(kt.HyperModel):\n",
        "  # Thanks to the object-oriented approach, we can configure model constants\n",
        "  # as constructor arguments (instead of hardcoding them in the model-building\n",
        "  # function).\n",
        "    def __init__(self, num_classes):\n",
        "        self.num_classes = num_classes\n",
        "  # The build() method is identical to our prior build_model() standalone function.\n",
        "    def build(self, hp):\n",
        "    # Sample hyperparameter values from the hp object. After sampling, these values (such as the \"units\" which is number of nuerons \n",
        "    # variable here) are just regular Python constants.\n",
        "      model = keras.Sequential()\n",
        "      model.add(layers.Flatten())\n",
        "      # Tune the number of layers.\n",
        "      for i in range(hp.Int(\"num_layers\", 1, 3)):\n",
        "        model.add(        \n",
        "          layers.Dense(\n",
        "          # Tune number of units.\n",
        "            units=hp.Int(\"units\", min_value=16, max_value=64, step=16),\n",
        "            # Tune the activation function to use.\n",
        "            activation=hp.Choice(\"activation\", [\"relu\", \"tanh\"]),\n",
        "          )\n",
        "        )\n",
        "      # Tune whether to use dropout.\n",
        "      if hp.Boolean(\"dropout\"):\n",
        "        model.add(layers.Dropout(rate=0.25))\n",
        "      model.add(layers.Dense(self.num_classes, activation=\"softmax\"))\n",
        "      # Define the optimizer learning rate as a hyperparameter.\n",
        "      learning_rate = hp.Float(\"lr\", min_value=1e-4, max_value=1e-2, sampling=\"log\")\n",
        "      optimizer = hp.Choice(name=\"optimizer\", values=[\"rmsprop\", \"adam\"])\n",
        "      model.compile(\n",
        "        optimizer=optimizer,\n",
        "        loss=\"sparse_categorical_crossentropy\",\n",
        "        metrics=[\"accuracy\"])\n",
        "      return model\n",
        "\n",
        "hypermodel = SimpleMLP(num_classes=10)"
      ],
      "metadata": {
        "id": "a7pzH433ShUB"
      },
      "execution_count": null,
      "outputs": []
    },
    {
      "cell_type": "markdown",
      "source": [
        "The next step is to define a “tuner.” Schematically, you can think of a tuner as a for loop that will repeatedly\n",
        " \n",
        "1. Pick a set of hyperparameter values\n",
        "2. Call the model-building function with these values to create a model\n",
        "3. Train the model and record its metrics"
      ],
      "metadata": {
        "id": "5GUxKV5mTZ3E"
      }
    },
    {
      "cell_type": "markdown",
      "source": [
        "KerasTuner has several built-in tuners available— **RandomSearch, BayesianOptimization, and Hyperband**. Let’s try BayesianOptimization, a tuner that attempts to make smart predictions for which new hyperparameter values are likely to perform best given the outcomes of previous choices:"
      ],
      "metadata": {
        "id": "IJVn0x-M_BUZ"
      }
    },
    {
      "cell_type": "code",
      "source": [
        "tuner = kt.BayesianOptimization(\n",
        "    build_model,\n",
        "    objective=\"val_accuracy\",\n",
        "    max_trials=3,\n",
        "    executions_per_trial=2,\n",
        "    directory=\"mnist_kt_test\",\n",
        "    overwrite=True,\n",
        ")"
      ],
      "metadata": {
        "id": "9F4FJ3rTAYYo"
      },
      "execution_count": null,
      "outputs": []
    },
    {
      "cell_type": "markdown",
      "source": [
        "- `objective`: Specify the metric that the tuner will seek to optimize. Always specify validation metrics, since the goal of the search process is to find models that generalize!\n",
        "\n",
        "- `max_trials`: Maximum number of different model configurations (“trials”) to try before ending the search.\n",
        "\n",
        "- `executions_per_trial`: To reduce metrics variance, you can train the same model multiple times and average the results. executions_per_trial is how many training rounds(executions) to run for each model configuration (trial).\n",
        "\n",
        "- `directory`: Where to store search logs\n",
        "\n",
        "- `overwrite`: Whether to overwrite data in directory to start a new search. Set this to `True` if you’ve modified the model-building function, or to `False` to resume a previously started search with the same model-building function."
      ],
      "metadata": {
        "id": "7vLy3s6pAjOB"
      }
    },
    {
      "cell_type": "markdown",
      "source": [
        "You can display an overview of the search space via `search_space_summary()`:"
      ],
      "metadata": {
        "id": "RMn0LpS0BN3A"
      }
    },
    {
      "cell_type": "code",
      "source": [
        "tuner.search_space_summary()"
      ],
      "metadata": {
        "colab": {
          "base_uri": "https://localhost:8080/"
        },
        "id": "mflCzFpBloc8",
        "outputId": "39a7eca0-f45c-4e58-ac20-e820e3e9da50"
      },
      "execution_count": null,
      "outputs": [
        {
          "output_type": "stream",
          "name": "stdout",
          "text": [
            "Search space summary\n",
            "Default search space size: 6\n",
            "num_layers (Int)\n",
            "{'default': None, 'conditions': [], 'min_value': 1, 'max_value': 3, 'step': 1, 'sampling': None}\n",
            "units (Int)\n",
            "{'default': None, 'conditions': [], 'min_value': 16, 'max_value': 64, 'step': 16, 'sampling': None}\n",
            "activation (Choice)\n",
            "{'default': 'relu', 'conditions': [], 'values': ['relu', 'tanh'], 'ordered': False}\n",
            "dropout (Boolean)\n",
            "{'default': False, 'conditions': []}\n",
            "lr (Float)\n",
            "{'default': 0.0001, 'conditions': [], 'min_value': 0.0001, 'max_value': 0.01, 'step': None, 'sampling': 'log'}\n",
            "optimizer (Choice)\n",
            "{'default': 'rmsprop', 'conditions': [], 'values': ['rmsprop', 'adam'], 'ordered': False}\n"
          ]
        }
      ]
    },
    {
      "cell_type": "markdown",
      "source": [
        "Finally, let’s launch the search. **Don’t forget to pass validation data, and make sure not to use your test set as validation data** — otherwise you’d quickly start overfitting to your test data, and you wouldn’t be able to trust your test metrics anymore:"
      ],
      "metadata": {
        "id": "HzNJXxA-ml9G"
      }
    },
    {
      "cell_type": "code",
      "source": [
        "(x_train, y_train), (x_test, y_test) = keras.datasets.mnist.load_data()\n",
        "x_train = x_train.reshape((-1, 28 * 28)).astype(\"float32\") / 255\n",
        "x_test = x_test.reshape((-1, 28 * 28)).astype(\"float32\") / 255\n",
        "# Reserve these for later.\n",
        "x_train_full = x_train[:]\n",
        "y_train_full = y_train[:]\n",
        "num_val_samples = 10000\n",
        "# Set these aside as a validation set.\n",
        "x_train, x_val = x_train[:-num_val_samples], x_train[-num_val_samples:]\n",
        "y_train, y_val = y_train[:-num_val_samples], y_train[-num_val_samples:]\n",
        "\n",
        "# This takes the same arguments as fit() (it simply passes them\n",
        "# down to fit() for each new model).\n",
        "callbacks = [\n",
        "    keras.callbacks.EarlyStopping(monitor=\"val_loss\", patience=5),\n",
        "]\n",
        "# Use a large number of epochs (you don’t know in advance how\n",
        "# many epochs each model will need), and use an EarlyStopping\n",
        "# callback to stop training when you start overfitting.\n",
        "tuner.search(\n",
        "    x_train, y_train,\n",
        "    batch_size=128,\n",
        "    epochs=100,\n",
        "    validation_data=(x_val, y_val),\n",
        "    callbacks=callbacks,\n",
        "    verbose=2,\n",
        ")"
      ],
      "metadata": {
        "colab": {
          "base_uri": "https://localhost:8080/"
        },
        "id": "3nVxEzWMmsXA",
        "outputId": "1e393e49-853f-4074-9ce8-42265f2b95de"
      },
      "execution_count": null,
      "outputs": [
        {
          "output_type": "stream",
          "name": "stdout",
          "text": [
            "Trial 3 Complete [00h 01m 08s]\n",
            "val_accuracy: 0.9752499759197235\n",
            "\n",
            "Best val_accuracy So Far: 0.9752499759197235\n",
            "Total elapsed time: 00h 04m 25s\n",
            "INFO:tensorflow:Oracle triggered exit\n"
          ]
        }
      ]
    },
    {
      "cell_type": "markdown",
      "source": [
        "The preceding example will run in just a few minutes, since we’re only looking at a few possible choices and we’re training on MNIST. However, with a typical search space and dataset, you’ll often find yourself letting the hyperparameter search run overnight or even over several days. **If your search process crashes, you can always restart it — just specify `overwrite=False` in the tuner so that it can resume from the trial logs stored on disk.**\n",
        "\n",
        "Once the search is complete, you can query the best hyperparameter configurations, which you can use to create high-performing models that you can then retrain."
      ],
      "metadata": {
        "id": "1SV_QXpWCNbH"
      }
    },
    {
      "cell_type": "markdown",
      "source": [
        "#### Querying the best hyperparameter configurations"
      ],
      "metadata": {
        "id": "R1Q69Th1CsDp"
      }
    },
    {
      "cell_type": "code",
      "source": [
        "top_n = 3\n",
        "best_hps = tuner.get_best_hyperparameters(top_n)"
      ],
      "metadata": {
        "id": "lCNAuqzYCjMX"
      },
      "execution_count": null,
      "outputs": []
    },
    {
      "cell_type": "markdown",
      "source": [
        "Usually, when retraining these models, **you may want to include the validation data as part of the training data, since you won’t be making any further hyperparameter changes, and thus you will no longer be evaluating performance on the validation data.** In our example, we’d train these final models on the totality of the original MNIST training data, without reserving a validation set.\n",
        "\n",
        "Before we can train on the full training data, though, there’s one last parameter we need to settle: the optimal number of epochs to train for. Typically, you’ll want to train the new models for longer than you did during the search: using an aggressive patience value in the `EarlyStopping` callback saves time during the search, but it may lead to under-fit models. Just use the validation set to find the best epoch:"
      ],
      "metadata": {
        "id": "eLeMS_G7C2q_"
      }
    },
    {
      "cell_type": "code",
      "source": [
        "def get_best_epoch(hp):\n",
        "    model = build_model(hp)\n",
        "    callbacks=[\n",
        "        keras.callbacks.EarlyStopping(\n",
        "            monitor=\"val_loss\", mode=\"min\", patience=10)\n",
        "    ]\n",
        "    history = model.fit(\n",
        "        x_train, y_train,\n",
        "        validation_data=(x_val, y_val),\n",
        "        epochs=100,\n",
        "        batch_size=128,\n",
        "        callbacks=callbacks)\n",
        "    val_loss_per_epoch = history.history[\"val_loss\"]\n",
        "    best_epoch = val_loss_per_epoch.index(min(val_loss_per_epoch)) + 1\n",
        "    print(f\"Best epoch: {best_epoch}\")\n",
        "    return best_epoch, model"
      ],
      "metadata": {
        "id": "9ANGp1cdx9N-"
      },
      "execution_count": null,
      "outputs": []
    },
    {
      "cell_type": "markdown",
      "source": [
        "Finally, train on the full dataset for just a bit longer than this epoch count, since you’re training on more data; 20% more in this case:"
      ],
      "metadata": {
        "id": "Nb1WdtxND0Ph"
      }
    },
    {
      "cell_type": "code",
      "source": [
        "def get_best_trained_model(hp):\n",
        "    best_epoch, model = get_best_epoch(hp)\n",
        "    model.fit(\n",
        "        x_train_full, y_train_full,\n",
        "        batch_size=128, epochs=int(best_epoch * 1.2))\n",
        "    return model\n",
        "\n",
        "best_models = []\n",
        "for hp in best_hps:\n",
        "    model = get_best_trained_model(hp)\n",
        "    model.evaluate(x_test, y_test)\n",
        "    best_models.append(model)"
      ],
      "metadata": {
        "colab": {
          "base_uri": "https://localhost:8080/"
        },
        "id": "1UMTzVTXDzEn",
        "outputId": "dae61354-9385-456f-e258-d12eafe0d01f"
      },
      "execution_count": null,
      "outputs": [
        {
          "output_type": "stream",
          "name": "stdout",
          "text": [
            "Epoch 1/100\n",
            "391/391 [==============================] - 3s 5ms/step - loss: 0.4454 - accuracy: 0.8748 - val_loss: 0.2237 - val_accuracy: 0.9353\n",
            "Epoch 2/100\n",
            "391/391 [==============================] - 2s 5ms/step - loss: 0.2319 - accuracy: 0.9324 - val_loss: 0.1763 - val_accuracy: 0.9502\n",
            "Epoch 3/100\n",
            "391/391 [==============================] - 2s 4ms/step - loss: 0.1745 - accuracy: 0.9488 - val_loss: 0.1433 - val_accuracy: 0.9589\n",
            "Epoch 4/100\n",
            "391/391 [==============================] - 2s 4ms/step - loss: 0.1394 - accuracy: 0.9579 - val_loss: 0.1374 - val_accuracy: 0.9608\n",
            "Epoch 5/100\n",
            "391/391 [==============================] - 2s 5ms/step - loss: 0.1170 - accuracy: 0.9647 - val_loss: 0.1105 - val_accuracy: 0.9678\n",
            "Epoch 6/100\n",
            "391/391 [==============================] - 2s 4ms/step - loss: 0.1019 - accuracy: 0.9697 - val_loss: 0.1056 - val_accuracy: 0.9709\n",
            "Epoch 7/100\n",
            "391/391 [==============================] - 2s 4ms/step - loss: 0.0892 - accuracy: 0.9731 - val_loss: 0.1023 - val_accuracy: 0.9717\n",
            "Epoch 8/100\n",
            "391/391 [==============================] - 2s 4ms/step - loss: 0.0784 - accuracy: 0.9763 - val_loss: 0.1050 - val_accuracy: 0.9700\n",
            "Epoch 9/100\n",
            "391/391 [==============================] - 2s 5ms/step - loss: 0.0709 - accuracy: 0.9789 - val_loss: 0.0984 - val_accuracy: 0.9720\n",
            "Epoch 10/100\n",
            "391/391 [==============================] - 2s 4ms/step - loss: 0.0646 - accuracy: 0.9806 - val_loss: 0.1007 - val_accuracy: 0.9715\n",
            "Epoch 11/100\n",
            "391/391 [==============================] - 2s 4ms/step - loss: 0.0583 - accuracy: 0.9824 - val_loss: 0.0971 - val_accuracy: 0.9734\n",
            "Epoch 12/100\n",
            "391/391 [==============================] - 2s 4ms/step - loss: 0.0525 - accuracy: 0.9838 - val_loss: 0.1059 - val_accuracy: 0.9725\n",
            "Epoch 13/100\n",
            "391/391 [==============================] - 2s 5ms/step - loss: 0.0474 - accuracy: 0.9858 - val_loss: 0.1043 - val_accuracy: 0.9726\n",
            "Epoch 14/100\n",
            "391/391 [==============================] - 2s 5ms/step - loss: 0.0440 - accuracy: 0.9868 - val_loss: 0.1011 - val_accuracy: 0.9736\n",
            "Epoch 15/100\n",
            "391/391 [==============================] - 2s 5ms/step - loss: 0.0399 - accuracy: 0.9879 - val_loss: 0.1047 - val_accuracy: 0.9733\n",
            "Epoch 16/100\n",
            "391/391 [==============================] - 2s 4ms/step - loss: 0.0384 - accuracy: 0.9876 - val_loss: 0.1067 - val_accuracy: 0.9721\n",
            "Epoch 17/100\n",
            "391/391 [==============================] - 2s 5ms/step - loss: 0.0338 - accuracy: 0.9895 - val_loss: 0.1094 - val_accuracy: 0.9722\n",
            "Epoch 18/100\n",
            "391/391 [==============================] - 2s 5ms/step - loss: 0.0308 - accuracy: 0.9906 - val_loss: 0.1072 - val_accuracy: 0.9720\n",
            "Epoch 19/100\n",
            "391/391 [==============================] - 2s 4ms/step - loss: 0.0289 - accuracy: 0.9908 - val_loss: 0.1177 - val_accuracy: 0.9723\n",
            "Epoch 20/100\n",
            "391/391 [==============================] - 2s 5ms/step - loss: 0.0275 - accuracy: 0.9916 - val_loss: 0.1215 - val_accuracy: 0.9718\n",
            "Epoch 21/100\n",
            "391/391 [==============================] - 2s 5ms/step - loss: 0.0244 - accuracy: 0.9918 - val_loss: 0.1176 - val_accuracy: 0.9725\n",
            "Best epoch: 11\n",
            "Epoch 1/13\n",
            "469/469 [==============================] - 2s 4ms/step - loss: 0.0411 - accuracy: 0.9891\n",
            "Epoch 2/13\n",
            "469/469 [==============================] - 2s 4ms/step - loss: 0.0369 - accuracy: 0.9895\n",
            "Epoch 3/13\n",
            "469/469 [==============================] - 2s 4ms/step - loss: 0.0331 - accuracy: 0.9900\n",
            "Epoch 4/13\n",
            "469/469 [==============================] - 2s 4ms/step - loss: 0.0312 - accuracy: 0.9904\n",
            "Epoch 5/13\n",
            "469/469 [==============================] - 2s 4ms/step - loss: 0.0269 - accuracy: 0.9918\n",
            "Epoch 6/13\n",
            "469/469 [==============================] - 2s 4ms/step - loss: 0.0268 - accuracy: 0.9916\n",
            "Epoch 7/13\n",
            "469/469 [==============================] - 2s 4ms/step - loss: 0.0250 - accuracy: 0.9921\n",
            "Epoch 8/13\n",
            "469/469 [==============================] - 2s 4ms/step - loss: 0.0232 - accuracy: 0.9932\n",
            "Epoch 9/13\n",
            "469/469 [==============================] - 2s 4ms/step - loss: 0.0219 - accuracy: 0.9932\n",
            "Epoch 10/13\n",
            "469/469 [==============================] - 2s 4ms/step - loss: 0.0196 - accuracy: 0.9938\n",
            "Epoch 11/13\n",
            "469/469 [==============================] - 2s 4ms/step - loss: 0.0190 - accuracy: 0.9942\n",
            "Epoch 12/13\n",
            "469/469 [==============================] - 2s 4ms/step - loss: 0.0180 - accuracy: 0.9941\n",
            "Epoch 13/13\n",
            "469/469 [==============================] - 2s 4ms/step - loss: 0.0163 - accuracy: 0.9949\n",
            "313/313 [==============================] - 1s 3ms/step - loss: 0.1139 - accuracy: 0.9748\n",
            "Epoch 1/100\n",
            "391/391 [==============================] - 3s 5ms/step - loss: 0.5539 - accuracy: 0.8548 - val_loss: 0.2484 - val_accuracy: 0.9285\n",
            "Epoch 2/100\n",
            "391/391 [==============================] - 2s 5ms/step - loss: 0.2632 - accuracy: 0.9243 - val_loss: 0.2041 - val_accuracy: 0.9394\n",
            "Epoch 3/100\n",
            "391/391 [==============================] - 2s 5ms/step - loss: 0.2080 - accuracy: 0.9404 - val_loss: 0.1690 - val_accuracy: 0.9501\n",
            "Epoch 4/100\n",
            "391/391 [==============================] - 2s 5ms/step - loss: 0.1749 - accuracy: 0.9490 - val_loss: 0.1572 - val_accuracy: 0.9550\n",
            "Epoch 5/100\n",
            "391/391 [==============================] - 2s 5ms/step - loss: 0.1517 - accuracy: 0.9567 - val_loss: 0.1433 - val_accuracy: 0.9585\n",
            "Epoch 6/100\n",
            "391/391 [==============================] - 2s 5ms/step - loss: 0.1385 - accuracy: 0.9596 - val_loss: 0.1309 - val_accuracy: 0.9606\n",
            "Epoch 7/100\n",
            "391/391 [==============================] - 2s 5ms/step - loss: 0.1240 - accuracy: 0.9643 - val_loss: 0.1332 - val_accuracy: 0.9601\n",
            "Epoch 8/100\n",
            "391/391 [==============================] - 2s 5ms/step - loss: 0.1160 - accuracy: 0.9667 - val_loss: 0.1310 - val_accuracy: 0.9635\n",
            "Epoch 9/100\n",
            "391/391 [==============================] - 2s 5ms/step - loss: 0.1076 - accuracy: 0.9684 - val_loss: 0.1224 - val_accuracy: 0.9657\n",
            "Epoch 10/100\n",
            "391/391 [==============================] - 2s 5ms/step - loss: 0.1014 - accuracy: 0.9707 - val_loss: 0.1188 - val_accuracy: 0.9656\n",
            "Epoch 11/100\n",
            "391/391 [==============================] - 3s 7ms/step - loss: 0.0955 - accuracy: 0.9714 - val_loss: 0.1159 - val_accuracy: 0.9686\n",
            "Epoch 12/100\n",
            "391/391 [==============================] - 2s 5ms/step - loss: 0.0896 - accuracy: 0.9739 - val_loss: 0.1253 - val_accuracy: 0.9645\n",
            "Epoch 13/100\n",
            "391/391 [==============================] - 2s 5ms/step - loss: 0.0860 - accuracy: 0.9750 - val_loss: 0.1179 - val_accuracy: 0.9677\n",
            "Epoch 14/100\n",
            "391/391 [==============================] - 2s 5ms/step - loss: 0.0811 - accuracy: 0.9763 - val_loss: 0.1195 - val_accuracy: 0.9674\n",
            "Epoch 15/100\n",
            "391/391 [==============================] - 2s 5ms/step - loss: 0.0769 - accuracy: 0.9771 - val_loss: 0.1172 - val_accuracy: 0.9681\n",
            "Epoch 16/100\n",
            "391/391 [==============================] - 2s 5ms/step - loss: 0.0732 - accuracy: 0.9784 - val_loss: 0.1210 - val_accuracy: 0.9675\n",
            "Epoch 17/100\n",
            "391/391 [==============================] - 2s 5ms/step - loss: 0.0701 - accuracy: 0.9790 - val_loss: 0.1226 - val_accuracy: 0.9672\n",
            "Epoch 18/100\n",
            "391/391 [==============================] - 4s 9ms/step - loss: 0.0666 - accuracy: 0.9795 - val_loss: 0.1228 - val_accuracy: 0.9683\n",
            "Epoch 19/100\n",
            "391/391 [==============================] - 3s 8ms/step - loss: 0.0641 - accuracy: 0.9808 - val_loss: 0.1214 - val_accuracy: 0.9668\n",
            "Epoch 20/100\n",
            "391/391 [==============================] - 3s 6ms/step - loss: 0.0622 - accuracy: 0.9807 - val_loss: 0.1214 - val_accuracy: 0.9695\n",
            "Epoch 21/100\n",
            "391/391 [==============================] - 2s 5ms/step - loss: 0.0575 - accuracy: 0.9829 - val_loss: 0.1284 - val_accuracy: 0.9684\n",
            "Best epoch: 11\n",
            "Epoch 1/13\n",
            "469/469 [==============================] - 2s 4ms/step - loss: 0.0725 - accuracy: 0.9790\n",
            "Epoch 2/13\n",
            "469/469 [==============================] - 2s 4ms/step - loss: 0.0669 - accuracy: 0.9807\n",
            "Epoch 3/13\n",
            "469/469 [==============================] - 2s 4ms/step - loss: 0.0637 - accuracy: 0.9810\n",
            "Epoch 4/13\n",
            "469/469 [==============================] - 2s 4ms/step - loss: 0.0615 - accuracy: 0.9817\n",
            "Epoch 5/13\n",
            "469/469 [==============================] - 2s 4ms/step - loss: 0.0584 - accuracy: 0.9824\n",
            "Epoch 6/13\n",
            "469/469 [==============================] - 2s 4ms/step - loss: 0.0554 - accuracy: 0.9837\n",
            "Epoch 7/13\n",
            "469/469 [==============================] - 2s 4ms/step - loss: 0.0543 - accuracy: 0.9839\n",
            "Epoch 8/13\n",
            "469/469 [==============================] - 2s 4ms/step - loss: 0.0529 - accuracy: 0.9838\n",
            "Epoch 9/13\n",
            "469/469 [==============================] - 2s 4ms/step - loss: 0.0509 - accuracy: 0.9849\n",
            "Epoch 10/13\n",
            "469/469 [==============================] - 2s 5ms/step - loss: 0.0490 - accuracy: 0.9847\n",
            "Epoch 11/13\n",
            "469/469 [==============================] - 2s 5ms/step - loss: 0.0487 - accuracy: 0.9853\n",
            "Epoch 12/13\n",
            "469/469 [==============================] - 2s 4ms/step - loss: 0.0463 - accuracy: 0.9861\n",
            "Epoch 13/13\n",
            "469/469 [==============================] - 2s 4ms/step - loss: 0.0450 - accuracy: 0.9862\n",
            "313/313 [==============================] - 1s 3ms/step - loss: 0.1321 - accuracy: 0.9669\n",
            "Epoch 1/100\n",
            "391/391 [==============================] - 2s 5ms/step - loss: 0.7806 - accuracy: 0.7639 - val_loss: 0.3135 - val_accuracy: 0.9115\n",
            "Epoch 2/100\n",
            "391/391 [==============================] - 2s 4ms/step - loss: 0.3034 - accuracy: 0.9118 - val_loss: 0.2381 - val_accuracy: 0.9303\n",
            "Epoch 3/100\n",
            "391/391 [==============================] - 2s 4ms/step - loss: 0.2464 - accuracy: 0.9281 - val_loss: 0.2124 - val_accuracy: 0.9367\n",
            "Epoch 4/100\n",
            "391/391 [==============================] - 2s 4ms/step - loss: 0.2164 - accuracy: 0.9358 - val_loss: 0.1938 - val_accuracy: 0.9450\n",
            "Epoch 5/100\n",
            "391/391 [==============================] - 2s 4ms/step - loss: 0.1976 - accuracy: 0.9417 - val_loss: 0.1888 - val_accuracy: 0.9442\n",
            "Epoch 6/100\n",
            "391/391 [==============================] - 2s 5ms/step - loss: 0.1822 - accuracy: 0.9456 - val_loss: 0.1745 - val_accuracy: 0.9504\n",
            "Epoch 7/100\n",
            "391/391 [==============================] - 2s 4ms/step - loss: 0.1725 - accuracy: 0.9492 - val_loss: 0.1699 - val_accuracy: 0.9499\n",
            "Epoch 8/100\n",
            "391/391 [==============================] - 2s 4ms/step - loss: 0.1641 - accuracy: 0.9520 - val_loss: 0.1714 - val_accuracy: 0.9502\n",
            "Epoch 9/100\n",
            "391/391 [==============================] - 2s 4ms/step - loss: 0.1569 - accuracy: 0.9537 - val_loss: 0.1735 - val_accuracy: 0.9497\n",
            "Epoch 10/100\n",
            "391/391 [==============================] - 2s 4ms/step - loss: 0.1500 - accuracy: 0.9558 - val_loss: 0.1708 - val_accuracy: 0.9490\n",
            "Epoch 11/100\n",
            "391/391 [==============================] - 2s 4ms/step - loss: 0.1447 - accuracy: 0.9570 - val_loss: 0.1697 - val_accuracy: 0.9522\n",
            "Epoch 12/100\n",
            "391/391 [==============================] - 2s 4ms/step - loss: 0.1405 - accuracy: 0.9587 - val_loss: 0.1644 - val_accuracy: 0.9522\n",
            "Epoch 13/100\n",
            "391/391 [==============================] - 2s 4ms/step - loss: 0.1355 - accuracy: 0.9602 - val_loss: 0.1660 - val_accuracy: 0.9531\n",
            "Epoch 14/100\n",
            "391/391 [==============================] - 2s 4ms/step - loss: 0.1332 - accuracy: 0.9599 - val_loss: 0.1608 - val_accuracy: 0.9547\n",
            "Epoch 15/100\n",
            "391/391 [==============================] - 2s 4ms/step - loss: 0.1278 - accuracy: 0.9628 - val_loss: 0.1641 - val_accuracy: 0.9535\n",
            "Epoch 16/100\n",
            "391/391 [==============================] - 2s 4ms/step - loss: 0.1235 - accuracy: 0.9631 - val_loss: 0.1548 - val_accuracy: 0.9546\n",
            "Epoch 17/100\n",
            "391/391 [==============================] - 2s 4ms/step - loss: 0.1212 - accuracy: 0.9639 - val_loss: 0.1567 - val_accuracy: 0.9549\n",
            "Epoch 18/100\n",
            "391/391 [==============================] - 2s 5ms/step - loss: 0.1165 - accuracy: 0.9651 - val_loss: 0.1561 - val_accuracy: 0.9550\n",
            "Epoch 19/100\n",
            "391/391 [==============================] - 2s 4ms/step - loss: 0.1145 - accuracy: 0.9662 - val_loss: 0.1550 - val_accuracy: 0.9546\n",
            "Epoch 20/100\n",
            "391/391 [==============================] - 2s 4ms/step - loss: 0.1110 - accuracy: 0.9668 - val_loss: 0.1565 - val_accuracy: 0.9555\n",
            "Epoch 21/100\n",
            "391/391 [==============================] - 2s 4ms/step - loss: 0.1087 - accuracy: 0.9674 - val_loss: 0.1633 - val_accuracy: 0.9547\n",
            "Epoch 22/100\n",
            "391/391 [==============================] - 2s 4ms/step - loss: 0.1049 - accuracy: 0.9678 - val_loss: 0.1577 - val_accuracy: 0.9558\n",
            "Epoch 23/100\n",
            "391/391 [==============================] - 2s 5ms/step - loss: 0.1030 - accuracy: 0.9687 - val_loss: 0.1565 - val_accuracy: 0.9566\n",
            "Epoch 24/100\n",
            "391/391 [==============================] - 2s 4ms/step - loss: 0.1005 - accuracy: 0.9694 - val_loss: 0.1645 - val_accuracy: 0.9548\n",
            "Epoch 25/100\n",
            "391/391 [==============================] - 2s 4ms/step - loss: 0.0996 - accuracy: 0.9699 - val_loss: 0.1626 - val_accuracy: 0.9565\n",
            "Epoch 26/100\n",
            "391/391 [==============================] - 2s 4ms/step - loss: 0.0974 - accuracy: 0.9712 - val_loss: 0.1574 - val_accuracy: 0.9573\n",
            "Best epoch: 16\n",
            "Epoch 1/19\n",
            "469/469 [==============================] - 2s 4ms/step - loss: 0.1065 - accuracy: 0.9682\n",
            "Epoch 2/19\n",
            "469/469 [==============================] - 2s 4ms/step - loss: 0.1030 - accuracy: 0.9689\n",
            "Epoch 3/19\n",
            "469/469 [==============================] - 2s 4ms/step - loss: 0.0984 - accuracy: 0.9704\n",
            "Epoch 4/19\n",
            "469/469 [==============================] - 2s 4ms/step - loss: 0.0969 - accuracy: 0.9706\n",
            "Epoch 5/19\n",
            "469/469 [==============================] - 2s 4ms/step - loss: 0.0959 - accuracy: 0.9712\n",
            "Epoch 6/19\n",
            "469/469 [==============================] - 2s 4ms/step - loss: 0.0932 - accuracy: 0.9719\n",
            "Epoch 7/19\n",
            "469/469 [==============================] - 2s 4ms/step - loss: 0.0915 - accuracy: 0.9714\n",
            "Epoch 8/19\n",
            "469/469 [==============================] - 2s 4ms/step - loss: 0.0900 - accuracy: 0.9722\n",
            "Epoch 9/19\n",
            "469/469 [==============================] - 2s 4ms/step - loss: 0.0874 - accuracy: 0.9731\n",
            "Epoch 10/19\n",
            "469/469 [==============================] - 2s 4ms/step - loss: 0.0866 - accuracy: 0.9729\n",
            "Epoch 11/19\n",
            "469/469 [==============================] - 2s 4ms/step - loss: 0.0849 - accuracy: 0.9744\n",
            "Epoch 12/19\n",
            "469/469 [==============================] - 2s 4ms/step - loss: 0.0846 - accuracy: 0.9743\n",
            "Epoch 13/19\n",
            "469/469 [==============================] - 2s 4ms/step - loss: 0.0833 - accuracy: 0.9744\n",
            "Epoch 14/19\n",
            "469/469 [==============================] - 2s 4ms/step - loss: 0.0806 - accuracy: 0.9746\n",
            "Epoch 15/19\n",
            "469/469 [==============================] - 2s 4ms/step - loss: 0.0799 - accuracy: 0.9748\n",
            "Epoch 16/19\n",
            "469/469 [==============================] - 2s 4ms/step - loss: 0.0806 - accuracy: 0.9749\n",
            "Epoch 17/19\n",
            "469/469 [==============================] - 2s 4ms/step - loss: 0.0785 - accuracy: 0.9750\n",
            "Epoch 18/19\n",
            "469/469 [==============================] - 2s 4ms/step - loss: 0.0762 - accuracy: 0.9761\n",
            "Epoch 19/19\n",
            "469/469 [==============================] - 2s 4ms/step - loss: 0.0762 - accuracy: 0.9762\n",
            "313/313 [==============================] - 1s 3ms/step - loss: 0.1615 - accuracy: 0.9564\n"
          ]
        }
      ]
    },
    {
      "cell_type": "markdown",
      "source": [
        "Note that if you’re not worried about slightly underperforming, there’s a shortcut you can take: just use the tuner to reload the top-performing models with the best weights saved during the hyperparameter search, without retraining new models from scratch:"
      ],
      "metadata": {
        "id": "_mQx8qWNEMOA"
      }
    },
    {
      "cell_type": "code",
      "source": [
        "models = tuner.get_best_models(top_n)\n",
        "best_model = models[0]\n",
        "# Build the model.\n",
        "# Needed for `Sequential` without specified `input_shape`.\n",
        "best_model.build(input_shape=(None, 28, 28))\n",
        "best_model.summary()"
      ],
      "metadata": {
        "colab": {
          "base_uri": "https://localhost:8080/"
        },
        "id": "ZpO4qvi3DmWx",
        "outputId": "5fe08a3f-9b2f-4f73-96b5-7af6d8158bef"
      },
      "execution_count": null,
      "outputs": [
        {
          "output_type": "stream",
          "name": "stdout",
          "text": [
            "Model: \"sequential\"\n",
            "_________________________________________________________________\n",
            " Layer (type)                Output Shape              Param #   \n",
            "=================================================================\n",
            " flatten (Flatten)           (None, 784)               0         \n",
            "                                                                 \n",
            " dense (Dense)               (None, 64)                50240     \n",
            "                                                                 \n",
            " dense_1 (Dense)             (None, 64)                4160      \n",
            "                                                                 \n",
            " dropout (Dropout)           (None, 64)                0         \n",
            "                                                                 \n",
            " dense_2 (Dense)             (None, 10)                650       \n",
            "                                                                 \n",
            "=================================================================\n",
            "Total params: 55,050\n",
            "Trainable params: 55,050\n",
            "Non-trainable params: 0\n",
            "_________________________________________________________________\n"
          ]
        }
      ]
    },
    {
      "cell_type": "markdown",
      "source": [
        "You can also print a summary of the search results."
      ],
      "metadata": {
        "id": "1206hu5O65Yg"
      }
    },
    {
      "cell_type": "code",
      "source": [
        "tuner.results_summary()"
      ],
      "metadata": {
        "colab": {
          "base_uri": "https://localhost:8080/"
        },
        "id": "rG_Ja-KUIjjL",
        "outputId": "39268fa5-1b09-4ce8-b9da-b3d42548e203"
      },
      "execution_count": null,
      "outputs": [
        {
          "output_type": "stream",
          "name": "stdout",
          "text": [
            "Results summary\n",
            "Results in mnist_kt_test/untitled_project\n",
            "Showing 10 best trials\n",
            "<keras_tuner.engine.objective.Objective object at 0x7fad5ab99c50>\n",
            "Trial summary\n",
            "Hyperparameters:\n",
            "num_layers: 2\n",
            "units: 64\n",
            "activation: tanh\n",
            "dropout: True\n",
            "lr: 0.01\n",
            "optimizer: rmsprop\n",
            "Score: 0.9752499759197235\n",
            "Trial summary\n",
            "Hyperparameters:\n",
            "num_layers: 3\n",
            "units: 32\n",
            "activation: tanh\n",
            "dropout: True\n",
            "lr: 0.0007279554359283472\n",
            "optimizer: rmsprop\n",
            "Score: 0.9690499901771545\n",
            "Trial summary\n",
            "Hyperparameters:\n",
            "num_layers: 3\n",
            "units: 16\n",
            "activation: relu\n",
            "dropout: False\n",
            "lr: 0.00014532569603585666\n",
            "optimizer: adam\n",
            "Score: 0.9558500051498413\n"
          ]
        }
      ]
    },
    {
      "cell_type": "markdown",
      "source": [
        "### Tune model training"
      ],
      "metadata": {
        "id": "rxP0SZKCIpv4"
      }
    },
    {
      "cell_type": "markdown",
      "source": [
        "To tune the model building process, we need to subclass the `HyperModel` class, which also makes it easy to share and reuse hypermodels.\n",
        "\n",
        "We need to override `HyperModel.build()` and `HyperModel.fit()` to tune the model building and training process respectively. A `HyperModel.build()` method is the same as the model-building function, which creates a Keras model using the hyperparameters and returns it."
      ],
      "metadata": {
        "id": "OqBOGiDOPy36"
      }
    },
    {
      "cell_type": "code",
      "source": [
        "class MyHyperModel(kt.HyperModel):\n",
        "    def build(self, hp):\n",
        "        model = keras.Sequential()\n",
        "        model.add(layers.Flatten())\n",
        "        model.add(\n",
        "            layers.Dense(\n",
        "                units=hp.Int(\"units\", min_value=32, max_value=512, step=32),\n",
        "                activation=\"relu\",\n",
        "            )\n",
        "        )\n",
        "        model.add(layers.Dense(10, activation=\"softmax\"))\n",
        "        model.compile(\n",
        "            optimizer=\"adam\", loss=\"categorical_crossentropy\", metrics=[\"accuracy\"],\n",
        "        )\n",
        "        return model\n",
        "\n",
        "    def fit(self, hp, model, *args, **kwargs):\n",
        "        return model.fit(\n",
        "            *args,\n",
        "            # Tune whether to shuffle the data in each epoch.\n",
        "            shuffle=hp.Boolean(\"shuffle\"),\n",
        "            **kwargs,\n",
        "        )"
      ],
      "metadata": {
        "id": "115IgIjKPrvb"
      },
      "execution_count": null,
      "outputs": []
    },
    {
      "cell_type": "markdown",
      "source": [
        "We can do a quick check to see if the code works correctly by using a small amount of random data."
      ],
      "metadata": {
        "id": "Qyfl5xgIQG9M"
      }
    },
    {
      "cell_type": "code",
      "source": [
        "hp = kt.HyperParameters()\n",
        "hypermodel = MyHyperModel()\n",
        "model = hypermodel.build(hp)\n",
        "hypermodel.fit(hp, model, np.random.rand(100, 28, 28), np.random.rand(100, 10))"
      ],
      "metadata": {
        "colab": {
          "base_uri": "https://localhost:8080/"
        },
        "id": "TqRb-ClvQE31",
        "outputId": "7b6ecedd-ff15-46f3-f5f8-1dec72eb9bb7"
      },
      "execution_count": null,
      "outputs": [
        {
          "output_type": "stream",
          "name": "stdout",
          "text": [
            "4/4 [==============================] - 1s 5ms/step - loss: 12.2643 - accuracy: 0.1800\n"
          ]
        },
        {
          "output_type": "execute_result",
          "data": {
            "text/plain": [
              "<keras.callbacks.History at 0x7fad5527a990>"
            ]
          },
          "metadata": {},
          "execution_count": 18
        }
      ]
    },
    {
      "cell_type": "markdown",
      "source": [
        "### Tune data preprocessing"
      ],
      "metadata": {
        "id": "3Fd8CnrcQWbB"
      }
    },
    {
      "cell_type": "markdown",
      "source": [
        "To tune data preprocessing, we just add an additional step in `HyperModel.fit()`, where we can access the dataset from the arguments. In the following code, we tune whether to normalize the data before training the model. This time we explicitly put x and y in the function signature because we need to use them."
      ],
      "metadata": {
        "id": "CqEBm0aEQYS5"
      }
    },
    {
      "cell_type": "code",
      "source": [
        "class MyHyperModel(kt.HyperModel):\n",
        "    def build(self, hp):\n",
        "        model = keras.Sequential()\n",
        "        model.add(layers.Flatten())\n",
        "        model.add(\n",
        "            layers.Dense(\n",
        "                units=hp.Int(\"units\", min_value=32, max_value=512, step=32),\n",
        "                activation=\"relu\",\n",
        "            )\n",
        "        )\n",
        "        model.add(layers.Dense(10, activation=\"softmax\"))\n",
        "        model.compile(\n",
        "            optimizer=\"adam\", loss=\"categorical_crossentropy\", metrics=[\"accuracy\"],\n",
        "        )\n",
        "        return model\n",
        "\n",
        "    def fit(self, hp, model, x, y, **kwargs):\n",
        "        if hp.Boolean(\"normalize\"):\n",
        "            x = layers.Normalization()(x)\n",
        "        return model.fit(\n",
        "            x,\n",
        "            y,\n",
        "            # Tune whether to shuffle the data in each epoch.\n",
        "            shuffle=hp.Boolean(\"shuffle\"),\n",
        "            **kwargs,\n",
        "        )\n",
        "\n",
        "\n",
        "hp = kt.HyperParameters()\n",
        "hypermodel = MyHyperModel()\n",
        "model = hypermodel.build(hp)\n",
        "hypermodel.fit(hp, model, np.random.rand(100, 28, 28), np.random.rand(100, 10))"
      ],
      "metadata": {
        "colab": {
          "base_uri": "https://localhost:8080/"
        },
        "id": "g7Cy12_UQN3X",
        "outputId": "467ba950-2b96-43eb-e4b7-4376a0082772"
      },
      "execution_count": null,
      "outputs": [
        {
          "output_type": "stream",
          "name": "stdout",
          "text": [
            "4/4 [==============================] - 1s 5ms/step - loss: 13.0625 - accuracy: 0.1000\n"
          ]
        },
        {
          "output_type": "execute_result",
          "data": {
            "text/plain": [
              "<keras.callbacks.History at 0x7fad559de110>"
            ]
          },
          "metadata": {},
          "execution_count": 19
        }
      ]
    },
    {
      "cell_type": "markdown",
      "source": [
        "For more information, please refer to https://keras.io/keras_tuner/"
      ],
      "metadata": {
        "id": "TOkmR4ZzREAa"
      }
    },
    {
      "cell_type": "markdown",
      "source": [
        "# Few-Shot learning with model agnostic meta-learning"
      ],
      "metadata": {
        "id": "lnlqq1oWTJHq"
      }
    },
    {
      "cell_type": "markdown",
      "source": [
        "The Reptile algorithm was developed by OpenAI to perform model agnostic meta-learning. Specifically, this algorithm was designed to quickly learn to perform new tasks with minimal training (few-shot learning). The algorithm works by performing Stochastic Gradient Descent using the difference between weights trained on a mini-batch of never before seen data and the model weights prior to training over a fixed number of meta-iterations."
      ],
      "metadata": {
        "id": "P5YvkC5OTUTi"
      }
    },
    {
      "cell_type": "code",
      "source": [
        "learning_rate = 0.003\n",
        "meta_step_size = 0.25\n",
        "\n",
        "inner_batch_size = 25\n",
        "eval_batch_size = 25\n",
        "\n",
        "meta_iters = 2000\n",
        "eval_iters = 5\n",
        "inner_iters = 4\n",
        "\n",
        "eval_interval = 1\n",
        "train_shots = 20\n",
        "shots = 5\n",
        "classes = 5"
      ],
      "metadata": {
        "id": "iswchPNnRGo0"
      },
      "execution_count": null,
      "outputs": []
    },
    {
      "cell_type": "markdown",
      "source": [
        "## Prepare the data"
      ],
      "metadata": {
        "id": "zB8m6xLRTiP6"
      }
    },
    {
      "cell_type": "markdown",
      "source": [
        "The Omniglot dataset is a dataset of 1,623 characters taken from 50 different alphabets, with 20 examples for each character. The 20 samples for each character were drawn online via Amazon's Mechanical Turk. For the few-shot learning task, k samples (or \"shots\") are drawn randomly from n randomly-chosen classes. These n numerical values are used to create a new set of temporary labels to use to test the model's ability to learn a new task given few examples. In other words, if you are training on 5 classes, your new class labels will be either 0, 1, 2, 3, or 4. \n",
        "\n",
        "Omniglot is a great dataset for this task since there are many different classes to draw from, with a reasonable number of samples for each class."
      ],
      "metadata": {
        "id": "Q0cO1a5NTmDy"
      }
    },
    {
      "cell_type": "code",
      "source": [
        "class Dataset:\n",
        "    # This class will facilitate the creation of a few-shot dataset\n",
        "    # from the Omniglot dataset that can be sampled from quickly while also\n",
        "    # allowing to create new labels at the same time.\n",
        "    def __init__(self, training):\n",
        "        # Download the tfrecord files containing the omniglot data and convert to a\n",
        "        # dataset.\n",
        "        split = \"train\" if training else \"test\"\n",
        "        ds = tfds.load(\"omniglot\", split=split, as_supervised=True, shuffle_files=False)\n",
        "        # Iterate over the dataset to get each individual image and its class,\n",
        "        # and put that data into a dictionary.\n",
        "        self.data = {}\n",
        "\n",
        "        def extraction(image, label):\n",
        "            # This function will shrink the Omniglot images to the desired size,\n",
        "            # scale pixel values and convert the RGB image to grayscale\n",
        "            image = tf.image.convert_image_dtype(image, tf.float32)\n",
        "            image = tf.image.rgb_to_grayscale(image)\n",
        "            image = tf.image.resize(image, [28, 28])\n",
        "            return image, label\n",
        "\n",
        "        for image, label in ds.map(extraction):\n",
        "            image = image.numpy()\n",
        "            label = str(label.numpy())\n",
        "            if label not in self.data:\n",
        "                self.data[label] = []\n",
        "            self.data[label].append(image)\n",
        "        self.labels = list(self.data.keys())\n",
        "\n",
        "    def get_mini_dataset(\n",
        "        self, batch_size, repetitions, shots, num_classes, split=False\n",
        "    ):\n",
        "        temp_labels = np.zeros(shape=(num_classes * shots))\n",
        "        temp_images = np.zeros(shape=(num_classes * shots, 28, 28, 1))\n",
        "        if split:\n",
        "            test_labels = np.zeros(shape=(num_classes))\n",
        "            test_images = np.zeros(shape=(num_classes, 28, 28, 1))\n",
        "\n",
        "        # Get a random subset of labels from the entire label set.\n",
        "        label_subset = random.choices(self.labels, k=num_classes)\n",
        "        for class_idx, class_obj in enumerate(label_subset):\n",
        "            # Use enumerated index value as a temporary label for mini-batch in\n",
        "            # few shot learning.\n",
        "            temp_labels[class_idx * shots : (class_idx + 1) * shots] = class_idx\n",
        "            # If creating a split dataset for testing, select an extra sample from each\n",
        "            # label to create the test dataset.\n",
        "            if split:\n",
        "                test_labels[class_idx] = class_idx\n",
        "                images_to_split = random.choices(\n",
        "                    self.data[label_subset[class_idx]], k=shots + 1\n",
        "                )\n",
        "                test_images[class_idx] = images_to_split[-1]\n",
        "                temp_images[\n",
        "                    class_idx * shots : (class_idx + 1) * shots\n",
        "                ] = images_to_split[:-1]\n",
        "            else:\n",
        "                # For each index in the randomly selected label_subset, sample the\n",
        "                # necessary number of images.\n",
        "                temp_images[\n",
        "                    class_idx * shots : (class_idx + 1) * shots\n",
        "                ] = random.choices(self.data[label_subset[class_idx]], k=shots)\n",
        "\n",
        "        dataset = tf.data.Dataset.from_tensor_slices(\n",
        "            (temp_images.astype(np.float32), temp_labels.astype(np.int32))\n",
        "        )\n",
        "        dataset = dataset.shuffle(100).batch(batch_size).repeat(repetitions)\n",
        "        if split:\n",
        "            return dataset, test_images, test_labels\n",
        "        return dataset"
      ],
      "metadata": {
        "id": "p4D7OH_TThxL"
      },
      "execution_count": null,
      "outputs": []
    },
    {
      "cell_type": "code",
      "source": [
        "import urllib3\n",
        "\n",
        "urllib3.disable_warnings()  # Disable SSL warnings that may happen during download.\n",
        "train_dataset = Dataset(training=True)\n",
        "test_dataset = Dataset(training=False)"
      ],
      "metadata": {
        "colab": {
          "base_uri": "https://localhost:8080/",
          "height": 397,
          "referenced_widgets": [
            "e5a0920b37204a0aad4585501797ea16",
            "c1cbfbccfd4744f5b1b1beadf69f7f04",
            "47b13693e1a14308b9afe0c919eaf13a",
            "7b8bcb59010e45ed8cd82175ff9392e5",
            "604d4f7f2c3040eaa4425d860c5ff2fa",
            "2edb2a78988b4f4ab6ddeda989ef212d",
            "6e466e720c99470db9910ed4b8085aae",
            "1425fc1d46aa4145978ece73434a30a5",
            "864734ec492d46738664388abb8a8956",
            "e7f8cb11067041a1ab4de09b76f23c62",
            "82a10aba7ce643fb956585aedb0f6a69",
            "72d99a0067f845b996174cc4ffb249b7",
            "baedd5ac68fc460684338e1eab2fa3ee",
            "20a00f5bf1bb4ffa95e60a5dda97c855",
            "9f7c9205b7bf4b8892712544a004ef3f",
            "1c3972f6e7eb4e12a2283febdbaa18d2",
            "1372f40351de45438441b3b7e90e69d6",
            "b0e8bd2914414dae8fa206f7e4348fd9",
            "c86030d73e594e7fa2e4046b7fb020eb",
            "ea584e487c994689959fa0c5d63453f2",
            "d40fc051152443138e8ada96541c733a",
            "64027b8b90694d639c7ac572407e8f17",
            "7b21b497ec45467389b5ec11a78c8a70",
            "c942921e93ea47468c56dba18189ef3e",
            "8a27bd3c650441de9e1ae7289a7f0c42",
            "f0e9997af1f0415e9ff053f7dffdd526",
            "7220ee70bdd84e67b6e13fba0afb9b08",
            "9d4e32daad284fe48a35a693801238a9",
            "f29541b346ca4e1996b21c1b923a0ba1",
            "8846b0a647434c71be75b8df03e4b4e7",
            "1c70a564b5ad422ab8834268fd3600d2",
            "375c64834aa7473897e5d699cb9ff59c",
            "8ba28562fafb4821bf39c71312ebff58",
            "822eb8def5ee4593a533d54fa09f5c0a",
            "6298d5105a7f4b14854c77a3075e015b",
            "b5ecaf7808da4a338cd856d9cf44e89a",
            "912f0aa80f394d0b919036a424ec51cc",
            "1c7beef1e4f04d69ae8a78da48f641ba",
            "37d5b1f73ccb43cab8495538e836f03a",
            "923a5ff23b6a429285f0988b5a712517",
            "ab9bee72248740a18a7ff874c63f1b71",
            "367942d42c454de1bb1c8a8d400cca59",
            "6fb94ec3ac974451ad671a4cb552f08a",
            "a05facac798d4446b245709c46dfb090",
            "0a6b837296d948c79d18fd615a616e2f",
            "871b7d869a4b48e291b5d828bc8d34cc",
            "e4d45d0c43fe4632a8993df0bd62273d",
            "adfbfd8b33c14e41b796a24ebff8209e",
            "ef73ce21e02643a8b23a146500dc2648",
            "82fcb3523e3e4c48b142897de31c4394",
            "6c1dfb6d543f4b9bb4e9692bc782980e",
            "42c4947ed4d44c74890642968bc87442",
            "c1e91e85d6f54cc58709b64d08164393",
            "34b50657941048a58ccbf7831eefcf41",
            "378c21a354c743059574d20b8de4d565",
            "894023bf3ebe4fa3a5d195fcce13ffbb",
            "54a8c1bcbfc242fdb451e7253ff4f13f",
            "82b6e61ccc8b4b90a6b1f526c2f86936",
            "2ae361d1ac714652b69be337be9105fc",
            "f4c38ff7508146c5880842e102672df9",
            "5fea314d8aca40f1b0106b4e2a83d2c8",
            "0e4abe0679154813843e7b49debb1e8e",
            "324d3dbac2624b51b9f92ae02e31acdb",
            "29d18e2e5e2e4d538de4a573873cd01f",
            "135ad23150cd469697adc07415d3e16e",
            "56a3f105ce3c4a22b0a51d8565b63763",
            "efe339d7f200402fa06401153526bee4",
            "76eade9a331f4b1786282e2cf7875def",
            "fe2bdc6bcb2e401389554f493c542e47",
            "d55a7cc8cd5a4030bbc8165c202b009b",
            "817b17a449684295b11436ddc977b7e9",
            "155432ed1a464e2da890dc0c6f16f4a7",
            "fd8a80a886da498d8cf681af68853421",
            "74cc5f4fdfd445288ca25dcf75982546",
            "d2760d3fff4a4e658dbd36cdd8199878",
            "c9162f9330db4a60ae0f1e4435ec4bad",
            "6021c1de5de14fff9e9a6c8276644812",
            "8a9ca0cb02474c5e88f442a52df9bef5",
            "9684eb91275e403d907fe43072a71c62",
            "857397c66bd64c2b8aedb74577a204f9",
            "bed35abe399c4affb92e277cdef09dcc",
            "48f6038030664733be98c889ef919ceb",
            "ae8cebd5b0254e0297b9b845ac9f64c7",
            "93b793fddc714972a78bf850227d0214",
            "dad23e8284e744e4978d9a28483aa3f9",
            "fe638d005d6f40078f1e02ff8ae1979e",
            "58d9ecc46b824d2db6b47e2b60def315",
            "d95bee96bc73476996a7b52ec5c10b4a",
            "c1e5b9eaa5fb4070bbab17981d15ca35",
            "a9e0a18b9017423591153577d699bc21",
            "72a6c1a0ea29468cb75e44de4bfd9d44",
            "33d82c2eb7a9461982a05efe26c694ab",
            "a3c3936fc0ce490eb8d2fb3af4b46e3f",
            "ad451d8bad714b508c3840f4a9e07296",
            "a375762c9a51494997a94b06dd2d440b",
            "e0e7c2a52de74a2f8507ee413991124a",
            "5a14f8c36bb04be384f7be8982194fd9",
            "ef9b436a633e4fa9935955663b20c287",
            "5bd0e478c59943abb9bba8d825249365",
            "830a75abc8e745b1acde2237d31df698",
            "070e5271ae9d4d16ac6bada4690b00f1",
            "ed864af5171b4fcca2957e3e9430f81a",
            "2bf41a67579d41c3a0589b2f102dddd6",
            "c0dc3c7085da4bc0a82e1e53256b2a4e",
            "cce9d2fd3237469a94c7475053090d74",
            "02345db1b481416698cde24afa4e3767",
            "9b3e8b4f2adf4d3680c8b5eaca36acf3",
            "e35952dc0c854c729db3b13abbc147b4",
            "406398795968488fa97c3e7242196441",
            "6d4203ecb5e54c76ac2fe9bf4c9b5fc0",
            "4da6642943a449ddb60c64297e1ab45f",
            "d4a1850db22a477288f8a237aedbd43f",
            "18cf4e5464f04056b567766ad87e8026",
            "b67ad1d6f3bf4e71baf17e3092cc4acf",
            "56128b724a3941bcbc8ea09737e17213",
            "d788ec6dd00445d99595d7ae4af3c40c",
            "3f8bada77f1440ceb153ac7b2ddcf08e",
            "7cd63898298d49818dc1aa4c6c77229e",
            "e62c0e13db0148a29b54f955ef363e99",
            "2a2d63ae47324235bff4659385cbed5b",
            "09cf282180b549049883e05261d77572"
          ]
        },
        "id": "8GvVbmCAThPu",
        "outputId": "c24d2496-fa23-46d5-bbcf-c0f6a010cf09"
      },
      "execution_count": null,
      "outputs": [
        {
          "output_type": "stream",
          "name": "stdout",
          "text": [
            "\u001b[1mDownloading and preparing dataset omniglot/3.0.0 (download: 17.95 MiB, generated: Unknown size, total: 17.95 MiB) to /root/tensorflow_datasets/omniglot/3.0.0...\u001b[0m\n"
          ]
        },
        {
          "output_type": "display_data",
          "data": {
            "text/plain": [
              "Dl Completed...: 0 url [00:00, ? url/s]"
            ],
            "application/vnd.jupyter.widget-view+json": {
              "version_major": 2,
              "version_minor": 0,
              "model_id": "e5a0920b37204a0aad4585501797ea16"
            }
          },
          "metadata": {}
        },
        {
          "output_type": "display_data",
          "data": {
            "text/plain": [
              "Dl Size...: 0 MiB [00:00, ? MiB/s]"
            ],
            "application/vnd.jupyter.widget-view+json": {
              "version_major": 2,
              "version_minor": 0,
              "model_id": "72d99a0067f845b996174cc4ffb249b7"
            }
          },
          "metadata": {}
        },
        {
          "output_type": "display_data",
          "data": {
            "text/plain": [
              "Extraction completed...: 0 file [00:00, ? file/s]"
            ],
            "application/vnd.jupyter.widget-view+json": {
              "version_major": 2,
              "version_minor": 0,
              "model_id": "7b21b497ec45467389b5ec11a78c8a70"
            }
          },
          "metadata": {}
        },
        {
          "output_type": "stream",
          "name": "stdout",
          "text": [
            "\n",
            "\n",
            "\n"
          ]
        },
        {
          "output_type": "display_data",
          "data": {
            "text/plain": [
              "0 examples [00:00, ? examples/s]"
            ],
            "application/vnd.jupyter.widget-view+json": {
              "version_major": 2,
              "version_minor": 0,
              "model_id": "822eb8def5ee4593a533d54fa09f5c0a"
            }
          },
          "metadata": {}
        },
        {
          "output_type": "stream",
          "name": "stdout",
          "text": [
            "Shuffling and writing examples to /root/tensorflow_datasets/omniglot/3.0.0.incompleteFKUV9F/omniglot-train.tfrecord\n"
          ]
        },
        {
          "output_type": "display_data",
          "data": {
            "text/plain": [
              "  0%|          | 0/19280 [00:00<?, ? examples/s]"
            ],
            "application/vnd.jupyter.widget-view+json": {
              "version_major": 2,
              "version_minor": 0,
              "model_id": "0a6b837296d948c79d18fd615a616e2f"
            }
          },
          "metadata": {}
        },
        {
          "output_type": "display_data",
          "data": {
            "text/plain": [
              "0 examples [00:00, ? examples/s]"
            ],
            "application/vnd.jupyter.widget-view+json": {
              "version_major": 2,
              "version_minor": 0,
              "model_id": "894023bf3ebe4fa3a5d195fcce13ffbb"
            }
          },
          "metadata": {}
        },
        {
          "output_type": "stream",
          "name": "stdout",
          "text": [
            "Shuffling and writing examples to /root/tensorflow_datasets/omniglot/3.0.0.incompleteFKUV9F/omniglot-test.tfrecord\n"
          ]
        },
        {
          "output_type": "display_data",
          "data": {
            "text/plain": [
              "  0%|          | 0/13180 [00:00<?, ? examples/s]"
            ],
            "application/vnd.jupyter.widget-view+json": {
              "version_major": 2,
              "version_minor": 0,
              "model_id": "efe339d7f200402fa06401153526bee4"
            }
          },
          "metadata": {}
        },
        {
          "output_type": "display_data",
          "data": {
            "text/plain": [
              "0 examples [00:00, ? examples/s]"
            ],
            "application/vnd.jupyter.widget-view+json": {
              "version_major": 2,
              "version_minor": 0,
              "model_id": "8a9ca0cb02474c5e88f442a52df9bef5"
            }
          },
          "metadata": {}
        },
        {
          "output_type": "stream",
          "name": "stdout",
          "text": [
            "Shuffling and writing examples to /root/tensorflow_datasets/omniglot/3.0.0.incompleteFKUV9F/omniglot-small1.tfrecord\n"
          ]
        },
        {
          "output_type": "display_data",
          "data": {
            "text/plain": [
              "  0%|          | 0/2720 [00:00<?, ? examples/s]"
            ],
            "application/vnd.jupyter.widget-view+json": {
              "version_major": 2,
              "version_minor": 0,
              "model_id": "c1e5b9eaa5fb4070bbab17981d15ca35"
            }
          },
          "metadata": {}
        },
        {
          "output_type": "display_data",
          "data": {
            "text/plain": [
              "0 examples [00:00, ? examples/s]"
            ],
            "application/vnd.jupyter.widget-view+json": {
              "version_major": 2,
              "version_minor": 0,
              "model_id": "830a75abc8e745b1acde2237d31df698"
            }
          },
          "metadata": {}
        },
        {
          "output_type": "stream",
          "name": "stdout",
          "text": [
            "Shuffling and writing examples to /root/tensorflow_datasets/omniglot/3.0.0.incompleteFKUV9F/omniglot-small2.tfrecord\n"
          ]
        },
        {
          "output_type": "display_data",
          "data": {
            "text/plain": [
              "  0%|          | 0/3120 [00:00<?, ? examples/s]"
            ],
            "application/vnd.jupyter.widget-view+json": {
              "version_major": 2,
              "version_minor": 0,
              "model_id": "4da6642943a449ddb60c64297e1ab45f"
            }
          },
          "metadata": {}
        },
        {
          "output_type": "stream",
          "name": "stdout",
          "text": [
            "\u001b[1mDataset omniglot downloaded and prepared to /root/tensorflow_datasets/omniglot/3.0.0. Subsequent calls will reuse this data.\u001b[0m\n"
          ]
        }
      ]
    },
    {
      "cell_type": "code",
      "source": [
        "# Visualize some examples from the dataset\n",
        "_, axarr = plt.subplots(nrows=5, ncols=5, figsize=(20, 20))\n",
        "\n",
        "sample_keys = list(train_dataset.data.keys())\n",
        "\n",
        "for a in range(5):\n",
        "    for b in range(5):\n",
        "        temp_image = train_dataset.data[sample_keys[a]][b]\n",
        "        temp_image = np.stack((temp_image[:, :, 0],) * 3, axis=2)\n",
        "        temp_image *= 255\n",
        "        temp_image = np.clip(temp_image, 0, 255).astype(\"uint8\")\n",
        "        if b == 2:\n",
        "            axarr[a, b].set_title(\"Class : \" + sample_keys[a])\n",
        "        axarr[a, b].imshow(temp_image, cmap=\"gray\")\n",
        "        axarr[a, b].xaxis.set_visible(False)\n",
        "        axarr[a, b].yaxis.set_visible(False)\n",
        "plt.show()"
      ],
      "metadata": {
        "colab": {
          "base_uri": "https://localhost:8080/",
          "height": 1000
        },
        "id": "QvW_UISaT_Qp",
        "outputId": "8e5ce985-1022-4156-e320-e7a3c18d8e3c"
      },
      "execution_count": null,
      "outputs": [
        {
          "output_type": "display_data",
          "data": {
            "text/plain": [
              "<Figure size 1440x1440 with 25 Axes>"
            ],
            "image/png": "[encoded data removed]"
          },
          "metadata": {
            "needs_background": "light"
          }
        }
      ]
    },
    {
      "cell_type": "markdown",
      "source": [
        "## Build and train the model"
      ],
      "metadata": {
        "id": "NhhPSYvpULLi"
      }
    },
    {
      "cell_type": "markdown",
      "source": [
        "Here, we will perform 5-way 5-shot classification"
      ],
      "metadata": {
        "id": "a3CPQTBTUPv7"
      }
    },
    {
      "cell_type": "code",
      "source": [
        "def conv_bn(x):\n",
        "    x = layers.Conv2D(filters=64, kernel_size=3, strides=2, padding=\"same\")(x)\n",
        "    x = layers.BatchNormalization()(x)\n",
        "    return layers.ReLU()(x)\n",
        "\n",
        "\n",
        "inputs = layers.Input(shape=(28, 28, 1))\n",
        "x = conv_bn(inputs)\n",
        "x = conv_bn(x)\n",
        "x = conv_bn(x)\n",
        "x = conv_bn(x)\n",
        "x = layers.Flatten()(x)\n",
        "outputs = layers.Dense(classes, activation=\"softmax\")(x)\n",
        "model = keras.Model(inputs=inputs, outputs=outputs)\n",
        "model.compile()\n",
        "optimizer = keras.optimizers.SGD(learning_rate=learning_rate)"
      ],
      "metadata": {
        "id": "5Txm0XZTUQpF"
      },
      "execution_count": null,
      "outputs": []
    },
    {
      "cell_type": "code",
      "source": [
        "training = []\n",
        "testing = []\n",
        "for meta_iter in range(meta_iters):\n",
        "    frac_done = meta_iter / meta_iters\n",
        "    cur_meta_step_size = (1 - frac_done) * meta_step_size\n",
        "    # Temporarily save the weights from the model.\n",
        "    old_vars = model.get_weights()\n",
        "    # Get a sample from the full dataset.\n",
        "    mini_dataset = train_dataset.get_mini_dataset(\n",
        "        inner_batch_size, inner_iters, train_shots, classes\n",
        "    )\n",
        "    for images, labels in mini_dataset:\n",
        "        with tf.GradientTape() as tape:\n",
        "            preds = model(images)\n",
        "            loss = keras.losses.sparse_categorical_crossentropy(labels, preds)\n",
        "        # We would like to find suitable weights\n",
        "        grads = tape.gradient(loss, model.trainable_weights)\n",
        "        optimizer.apply_gradients(zip(grads, model.trainable_weights))\n",
        "    new_vars = model.get_weights()\n",
        "    # Perform SGD for the meta step.\n",
        "    for var in range(len(new_vars)):\n",
        "        new_vars[var] = old_vars[var] + (\n",
        "            (new_vars[var] - old_vars[var]) * cur_meta_step_size\n",
        "        )\n",
        "    # After the meta-learning step, reload the newly-trained weights into the model.\n",
        "    model.set_weights(new_vars)\n",
        "    # Evaluation loop\n",
        "    if meta_iter % eval_interval == 0:\n",
        "        accuracies = []\n",
        "        for dataset in (train_dataset, test_dataset):\n",
        "            # Sample a mini dataset from the full dataset.\n",
        "            train_set, test_images, test_labels = dataset.get_mini_dataset(\n",
        "                eval_batch_size, eval_iters, shots, classes, split=True\n",
        "            )\n",
        "            old_vars = model.get_weights()\n",
        "            # Train on the samples and get the resulting accuracies.\n",
        "            for images, labels in train_set:\n",
        "                with tf.GradientTape() as tape:\n",
        "                    preds = model(images)\n",
        "                    loss = keras.losses.sparse_categorical_crossentropy(labels, preds)\n",
        "                grads = tape.gradient(loss, model.trainable_weights)\n",
        "                optimizer.apply_gradients(zip(grads, model.trainable_weights))\n",
        "            test_preds = model.predict(test_images)\n",
        "            test_preds = tf.argmax(test_preds).numpy()\n",
        "            num_correct = (test_preds == test_labels).sum()\n",
        "            # Reset the weights after getting the evaluation accuracies.\n",
        "            model.set_weights(old_vars)\n",
        "            accuracies.append(num_correct / classes)\n",
        "        training.append(accuracies[0])\n",
        "        testing.append(accuracies[1])\n",
        "        if meta_iter % 100 == 0:\n",
        "            print(\n",
        "                \"batch %d: train=%f test=%f\" % (meta_iter, accuracies[0], accuracies[1])\n",
        "            )"
      ],
      "metadata": {
        "colab": {
          "base_uri": "https://localhost:8080/"
        },
        "id": "deawbDd5UYku",
        "outputId": "ac6d6eb5-cbeb-4b97-a748-5e4933f98395"
      },
      "execution_count": null,
      "outputs": [
        {
          "output_type": "stream",
          "name": "stdout",
          "text": [
            "batch 0: train=0.800000 test=0.600000\n",
            "batch 100: train=1.000000 test=0.800000\n",
            "batch 200: train=1.000000 test=0.800000\n",
            "batch 300: train=1.000000 test=0.800000\n",
            "batch 400: train=1.000000 test=0.800000\n",
            "batch 500: train=1.000000 test=0.800000\n",
            "batch 600: train=0.600000 test=0.600000\n",
            "batch 700: train=0.800000 test=0.600000\n",
            "batch 800: train=1.000000 test=1.000000\n",
            "batch 900: train=0.800000 test=1.000000\n",
            "batch 1000: train=1.000000 test=1.000000\n",
            "batch 1100: train=1.000000 test=0.800000\n",
            "batch 1200: train=1.000000 test=0.800000\n",
            "batch 1300: train=1.000000 test=1.000000\n",
            "batch 1400: train=0.600000 test=1.000000\n",
            "batch 1500: train=1.000000 test=1.000000\n",
            "batch 1600: train=1.000000 test=0.600000\n",
            "batch 1700: train=1.000000 test=1.000000\n",
            "batch 1800: train=1.000000 test=1.000000\n",
            "batch 1900: train=0.600000 test=0.800000\n"
          ]
        }
      ]
    },
    {
      "cell_type": "code",
      "source": [
        "# First, some preprocessing to smooth the training and testing arrays for display.\n",
        "window_length = 100\n",
        "train_s = np.r_[\n",
        "    training[window_length - 1 : 0 : -1], training, training[-1:-window_length:-1]\n",
        "]\n",
        "test_s = np.r_[\n",
        "    testing[window_length - 1 : 0 : -1], testing, testing[-1:-window_length:-1]\n",
        "]\n",
        "w = np.hamming(window_length)\n",
        "train_y = np.convolve(w / w.sum(), train_s, mode=\"valid\")\n",
        "test_y = np.convolve(w / w.sum(), test_s, mode=\"valid\")\n",
        "\n",
        "# Display the training accuracies.\n",
        "x = np.arange(0, len(test_y), 1)\n",
        "plt.plot(x, test_y, x, train_y)\n",
        "plt.legend([\"test\", \"train\"])\n",
        "plt.grid()\n",
        "\n",
        "train_set, test_images, test_labels = dataset.get_mini_dataset(\n",
        "    eval_batch_size, eval_iters, shots, classes, split=True\n",
        ")\n",
        "for images, labels in train_set:\n",
        "    with tf.GradientTape() as tape:\n",
        "        preds = model(images)\n",
        "        loss = keras.losses.sparse_categorical_crossentropy(labels, preds)\n",
        "    grads = tape.gradient(loss, model.trainable_weights)\n",
        "    optimizer.apply_gradients(zip(grads, model.trainable_weights))\n",
        "test_preds = model.predict(test_images)\n",
        "test_preds = tf.argmax(test_preds).numpy()\n",
        "\n",
        "_, axarr = plt.subplots(nrows=1, ncols=5, figsize=(20, 20))\n",
        "\n",
        "sample_keys = list(train_dataset.data.keys())\n",
        "\n",
        "for i, ax in zip(range(5), axarr):\n",
        "    temp_image = np.stack((test_images[i, :, :, 0],) * 3, axis=2)\n",
        "    temp_image *= 255\n",
        "    temp_image = np.clip(temp_image, 0, 255).astype(\"uint8\")\n",
        "    ax.set_title(\n",
        "        \"Label : {}, Prediction : {}\".format(int(test_labels[i]), test_preds[i])\n",
        "    )\n",
        "    ax.imshow(temp_image, cmap=\"gray\")\n",
        "    ax.xaxis.set_visible(False)\n",
        "    ax.yaxis.set_visible(False)\n",
        "plt.show()"
      ],
      "metadata": {
        "colab": {
          "base_uri": "https://localhost:8080/",
          "height": 494
        },
        "id": "yL-m5bX_UeG0",
        "outputId": "fd69ee89-e4ae-4c45-b5a1-efdae2a96f90"
      },
      "execution_count": null,
      "outputs": [
        {
          "output_type": "display_data",
          "data": {
            "text/plain": [
              "<Figure size 432x288 with 1 Axes>"
            ],
            "image/png": "[encoded data removed]"
          },
          "metadata": {
            "needs_background": "light"
          }
        },
        {
          "output_type": "display_data",
          "data": {
            "text/plain": [
              "<Figure size 1440x1440 with 5 Axes>"
            ],
            "image/png": "[encoded data removed]"
          },
          "metadata": {
            "needs_background": "light"
          }
        }
      ]
    },
    {
      "cell_type": "markdown",
      "source": [
        "# Network architecture search with AutoKeras"
      ],
      "metadata": {
        "id": "J5f6zAOLXBO8"
      }
    },
    {
      "cell_type": "markdown",
      "source": [
        "Let’s now build up an AutoML pipeline to improve the CNN structure and achieve better classification accuracy.\n",
        "\n",
        "Creating an AutoML pipeline with the `AutoKeras` functional API is quite similar to building up a neural network with the Keras functional API. The only difference is that the Keras layers are replaced with `AutoKeras`’s built-in AutoML blocks. Each block contains one or more deep learning models (or preprocessing methods) and a default search space for their hyperparameters. You can also modify the search space for each hyperparameter. To build up a network, we stack multiple Keras layers by wiring together their inputs and outputs sequentially. Specifically, it often contyains the following blocks:\n",
        "\n",
        "- **Input node**: which is a placeholder for the tensor input of the pipeline, such as `ImageInput`, `TextInput`, or `StructuredDataInput`. You can also define a general tensor input with the Input class in `AutoKeras`. The input node accepts data in multiple formats, such as Numpy arrays, Pandas DataFrames, and TensorFlow Datasets. It will also conduct certain preprocessing operations automatically, such as extending the dimensions of images if they do not have a channel dimension. The input node does not have any hyperparameters that can be set or tuned.\n",
        "- **Preprocessor**: which is block defines additional preprocessing operations to perform on the inputs, such as image normalization, text embedding, and so on. Depending on the operation, there may be hyperparameters to tune, such as the maximum size of the vocabulary table to use to convert text documents to their vector representations if text embedding is performed. In this block, there are no weights to be trained through backpropagation.\n",
        "- **Network**: which is the most important type of AutoML block in `AutoKeras`. Each block represents a set of neural network models of the same structure. For example, a `ConvBlock`. The number and types of layers are treated as hyperparameters. You can select one or more network blocks to create the pipelines based on the task at hand, and specify the search space of their hyperparameters based on your requirements. Unlike the preprocessor block, there are weights to be trained through backpropagation after specifying the hyperparameters in the network block.\n",
        "- **Head**: which is a task-specific component used to generate the final outputs, such as the `ClassificationHead` and `RegressionHead`. It reshapes each instance’s representation to a vector and applies a dense layer to transform it to the size of the target output. For example, if the head is a `ClassificationHead` and the problem is a binary classification problem, the output of each instance from the dense layer will be a vector of length two corresponding to the two labels. Each head also specifies the loss function and metrics to help compile each deep learning pipeline selected from the search space for training."
      ],
      "metadata": {
        "id": "X_ZR3HpGnlR0"
      }
    },
    {
      "cell_type": "markdown",
      "source": [
        "## Tuning CNNs for image classification"
      ],
      "metadata": {
        "id": "pxN8uAL7oMXL"
      }
    },
    {
      "cell_type": "markdown",
      "source": [
        "We leverage a ConvBlock in `AutoKeras` to tune the three main hyperparameters of the CNN: **the number of filters, the number of convolutional layers, and the kernel size** of the convolutional layers. A ConvBlock sequentially stacks multiple convolutional blocks (or convolutional cells). Each convolutional block sequentially stacks multiple convolutional layers, a max pooling layer, and a dropout layer.\n",
        "\n",
        "All the convolutional blocks have the same number of convolutional layers, but there can be a different number of filters in each layer. There are seven hyperparameters in the search space of a ConvBlock:\n",
        "\n",
        "- Number of convolutional blocks.\n",
        "- Number of convolutional layers in each block. This is the same in all the convolutional blocks.\n",
        "- Type of the convolutional layer. Each convolutional layer can be one of two types: it can be a regular 2D convolutional layer or a separable convolutional layer, which contains fewer weights than a normal convolutional layer but may achieve comparable performance.\n",
        "- Number of filters in the convolutional layer. This can be different for each layer of each block.\n",
        "- Kernel size of the convolutional layer. The kernel size of the max pooling layers is set to be the kernel size minus one. Once the kernel size is selected by the tuning algorithm for a ConvBlock in a trial, it will be applied for every pooling layer and convolutional layer in all the cells of that ConvBlock.\n",
        "- Whether to apply the max pooling layer in each cell. Once this is selected for a trial, it’s applied for every cell in the ConvBlock.\n",
        "- Whether to apply the dropout layer in each cell. Once this is selected for a trial, it’s applied for every cell in the ConvBlock.\n",
        "\n",
        "To keep this example simple, we’ll constrain the search space by fixing the number of blocks as two. We do not apply the dropout layer or use separable convolutional layers. The hyperparameters to be tuned are the number of layers, the kernel size, and the number of filters in each layer in the blocks. By default, they are selected from the lists `[1, 2]`, `[3, 5, 7]`, and `[16, 32, 64, 128, 256, 512]`, respectively."
      ],
      "metadata": {
        "id": "46qgHwxPanZj"
      }
    },
    {
      "cell_type": "code",
      "source": [
        "import autokeras as ak\n",
        "\n",
        "(x_train, y_train), (x_test, y_test) = keras.datasets.mnist.load_data()\n",
        "input_node = ak.ImageInput()\n",
        "output_node = ak.Normalization()(input_node)\n",
        "output_node = ak.ConvBlock(\n",
        "    num_blocks=2, max_pooling=True, separable=False, dropout=0.0\n",
        ")(output_node)\n",
        "output_node = ak.ClassificationHead(dropout=0.0)(output_node)\n",
        "\n",
        "auto_model = ak.AutoModel(\n",
        "    inputs=input_node, outputs=output_node, max_trials=10, overwrite=True, seed=42\n",
        ")\n",
        "\n",
        "# You may run with the full dataset, but expect a longer training time.\n",
        "auto_model.fit(x_train, y_train, epochs=3)"
      ],
      "metadata": {
        "colab": {
          "base_uri": "https://localhost:8080/"
        },
        "id": "rB1GdssIamwH",
        "outputId": "fe702613-e6a6-4d6a-b8cf-caefcfd4c2da"
      },
      "execution_count": null,
      "outputs": [
        {
          "output_type": "stream",
          "name": "stdout",
          "text": [
            "Trial 10 Complete [00h 01m 46s]\n",
            "val_loss: 0.03229113668203354\n",
            "\n",
            "Best val_loss So Far: 0.03229113668203354\n",
            "Total elapsed time: 00h 31m 21s\n",
            "INFO:tensorflow:Oracle triggered exit\n"
          ]
        },
        {
          "output_type": "stream",
          "name": "stderr",
          "text": [
            "INFO:tensorflow:Oracle triggered exit\n"
          ]
        },
        {
          "output_type": "stream",
          "name": "stdout",
          "text": [
            "Epoch 1/3\n",
            "1875/1875 [==============================] - 31s 16ms/step - loss: 0.2152 - accuracy: 0.9366\n",
            "Epoch 2/3\n",
            "1875/1875 [==============================] - 30s 16ms/step - loss: 0.0389 - accuracy: 0.9897\n",
            "Epoch 3/3\n",
            "1875/1875 [==============================] - 30s 16ms/step - loss: 0.0149 - accuracy: 0.9958\n",
            "INFO:tensorflow:Assets written to: ./auto_model/best_model/assets\n"
          ]
        },
        {
          "output_type": "stream",
          "name": "stderr",
          "text": [
            "INFO:tensorflow:Assets written to: ./auto_model/best_model/assets\n"
          ]
        },
        {
          "output_type": "stream",
          "name": "stdout",
          "text": [
            "Test accuracy:  0.9937000274658203\n"
          ]
        }
      ]
    },
    {
      "cell_type": "code",
      "source": [
        "test_loss, test_acc = auto_model.evaluate(x_test, y_test, verbose=0)\n",
        "print(\"Test accuracy: \", test_acc)"
      ],
      "metadata": {
        "colab": {
          "base_uri": "https://localhost:8080/"
        },
        "id": "rT-QqXR2fSMT",
        "outputId": "abfe40c6-2d23-4c93-b399-62394c7e216d"
      },
      "execution_count": null,
      "outputs": [
        {
          "output_type": "stream",
          "name": "stdout",
          "text": [
            "Test accuracy:  0.9937000274658203\n"
          ]
        }
      ]
    },
    {
      "cell_type": "markdown",
      "source": [
        "The best CNN achieves 99.37% accuracy on the test set. To discover smaller architectures, we can limit the number of layers and filters in the search space. It is possible to find a smaller architecture with comparableb performance to the CNN we constructed here. I’ll leave that as an exercise for you to try out."
      ],
      "metadata": {
        "id": "rdvM1T7qfYq8"
      }
    },
    {
      "cell_type": "code",
      "source": [
        "best_model = auto_model.export_model()\n",
        "best_model.summary()"
      ],
      "metadata": {
        "colab": {
          "base_uri": "https://localhost:8080/"
        },
        "id": "u9ohHacWlEll",
        "outputId": "534624e7-ef5b-4d16-d27b-fc56d4f7bc2d"
      },
      "execution_count": null,
      "outputs": [
        {
          "output_type": "stream",
          "name": "stdout",
          "text": [
            "Model: \"model\"\n",
            "_________________________________________________________________\n",
            " Layer (type)                Output Shape              Param #   \n",
            "=================================================================\n",
            " input_1 (InputLayer)        [(None, 28, 28)]          0         \n",
            "                                                                 \n",
            " cast_to_float32 (CastToFloa  (None, 28, 28)           0         \n",
            " t32)                                                            \n",
            "                                                                 \n",
            " expand_last_dim (ExpandLast  (None, 28, 28, 1)        0         \n",
            " Dim)                                                            \n",
            "                                                                 \n",
            " normalization (Normalizatio  (None, 28, 28, 1)        3         \n",
            " n)                                                              \n",
            "                                                                 \n",
            " conv2d (Conv2D)             (None, 24, 24, 128)       3328      \n",
            "                                                                 \n",
            " conv2d_1 (Conv2D)           (None, 20, 20, 16)        51216     \n",
            "                                                                 \n",
            " max_pooling2d (MaxPooling2D  (None, 5, 5, 16)         0         \n",
            " )                                                               \n",
            "                                                                 \n",
            " conv2d_2 (Conv2D)           (None, 5, 5, 16)          6416      \n",
            "                                                                 \n",
            " conv2d_3 (Conv2D)           (None, 5, 5, 512)         205312    \n",
            "                                                                 \n",
            " max_pooling2d_1 (MaxPooling  (None, 2, 2, 512)        0         \n",
            " 2D)                                                             \n",
            "                                                                 \n",
            " flatten (Flatten)           (None, 2048)              0         \n",
            "                                                                 \n",
            " dense (Dense)               (None, 10)                20490     \n",
            "                                                                 \n",
            " classification_head_1 (Soft  (None, 10)               0         \n",
            " max)                                                            \n",
            "                                                                 \n",
            "=================================================================\n",
            "Total params: 286,765\n",
            "Trainable params: 286,762\n",
            "Non-trainable params: 3\n",
            "_________________________________________________________________\n"
          ]
        }
      ]
    },
    {
      "cell_type": "markdown",
      "source": [
        "# Automated pipeline search with AutoKeras"
      ],
      "metadata": {
        "id": "LbkcFJZ5fwe7"
      }
    },
    {
      "cell_type": "markdown",
      "source": [
        "It is also possible to use autoKeras in AutoML applications: selecting the best types of components (models or preprocessors) to use in the deep learning pipeline. This is a more complex scenario than only tuning the hyperparameters of a specific type of model, as introduced in the previous section, because different models and preprocessors may compose different operations and have unique hyperparameters. It requires us to jointly select the combination of preprocessors and models and their coupled hyperparameters. \n",
        "\n",
        "For example, in image classification, there are a lot of advanced models proposed beyond the naive CNN we used previously, such as ResNet, Xception, and so on. You’ll also need to decide on suitable preprocessing methods, such as choosing whether to use normalization or not. We’ll work through some image classification examples here to show you how to automatically select models and preprocessing methods."
      ],
      "metadata": {
        "id": "gyhEyEmwghkM"
      }
    },
    {
      "cell_type": "markdown",
      "source": [
        "## Automated selection of image preprocessing methods"
      ],
      "metadata": {
        "id": "uqDi-JlDjZLk"
      }
    },
    {
      "cell_type": "markdown",
      "source": [
        "In fact, it is also straightforward to extend the AutoML pipeline to tune and select a suitable data augmentation method — that is, to use an AutoML block to select and evaluate various data augmentation methods. The `ImageBlock` also allows us to select among multiple data preprocessing methods, such as deciding whether to use normalization and/or data augmentation methods to prepare the data.\n",
        "\n",
        "Let’s use an image classification example to illustrate how to automatically select preprocessing methods for a ResNet model. We decide whether to use data augmentation and normalization methods or not. The dataset we use here is a subset of the CIFAR-10 dataset. To make things easier, we’ll only use images from two classes, \"airplane\" and \"automobile.\" "
      ],
      "metadata": {
        "id": "SIVhOjTriLgb"
      }
    },
    {
      "cell_type": "code",
      "source": [
        "import ssl\n",
        "ssl._create_default_https_context = ssl._create_unverified_context\n",
        "(x_train, y_train), (x_test, y_test) = keras.datasets.cifar10.load_data()\n",
        "print(\"Training image shape:\", x_train.shape)  # (60000, 28, 28)\n",
        "print(\"Training label shape:\", y_train.shape)  # (60000,)\n",
        "print(\"First five training labels:\", y_train[:5])  # array([5 0 4 1 9], dtype=uint8)"
      ],
      "metadata": {
        "colab": {
          "base_uri": "https://localhost:8080/"
        },
        "id": "IxVlQKdIcKrK",
        "outputId": "e7bc9e3c-9895-44f7-d899-27d66ca2ce38"
      },
      "execution_count": 3,
      "outputs": [
        {
          "output_type": "stream",
          "name": "stdout",
          "text": [
            "Downloading data from https://www.cs.toronto.edu/~kriz/cifar-10-python.tar.gz\n",
            "170500096/170498071 [==============================] - 6s 0us/step\n",
            "170508288/170498071 [==============================] - 6s 0us/step\n",
            "Training image shape: (50000, 32, 32, 3)\n",
            "Training label shape: (50000, 1)\n",
            "First five training labels: [[6]\n",
            " [9]\n",
            " [9]\n",
            " [4]\n",
            " [1]]\n"
          ]
        }
      ]
    },
    {
      "cell_type": "code",
      "source": [
        "airplane_automobile_indices_train = (y_train[:, 0] == 0) | (y_train[:, 0] == 1)\n",
        "airplane_automobile_indices_test = (y_test[:, 0] == 0) | (y_test[:, 0] == 1)\n",
        "x_train, y_train = (\n",
        "    x_train[airplane_automobile_indices_train],\n",
        "    y_train[airplane_automobile_indices_train],\n",
        ")\n",
        "x_test, y_test = (\n",
        "    x_test[airplane_automobile_indices_test],\n",
        "    y_test[airplane_automobile_indices_test],\n",
        ")\n",
        "print(\"Training image shape:\", x_train.shape)  # (60000, 28, 28)\n",
        "print(\"Training label shape:\", y_train.shape)  # (60000,)\n",
        "print(\"First five training labels:\", y_train[:5])  # array([5 0 4 1 9], dtype=uint8)"
      ],
      "metadata": {
        "colab": {
          "base_uri": "https://localhost:8080/"
        },
        "id": "L852sm1risVT",
        "outputId": "d8e4407f-fa8c-4558-a17e-01296cf352ba"
      },
      "execution_count": 4,
      "outputs": [
        {
          "output_type": "stream",
          "name": "stdout",
          "text": [
            "Training image shape: (10000, 32, 32, 3)\n",
            "Training label shape: (10000, 1)\n",
            "First five training labels: [[1]\n",
            " [1]\n",
            " [0]\n",
            " [0]\n",
            " [1]]\n"
          ]
        }
      ]
    },
    {
      "cell_type": "code",
      "source": [
        "# plot first few images\n",
        "for i in range(9):\n",
        "    # define subplot\n",
        "    plt.subplot(330 + 1 + i)\n",
        "    # plot raw pixel data\n",
        "    plt.imshow(x_train[i])\n",
        "# show the figure\n",
        "plt.show()"
      ],
      "metadata": {
        "colab": {
          "base_uri": "https://localhost:8080/",
          "height": 272
        },
        "id": "D2Oju7-sivoL",
        "outputId": "0c4fbd1c-2e77-407a-c1d2-ac03a6889e29"
      },
      "execution_count": 5,
      "outputs": [
        {
          "output_type": "display_data",
          "data": {
            "text/plain": [
              "<Figure size 432x288 with 9 Axes>"
            ],
            "image/png": "[encoded data removed]"
          },
          "metadata": {
            "needs_background": "light"
          }
        }
      ]
    },
    {
      "cell_type": "markdown",
      "source": [
        "Let’s first create an AutoML pipeline to select the data augmentation method for the ResNet models. The pipeline has the same structure as the sequential AutoML pipelines we built in the previous section for tuning a single ResNet model. The only difference is that we add the image hyperblock (ImageBlock) in AutoKeras also contains preprocessing methods. The augmentation methods are selected along with the structure and other hyperparameters, such as the optimization method and learning rate."
      ],
      "metadata": {
        "id": "2IKTHwK2j9Kk"
      }
    },
    {
      "cell_type": "code",
      "source": [
        "import autokeras as ak\n",
        "\n",
        "input_node = ak.ImageInput()\n",
        "output_node = ak.ImageBlock(\n",
        "    # do not specify if we want to use normalization and let it to search automatically\n",
        "    normalize=None,\n",
        "    # do not specify if we want to use adata ugmentation method and let it to search automatically\n",
        "    augment=None,\n",
        "    # Only search resnet architectures.\n",
        "    block_type=\"resnet\",\n",
        ")(input_node)\n",
        "output_node = ak.ClassificationHead(dropout=0.0)(output_node)\n",
        "\n",
        "auto_model = ak.AutoModel(\n",
        "    inputs=input_node, outputs=output_node, max_trials=10, overwrite=True, seed=42\n",
        ")\n",
        "\n",
        "auto_model.fit(x_train, y_train, epochs=10, batch_size=64)"
      ],
      "metadata": {
        "colab": {
          "base_uri": "https://localhost:8080/"
        },
        "id": "tQ3nIlupi__V",
        "outputId": "b836dda4-1a67-4ada-e035-d1ba90d3a762"
      },
      "execution_count": 12,
      "outputs": [
        {
          "output_type": "stream",
          "name": "stdout",
          "text": [
            "Trial 10 Complete [00h 03m 31s]\n",
            "val_loss: 0.2668076157569885\n",
            "\n",
            "Best val_loss So Far: 0.2252582162618637\n",
            "Total elapsed time: 00h 34m 22s\n",
            "INFO:tensorflow:Oracle triggered exit\n",
            "Epoch 1/10\n",
            "157/157 [==============================] - 32s 106ms/step - loss: 0.4806 - accuracy: 0.7825\n",
            "Epoch 2/10\n",
            "157/157 [==============================] - 16s 104ms/step - loss: 0.3449 - accuracy: 0.8522\n",
            "Epoch 3/10\n",
            "157/157 [==============================] - 16s 105ms/step - loss: 0.2996 - accuracy: 0.8738\n",
            "Epoch 4/10\n",
            "157/157 [==============================] - 16s 105ms/step - loss: 0.2611 - accuracy: 0.8952\n",
            "Epoch 5/10\n",
            "157/157 [==============================] - 16s 104ms/step - loss: 0.2275 - accuracy: 0.9058\n",
            "Epoch 6/10\n",
            "157/157 [==============================] - 16s 105ms/step - loss: 0.2061 - accuracy: 0.9171\n",
            "Epoch 7/10\n",
            "157/157 [==============================] - 16s 105ms/step - loss: 0.1978 - accuracy: 0.9250\n",
            "Epoch 8/10\n",
            "157/157 [==============================] - 16s 105ms/step - loss: 0.2042 - accuracy: 0.9197\n",
            "Epoch 9/10\n",
            "157/157 [==============================] - 16s 105ms/step - loss: 0.1671 - accuracy: 0.9350\n",
            "Epoch 10/10\n",
            "157/157 [==============================] - 16s 104ms/step - loss: 0.1670 - accuracy: 0.9348\n",
            "INFO:tensorflow:Assets written to: ./auto_model/best_model/assets\n"
          ]
        },
        {
          "output_type": "execute_result",
          "data": {
            "text/plain": [
              "<keras.callbacks.History at 0x7f2c8822d950>"
            ]
          },
          "metadata": {},
          "execution_count": 12
        }
      ]
    },
    {
      "cell_type": "code",
      "source": [
        "auto_model.tuner.results_summary()"
      ],
      "metadata": {
        "id": "Ula-MdTDjAxb",
        "colab": {
          "base_uri": "https://localhost:8080/"
        },
        "outputId": "d0c9877f-01f6-495a-a41b-598fe1958747"
      },
      "execution_count": 13,
      "outputs": [
        {
          "output_type": "stream",
          "name": "stdout",
          "text": [
            "Results summary\n",
            "Results in ./auto_model\n",
            "Showing 10 best trials\n",
            "<keras_tuner.engine.objective.Objective object at 0x7f2ca2783e10>\n",
            "Trial summary\n",
            "Hyperparameters:\n",
            "image_block_2/normalize: False\n",
            "image_block_2/augment: True\n",
            "image_block_2/res_net_block_1/pretrained: False\n",
            "image_block_2/res_net_block_1/version: resnet152_v2\n",
            "image_block_2/res_net_block_1/imagenet_size: False\n",
            "classification_head_1/spatial_reduction_1/reduction_type: flatten\n",
            "optimizer: adam\n",
            "learning_rate: 0.001\n",
            "image_block_2/image_augmentation_1/translation_factor: 0.0\n",
            "image_block_2/image_augmentation_1/horizontal_flip: True\n",
            "image_block_2/image_augmentation_1/vertical_flip: True\n",
            "image_block_2/image_augmentation_1/rotation_factor: 0.0\n",
            "image_block_2/image_augmentation_1/zoom_factor: 0.0\n",
            "image_block_2/image_augmentation_1/contrast_factor: 0.0\n",
            "Score: 0.2252582162618637\n",
            "Trial summary\n",
            "Hyperparameters:\n",
            "image_block_2/normalize: False\n",
            "image_block_2/augment: True\n",
            "image_block_2/res_net_block_1/pretrained: False\n",
            "image_block_2/res_net_block_1/version: resnet152_v2\n",
            "image_block_2/res_net_block_1/imagenet_size: False\n",
            "classification_head_1/spatial_reduction_1/reduction_type: global_avg\n",
            "optimizer: adam\n",
            "learning_rate: 0.001\n",
            "image_block_2/image_augmentation_1/translation_factor: 0.0\n",
            "image_block_2/image_augmentation_1/horizontal_flip: True\n",
            "image_block_2/image_augmentation_1/vertical_flip: True\n",
            "image_block_2/image_augmentation_1/rotation_factor: 0.0\n",
            "image_block_2/image_augmentation_1/zoom_factor: 0.0\n",
            "image_block_2/image_augmentation_1/contrast_factor: 0.0\n",
            "Score: 0.22922293841838837\n",
            "Trial summary\n",
            "Hyperparameters:\n",
            "image_block_2/normalize: True\n",
            "image_block_2/augment: True\n",
            "image_block_2/res_net_block_1/pretrained: False\n",
            "image_block_2/res_net_block_1/version: resnet152_v2\n",
            "image_block_2/res_net_block_1/imagenet_size: False\n",
            "classification_head_1/spatial_reduction_1/reduction_type: global_avg\n",
            "optimizer: adam\n",
            "learning_rate: 0.001\n",
            "image_block_2/image_augmentation_1/translation_factor: 0.0\n",
            "image_block_2/image_augmentation_1/horizontal_flip: True\n",
            "image_block_2/image_augmentation_1/vertical_flip: True\n",
            "image_block_2/image_augmentation_1/rotation_factor: 0.0\n",
            "image_block_2/image_augmentation_1/zoom_factor: 0.0\n",
            "image_block_2/image_augmentation_1/contrast_factor: 0.0\n",
            "Score: 0.2492995411157608\n",
            "Trial summary\n",
            "Hyperparameters:\n",
            "image_block_2/normalize: False\n",
            "image_block_2/augment: True\n",
            "image_block_2/res_net_block_1/pretrained: False\n",
            "image_block_2/res_net_block_1/version: resnet152_v2\n",
            "image_block_2/res_net_block_1/imagenet_size: False\n",
            "classification_head_1/spatial_reduction_1/reduction_type: global_avg\n",
            "optimizer: adam\n",
            "learning_rate: 0.001\n",
            "image_block_2/image_augmentation_1/translation_factor: 0.0\n",
            "image_block_2/image_augmentation_1/horizontal_flip: True\n",
            "image_block_2/image_augmentation_1/vertical_flip: True\n",
            "image_block_2/image_augmentation_1/rotation_factor: 0.0\n",
            "image_block_2/image_augmentation_1/zoom_factor: 0.0\n",
            "image_block_2/image_augmentation_1/contrast_factor: 0.0\n",
            "Score: 0.2551061809062958\n",
            "Trial summary\n",
            "Hyperparameters:\n",
            "image_block_2/normalize: True\n",
            "image_block_2/augment: True\n",
            "image_block_2/res_net_block_1/pretrained: False\n",
            "image_block_2/res_net_block_1/version: resnet152_v2\n",
            "image_block_2/res_net_block_1/imagenet_size: False\n",
            "classification_head_1/spatial_reduction_1/reduction_type: flatten\n",
            "optimizer: adam\n",
            "learning_rate: 0.001\n",
            "image_block_2/image_augmentation_1/translation_factor: 0.0\n",
            "image_block_2/image_augmentation_1/horizontal_flip: True\n",
            "image_block_2/image_augmentation_1/vertical_flip: True\n",
            "image_block_2/image_augmentation_1/rotation_factor: 0.0\n",
            "image_block_2/image_augmentation_1/zoom_factor: 0.0\n",
            "image_block_2/image_augmentation_1/contrast_factor: 0.0\n",
            "Score: 0.2668076157569885\n",
            "Trial summary\n",
            "Hyperparameters:\n",
            "image_block_2/normalize: False\n",
            "image_block_2/augment: True\n",
            "image_block_2/res_net_block_1/pretrained: False\n",
            "image_block_2/res_net_block_1/version: resnet152_v2\n",
            "image_block_2/res_net_block_1/imagenet_size: False\n",
            "classification_head_1/spatial_reduction_1/reduction_type: global_max\n",
            "optimizer: adam\n",
            "learning_rate: 0.001\n",
            "image_block_2/image_augmentation_1/translation_factor: 0.0\n",
            "image_block_2/image_augmentation_1/horizontal_flip: True\n",
            "image_block_2/image_augmentation_1/vertical_flip: True\n",
            "image_block_2/image_augmentation_1/rotation_factor: 0.0\n",
            "image_block_2/image_augmentation_1/zoom_factor: 0.0\n",
            "image_block_2/image_augmentation_1/contrast_factor: 0.0\n",
            "Score: 0.3204873204231262\n",
            "Trial summary\n",
            "Hyperparameters:\n",
            "image_block_2/normalize: False\n",
            "image_block_2/augment: False\n",
            "image_block_2/res_net_block_1/pretrained: False\n",
            "image_block_2/res_net_block_1/version: resnet152_v2\n",
            "image_block_2/res_net_block_1/imagenet_size: False\n",
            "classification_head_1/spatial_reduction_1/reduction_type: global_avg\n",
            "optimizer: adam\n",
            "learning_rate: 0.001\n",
            "Score: 0.3247886002063751\n",
            "Trial summary\n",
            "Hyperparameters:\n",
            "image_block_2/normalize: False\n",
            "image_block_2/augment: False\n",
            "image_block_2/res_net_block_1/pretrained: False\n",
            "image_block_2/res_net_block_1/version: resnet152_v2\n",
            "image_block_2/res_net_block_1/imagenet_size: False\n",
            "classification_head_1/spatial_reduction_1/reduction_type: flatten\n",
            "optimizer: adam\n",
            "learning_rate: 0.001\n",
            "Score: 0.3482215404510498\n",
            "Trial summary\n",
            "Hyperparameters:\n",
            "image_block_2/normalize: False\n",
            "image_block_2/augment: False\n",
            "image_block_2/res_net_block_1/pretrained: False\n",
            "image_block_2/res_net_block_1/version: resnet152_v2\n",
            "image_block_2/res_net_block_1/imagenet_size: False\n",
            "classification_head_1/spatial_reduction_1/reduction_type: global_max\n",
            "optimizer: adam\n",
            "learning_rate: 0.001\n",
            "Score: 0.35317757725715637\n",
            "Trial summary\n",
            "Hyperparameters:\n",
            "image_block_2/normalize: False\n",
            "image_block_2/augment: False\n",
            "image_block_2/res_net_block_1/pretrained: False\n",
            "image_block_2/res_net_block_1/version: resnet152_v2\n",
            "image_block_2/res_net_block_1/imagenet_size: False\n",
            "classification_head_1/spatial_reduction_1/reduction_type: flatten\n",
            "optimizer: adam\n",
            "learning_rate: 0.1\n",
            "Score: 0.6943274140357971\n"
          ]
        }
      ]
    },
    {
      "cell_type": "code",
      "source": [
        "best_model = auto_model.export_model()\n",
        "best_model.summary()"
      ],
      "metadata": {
        "id": "tffOKf0JjB2l",
        "colab": {
          "base_uri": "https://localhost:8080/"
        },
        "outputId": "bc3a8918-33f9-4d80-b5a5-691b30fdd8a3"
      },
      "execution_count": 14,
      "outputs": [
        {
          "output_type": "stream",
          "name": "stdout",
          "text": [
            "Model: \"model\"\n",
            "_________________________________________________________________\n",
            " Layer (type)                Output Shape              Param #   \n",
            "=================================================================\n",
            " input_1 (InputLayer)        [(None, 32, 32, 3)]       0         \n",
            "                                                                 \n",
            " cast_to_float32 (CastToFloa  (None, 32, 32, 3)        0         \n",
            " t32)                                                            \n",
            "                                                                 \n",
            " random_flip (RandomFlip)    (None, 32, 32, 3)         0         \n",
            "                                                                 \n",
            " resnet152v2 (Functional)    (None, 1, 1, 2048)        58331648  \n",
            "                                                                 \n",
            " flatten (Flatten)           (None, 2048)              0         \n",
            "                                                                 \n",
            " dense (Dense)               (None, 1)                 2049      \n",
            "                                                                 \n",
            " classification_head_1 (Acti  (None, 1)                0         \n",
            " vation)                                                         \n",
            "                                                                 \n",
            "=================================================================\n",
            "Total params: 58,333,697\n",
            "Trainable params: 58,189,953\n",
            "Non-trainable params: 143,744\n",
            "_________________________________________________________________\n"
          ]
        }
      ]
    },
    {
      "cell_type": "code",
      "source": [
        "test_loss, test_acc = auto_model.evaluate(x_test, y_test, verbose=0)\n",
        "print(\"Accuracy: {accuracy}%\".format(accuracy=round(test_acc * 100, 2)))"
      ],
      "metadata": {
        "id": "YyIJbogTjDVE",
        "colab": {
          "base_uri": "https://localhost:8080/"
        },
        "outputId": "76cbb426-e2d9-4161-fb76-3da5d91aa266"
      },
      "execution_count": 15,
      "outputs": [
        {
          "output_type": "stream",
          "name": "stdout",
          "text": [
            "Accuracy: 92.4%\n"
          ]
        }
      ]
    },
    {
      "cell_type": "markdown",
      "source": [
        "For more information, please refer to https://autokeras.com/"
      ],
      "metadata": {
        "id": "iNKB5Crhm29D"
      }
    }
  ],
  "metadata": {
    "kernelspec": {
      "display_name": "Python 3",
      "language": "python",
      "name": "python3"
    },
    "language_info": {
      "codemirror_mode": {
        "name": "ipython",
        "version": 3
      },
      "file_extension": ".py",
      "mimetype": "text/x-python",
      "name": "python",
      "nbconvert_exporter": "python",
      "pygments_lexer": "ipython3",
      "version": "3.7.10"
    },
    "nav_menu": {},
    "toc": {
      "navigate_menu": true,
      "number_sections": true,
      "sideBar": true,
      "threshold": 6,
      "toc_cell": false,
      "toc_section_display": "block",
      "toc_window_display": false
    },
    "colab": {
      "name": "07_Hyperparameter.ipynb",
      "provenance": [],
      "collapsed_sections": [],
      "toc_visible": true
    },
    "accelerator": "GPU",
    "widgets": {
      "application/vnd.jupyter.widget-state+json": {
        "e5a0920b37204a0aad4585501797ea16": {
          "model_module": "@jupyter-widgets/controls",
          "model_name": "HBoxModel",
          "model_module_version": "1.5.0",
          "state": {
            "_dom_classes": [],
            "_model_module": "@jupyter-widgets/controls",
            "_model_module_version": "1.5.0",
            "_model_name": "HBoxModel",
            "_view_count": null,
            "_view_module": "@jupyter-widgets/controls",
            "_view_module_version": "1.5.0",
            "_view_name": "HBoxView",
            "box_style": "",
            "children": [
              "IPY_MODEL_c1cbfbccfd4744f5b1b1beadf69f7f04",
              "IPY_MODEL_47b13693e1a14308b9afe0c919eaf13a",
              "IPY_MODEL_7b8bcb59010e45ed8cd82175ff9392e5"
            ],
            "layout": "IPY_MODEL_604d4f7f2c3040eaa4425d860c5ff2fa"
          }
        },
        "c1cbfbccfd4744f5b1b1beadf69f7f04": {
          "model_module": "@jupyter-widgets/controls",
          "model_name": "HTMLModel",
          "model_module_version": "1.5.0",
          "state": {
            "_dom_classes": [],
            "_model_module": "@jupyter-widgets/controls",
            "_model_module_version": "1.5.0",
            "_model_name": "HTMLModel",
            "_view_count": null,
            "_view_module": "@jupyter-widgets/controls",
            "_view_module_version": "1.5.0",
            "_view_name": "HTMLView",
            "description": "",
            "description_tooltip": null,
            "layout": "IPY_MODEL_2edb2a78988b4f4ab6ddeda989ef212d",
            "placeholder": "​",
            "style": "IPY_MODEL_6e466e720c99470db9910ed4b8085aae",
            "value": "Dl Completed...: 100%"
          }
        },
        "47b13693e1a14308b9afe0c919eaf13a": {
          "model_module": "@jupyter-widgets/controls",
          "model_name": "FloatProgressModel",
          "model_module_version": "1.5.0",
          "state": {
            "_dom_classes": [],
            "_model_module": "@jupyter-widgets/controls",
            "_model_module_version": "1.5.0",
            "_model_name": "FloatProgressModel",
            "_view_count": null,
            "_view_module": "@jupyter-widgets/controls",
            "_view_module_version": "1.5.0",
            "_view_name": "ProgressView",
            "bar_style": "success",
            "description": "",
            "description_tooltip": null,
            "layout": "IPY_MODEL_1425fc1d46aa4145978ece73434a30a5",
            "max": 1,
            "min": 0,
            "orientation": "horizontal",
            "style": "IPY_MODEL_864734ec492d46738664388abb8a8956",
            "value": 1
          }
        },
        "7b8bcb59010e45ed8cd82175ff9392e5": {
          "model_module": "@jupyter-widgets/controls",
          "model_name": "HTMLModel",
          "model_module_version": "1.5.0",
          "state": {
            "_dom_classes": [],
            "_model_module": "@jupyter-widgets/controls",
            "_model_module_version": "1.5.0",
            "_model_name": "HTMLModel",
            "_view_count": null,
            "_view_module": "@jupyter-widgets/controls",
            "_view_module_version": "1.5.0",
            "_view_name": "HTMLView",
            "description": "",
            "description_tooltip": null,
            "layout": "IPY_MODEL_e7f8cb11067041a1ab4de09b76f23c62",
            "placeholder": "​",
            "style": "IPY_MODEL_82a10aba7ce643fb956585aedb0f6a69",
            "value": " 4/4 [00:21&lt;00:00,  1.52 url/s]"
          }
        },
        "604d4f7f2c3040eaa4425d860c5ff2fa": {
          "model_module": "@jupyter-widgets/base",
          "model_name": "LayoutModel",
          "model_module_version": "1.2.0",
          "state": {
            "_model_module": "@jupyter-widgets/base",
            "_model_module_version": "1.2.0",
            "_model_name": "LayoutModel",
            "_view_count": null,
            "_view_module": "@jupyter-widgets/base",
            "_view_module_version": "1.2.0",
            "_view_name": "LayoutView",
            "align_content": null,
            "align_items": null,
            "align_self": null,
            "border": null,
            "bottom": null,
            "display": null,
            "flex": null,
            "flex_flow": null,
            "grid_area": null,
            "grid_auto_columns": null,
            "grid_auto_flow": null,
            "grid_auto_rows": null,
            "grid_column": null,
            "grid_gap": null,
            "grid_row": null,
            "grid_template_areas": null,
            "grid_template_columns": null,
            "grid_template_rows": null,
            "height": null,
            "justify_content": null,
            "justify_items": null,
            "left": null,
            "margin": null,
            "max_height": null,
            "max_width": null,
            "min_height": null,
            "min_width": null,
            "object_fit": null,
            "object_position": null,
            "order": null,
            "overflow": null,
            "overflow_x": null,
            "overflow_y": null,
            "padding": null,
            "right": null,
            "top": null,
            "visibility": null,
            "width": null
          }
        },
        "2edb2a78988b4f4ab6ddeda989ef212d": {
          "model_module": "@jupyter-widgets/base",
          "model_name": "LayoutModel",
          "model_module_version": "1.2.0",
          "state": {
            "_model_module": "@jupyter-widgets/base",
            "_model_module_version": "1.2.0",
            "_model_name": "LayoutModel",
            "_view_count": null,
            "_view_module": "@jupyter-widgets/base",
            "_view_module_version": "1.2.0",
            "_view_name": "LayoutView",
            "align_content": null,
            "align_items": null,
            "align_self": null,
            "border": null,
            "bottom": null,
            "display": null,
            "flex": null,
            "flex_flow": null,
            "grid_area": null,
            "grid_auto_columns": null,
            "grid_auto_flow": null,
            "grid_auto_rows": null,
            "grid_column": null,
            "grid_gap": null,
            "grid_row": null,
            "grid_template_areas": null,
            "grid_template_columns": null,
            "grid_template_rows": null,
            "height": null,
            "justify_content": null,
            "justify_items": null,
            "left": null,
            "margin": null,
            "max_height": null,
            "max_width": null,
            "min_height": null,
            "min_width": null,
            "object_fit": null,
            "object_position": null,
            "order": null,
            "overflow": null,
            "overflow_x": null,
            "overflow_y": null,
            "padding": null,
            "right": null,
            "top": null,
            "visibility": null,
            "width": null
          }
        },
        "6e466e720c99470db9910ed4b8085aae": {
          "model_module": "@jupyter-widgets/controls",
          "model_name": "DescriptionStyleModel",
          "model_module_version": "1.5.0",
          "state": {
            "_model_module": "@jupyter-widgets/controls",
            "_model_module_version": "1.5.0",
            "_model_name": "DescriptionStyleModel",
            "_view_count": null,
            "_view_module": "@jupyter-widgets/base",
            "_view_module_version": "1.2.0",
            "_view_name": "StyleView",
            "description_width": ""
          }
        },
        "1425fc1d46aa4145978ece73434a30a5": {
          "model_module": "@jupyter-widgets/base",
          "model_name": "LayoutModel",
          "model_module_version": "1.2.0",
          "state": {
            "_model_module": "@jupyter-widgets/base",
            "_model_module_version": "1.2.0",
            "_model_name": "LayoutModel",
            "_view_count": null,
            "_view_module": "@jupyter-widgets/base",
            "_view_module_version": "1.2.0",
            "_view_name": "LayoutView",
            "align_content": null,
            "align_items": null,
            "align_self": null,
            "border": null,
            "bottom": null,
            "display": null,
            "flex": null,
            "flex_flow": null,
            "grid_area": null,
            "grid_auto_columns": null,
            "grid_auto_flow": null,
            "grid_auto_rows": null,
            "grid_column": null,
            "grid_gap": null,
            "grid_row": null,
            "grid_template_areas": null,
            "grid_template_columns": null,
            "grid_template_rows": null,
            "height": null,
            "justify_content": null,
            "justify_items": null,
            "left": null,
            "margin": null,
            "max_height": null,
            "max_width": null,
            "min_height": null,
            "min_width": null,
            "object_fit": null,
            "object_position": null,
            "order": null,
            "overflow": null,
            "overflow_x": null,
            "overflow_y": null,
            "padding": null,
            "right": null,
            "top": null,
            "visibility": null,
            "width": "20px"
          }
        },
        "864734ec492d46738664388abb8a8956": {
          "model_module": "@jupyter-widgets/controls",
          "model_name": "ProgressStyleModel",
          "model_module_version": "1.5.0",
          "state": {
            "_model_module": "@jupyter-widgets/controls",
            "_model_module_version": "1.5.0",
            "_model_name": "ProgressStyleModel",
            "_view_count": null,
            "_view_module": "@jupyter-widgets/base",
            "_view_module_version": "1.2.0",
            "_view_name": "StyleView",
            "bar_color": null,
            "description_width": ""
          }
        },
        "e7f8cb11067041a1ab4de09b76f23c62": {
          "model_module": "@jupyter-widgets/base",
          "model_name": "LayoutModel",
          "model_module_version": "1.2.0",
          "state": {
            "_model_module": "@jupyter-widgets/base",
            "_model_module_version": "1.2.0",
            "_model_name": "LayoutModel",
            "_view_count": null,
            "_view_module": "@jupyter-widgets/base",
            "_view_module_version": "1.2.0",
            "_view_name": "LayoutView",
            "align_content": null,
            "align_items": null,
            "align_self": null,
            "border": null,
            "bottom": null,
            "display": null,
            "flex": null,
            "flex_flow": null,
            "grid_area": null,
            "grid_auto_columns": null,
            "grid_auto_flow": null,
            "grid_auto_rows": null,
            "grid_column": null,
            "grid_gap": null,
            "grid_row": null,
            "grid_template_areas": null,
            "grid_template_columns": null,
            "grid_template_rows": null,
            "height": null,
            "justify_content": null,
            "justify_items": null,
            "left": null,
            "margin": null,
            "max_height": null,
            "max_width": null,
            "min_height": null,
            "min_width": null,
            "object_fit": null,
            "object_position": null,
            "order": null,
            "overflow": null,
            "overflow_x": null,
            "overflow_y": null,
            "padding": null,
            "right": null,
            "top": null,
            "visibility": null,
            "width": null
          }
        },
        "82a10aba7ce643fb956585aedb0f6a69": {
          "model_module": "@jupyter-widgets/controls",
          "model_name": "DescriptionStyleModel",
          "model_module_version": "1.5.0",
          "state": {
            "_model_module": "@jupyter-widgets/controls",
            "_model_module_version": "1.5.0",
            "_model_name": "DescriptionStyleModel",
            "_view_count": null,
            "_view_module": "@jupyter-widgets/base",
            "_view_module_version": "1.2.0",
            "_view_name": "StyleView",
            "description_width": ""
          }
        },
        "72d99a0067f845b996174cc4ffb249b7": {
          "model_module": "@jupyter-widgets/controls",
          "model_name": "HBoxModel",
          "model_module_version": "1.5.0",
          "state": {
            "_dom_classes": [],
            "_model_module": "@jupyter-widgets/controls",
            "_model_module_version": "1.5.0",
            "_model_name": "HBoxModel",
            "_view_count": null,
            "_view_module": "@jupyter-widgets/controls",
            "_view_module_version": "1.5.0",
            "_view_name": "HBoxView",
            "box_style": "",
            "children": [
              "IPY_MODEL_baedd5ac68fc460684338e1eab2fa3ee",
              "IPY_MODEL_20a00f5bf1bb4ffa95e60a5dda97c855",
              "IPY_MODEL_9f7c9205b7bf4b8892712544a004ef3f"
            ],
            "layout": "IPY_MODEL_1c3972f6e7eb4e12a2283febdbaa18d2"
          }
        },
        "baedd5ac68fc460684338e1eab2fa3ee": {
          "model_module": "@jupyter-widgets/controls",
          "model_name": "HTMLModel",
          "model_module_version": "1.5.0",
          "state": {
            "_dom_classes": [],
            "_model_module": "@jupyter-widgets/controls",
            "_model_module_version": "1.5.0",
            "_model_name": "HTMLModel",
            "_view_count": null,
            "_view_module": "@jupyter-widgets/controls",
            "_view_module_version": "1.5.0",
            "_view_name": "HTMLView",
            "description": "",
            "description_tooltip": null,
            "layout": "IPY_MODEL_1372f40351de45438441b3b7e90e69d6",
            "placeholder": "​",
            "style": "IPY_MODEL_b0e8bd2914414dae8fa206f7e4348fd9",
            "value": "Dl Size...: 100%"
          }
        },
        "20a00f5bf1bb4ffa95e60a5dda97c855": {
          "model_module": "@jupyter-widgets/controls",
          "model_name": "FloatProgressModel",
          "model_module_version": "1.5.0",
          "state": {
            "_dom_classes": [],
            "_model_module": "@jupyter-widgets/controls",
            "_model_module_version": "1.5.0",
            "_model_name": "FloatProgressModel",
            "_view_count": null,
            "_view_module": "@jupyter-widgets/controls",
            "_view_module_version": "1.5.0",
            "_view_name": "ProgressView",
            "bar_style": "success",
            "description": "",
            "description_tooltip": null,
            "layout": "IPY_MODEL_c86030d73e594e7fa2e4046b7fb020eb",
            "max": 1,
            "min": 0,
            "orientation": "horizontal",
            "style": "IPY_MODEL_ea584e487c994689959fa0c5d63453f2",
            "value": 1
          }
        },
        "9f7c9205b7bf4b8892712544a004ef3f": {
          "model_module": "@jupyter-widgets/controls",
          "model_name": "HTMLModel",
          "model_module_version": "1.5.0",
          "state": {
            "_dom_classes": [],
            "_model_module": "@jupyter-widgets/controls",
            "_model_module_version": "1.5.0",
            "_model_name": "HTMLModel",
            "_view_count": null,
            "_view_module": "@jupyter-widgets/controls",
            "_view_module_version": "1.5.0",
            "_view_name": "HTMLView",
            "description": "",
            "description_tooltip": null,
            "layout": "IPY_MODEL_d40fc051152443138e8ada96541c733a",
            "placeholder": "​",
            "style": "IPY_MODEL_64027b8b90694d639c7ac572407e8f17",
            "value": " 17/17 [00:21&lt;00:00,  6.89 MiB/s]"
          }
        },
        "1c3972f6e7eb4e12a2283febdbaa18d2": {
          "model_module": "@jupyter-widgets/base",
          "model_name": "LayoutModel",
          "model_module_version": "1.2.0",
          "state": {
            "_model_module": "@jupyter-widgets/base",
            "_model_module_version": "1.2.0",
            "_model_name": "LayoutModel",
            "_view_count": null,
            "_view_module": "@jupyter-widgets/base",
            "_view_module_version": "1.2.0",
            "_view_name": "LayoutView",
            "align_content": null,
            "align_items": null,
            "align_self": null,
            "border": null,
            "bottom": null,
            "display": null,
            "flex": null,
            "flex_flow": null,
            "grid_area": null,
            "grid_auto_columns": null,
            "grid_auto_flow": null,
            "grid_auto_rows": null,
            "grid_column": null,
            "grid_gap": null,
            "grid_row": null,
            "grid_template_areas": null,
            "grid_template_columns": null,
            "grid_template_rows": null,
            "height": null,
            "justify_content": null,
            "justify_items": null,
            "left": null,
            "margin": null,
            "max_height": null,
            "max_width": null,
            "min_height": null,
            "min_width": null,
            "object_fit": null,
            "object_position": null,
            "order": null,
            "overflow": null,
            "overflow_x": null,
            "overflow_y": null,
            "padding": null,
            "right": null,
            "top": null,
            "visibility": null,
            "width": null
          }
        },
        "1372f40351de45438441b3b7e90e69d6": {
          "model_module": "@jupyter-widgets/base",
          "model_name": "LayoutModel",
          "model_module_version": "1.2.0",
          "state": {
            "_model_module": "@jupyter-widgets/base",
            "_model_module_version": "1.2.0",
            "_model_name": "LayoutModel",
            "_view_count": null,
            "_view_module": "@jupyter-widgets/base",
            "_view_module_version": "1.2.0",
            "_view_name": "LayoutView",
            "align_content": null,
            "align_items": null,
            "align_self": null,
            "border": null,
            "bottom": null,
            "display": null,
            "flex": null,
            "flex_flow": null,
            "grid_area": null,
            "grid_auto_columns": null,
            "grid_auto_flow": null,
            "grid_auto_rows": null,
            "grid_column": null,
            "grid_gap": null,
            "grid_row": null,
            "grid_template_areas": null,
            "grid_template_columns": null,
            "grid_template_rows": null,
            "height": null,
            "justify_content": null,
            "justify_items": null,
            "left": null,
            "margin": null,
            "max_height": null,
            "max_width": null,
            "min_height": null,
            "min_width": null,
            "object_fit": null,
            "object_position": null,
            "order": null,
            "overflow": null,
            "overflow_x": null,
            "overflow_y": null,
            "padding": null,
            "right": null,
            "top": null,
            "visibility": null,
            "width": null
          }
        },
        "b0e8bd2914414dae8fa206f7e4348fd9": {
          "model_module": "@jupyter-widgets/controls",
          "model_name": "DescriptionStyleModel",
          "model_module_version": "1.5.0",
          "state": {
            "_model_module": "@jupyter-widgets/controls",
            "_model_module_version": "1.5.0",
            "_model_name": "DescriptionStyleModel",
            "_view_count": null,
            "_view_module": "@jupyter-widgets/base",
            "_view_module_version": "1.2.0",
            "_view_name": "StyleView",
            "description_width": ""
          }
        },
        "c86030d73e594e7fa2e4046b7fb020eb": {
          "model_module": "@jupyter-widgets/base",
          "model_name": "LayoutModel",
          "model_module_version": "1.2.0",
          "state": {
            "_model_module": "@jupyter-widgets/base",
            "_model_module_version": "1.2.0",
            "_model_name": "LayoutModel",
            "_view_count": null,
            "_view_module": "@jupyter-widgets/base",
            "_view_module_version": "1.2.0",
            "_view_name": "LayoutView",
            "align_content": null,
            "align_items": null,
            "align_self": null,
            "border": null,
            "bottom": null,
            "display": null,
            "flex": null,
            "flex_flow": null,
            "grid_area": null,
            "grid_auto_columns": null,
            "grid_auto_flow": null,
            "grid_auto_rows": null,
            "grid_column": null,
            "grid_gap": null,
            "grid_row": null,
            "grid_template_areas": null,
            "grid_template_columns": null,
            "grid_template_rows": null,
            "height": null,
            "justify_content": null,
            "justify_items": null,
            "left": null,
            "margin": null,
            "max_height": null,
            "max_width": null,
            "min_height": null,
            "min_width": null,
            "object_fit": null,
            "object_position": null,
            "order": null,
            "overflow": null,
            "overflow_x": null,
            "overflow_y": null,
            "padding": null,
            "right": null,
            "top": null,
            "visibility": null,
            "width": "20px"
          }
        },
        "ea584e487c994689959fa0c5d63453f2": {
          "model_module": "@jupyter-widgets/controls",
          "model_name": "ProgressStyleModel",
          "model_module_version": "1.5.0",
          "state": {
            "_model_module": "@jupyter-widgets/controls",
            "_model_module_version": "1.5.0",
            "_model_name": "ProgressStyleModel",
            "_view_count": null,
            "_view_module": "@jupyter-widgets/base",
            "_view_module_version": "1.2.0",
            "_view_name": "StyleView",
            "bar_color": null,
            "description_width": ""
          }
        },
        "d40fc051152443138e8ada96541c733a": {
          "model_module": "@jupyter-widgets/base",
          "model_name": "LayoutModel",
          "model_module_version": "1.2.0",
          "state": {
            "_model_module": "@jupyter-widgets/base",
            "_model_module_version": "1.2.0",
            "_model_name": "LayoutModel",
            "_view_count": null,
            "_view_module": "@jupyter-widgets/base",
            "_view_module_version": "1.2.0",
            "_view_name": "LayoutView",
            "align_content": null,
            "align_items": null,
            "align_self": null,
            "border": null,
            "bottom": null,
            "display": null,
            "flex": null,
            "flex_flow": null,
            "grid_area": null,
            "grid_auto_columns": null,
            "grid_auto_flow": null,
            "grid_auto_rows": null,
            "grid_column": null,
            "grid_gap": null,
            "grid_row": null,
            "grid_template_areas": null,
            "grid_template_columns": null,
            "grid_template_rows": null,
            "height": null,
            "justify_content": null,
            "justify_items": null,
            "left": null,
            "margin": null,
            "max_height": null,
            "max_width": null,
            "min_height": null,
            "min_width": null,
            "object_fit": null,
            "object_position": null,
            "order": null,
            "overflow": null,
            "overflow_x": null,
            "overflow_y": null,
            "padding": null,
            "right": null,
            "top": null,
            "visibility": null,
            "width": null
          }
        },
        "64027b8b90694d639c7ac572407e8f17": {
          "model_module": "@jupyter-widgets/controls",
          "model_name": "DescriptionStyleModel",
          "model_module_version": "1.5.0",
          "state": {
            "_model_module": "@jupyter-widgets/controls",
            "_model_module_version": "1.5.0",
            "_model_name": "DescriptionStyleModel",
            "_view_count": null,
            "_view_module": "@jupyter-widgets/base",
            "_view_module_version": "1.2.0",
            "_view_name": "StyleView",
            "description_width": ""
          }
        },
        "7b21b497ec45467389b5ec11a78c8a70": {
          "model_module": "@jupyter-widgets/controls",
          "model_name": "HBoxModel",
          "model_module_version": "1.5.0",
          "state": {
            "_dom_classes": [],
            "_model_module": "@jupyter-widgets/controls",
            "_model_module_version": "1.5.0",
            "_model_name": "HBoxModel",
            "_view_count": null,
            "_view_module": "@jupyter-widgets/controls",
            "_view_module_version": "1.5.0",
            "_view_name": "HBoxView",
            "box_style": "",
            "children": [
              "IPY_MODEL_c942921e93ea47468c56dba18189ef3e",
              "IPY_MODEL_8a27bd3c650441de9e1ae7289a7f0c42",
              "IPY_MODEL_f0e9997af1f0415e9ff053f7dffdd526"
            ],
            "layout": "IPY_MODEL_7220ee70bdd84e67b6e13fba0afb9b08"
          }
        },
        "c942921e93ea47468c56dba18189ef3e": {
          "model_module": "@jupyter-widgets/controls",
          "model_name": "HTMLModel",
          "model_module_version": "1.5.0",
          "state": {
            "_dom_classes": [],
            "_model_module": "@jupyter-widgets/controls",
            "_model_module_version": "1.5.0",
            "_model_name": "HTMLModel",
            "_view_count": null,
            "_view_module": "@jupyter-widgets/controls",
            "_view_module_version": "1.5.0",
            "_view_name": "HTMLView",
            "description": "",
            "description_tooltip": null,
            "layout": "IPY_MODEL_9d4e32daad284fe48a35a693801238a9",
            "placeholder": "​",
            "style": "IPY_MODEL_f29541b346ca4e1996b21c1b923a0ba1",
            "value": "Extraction completed...: 100%"
          }
        },
        "8a27bd3c650441de9e1ae7289a7f0c42": {
          "model_module": "@jupyter-widgets/controls",
          "model_name": "FloatProgressModel",
          "model_module_version": "1.5.0",
          "state": {
            "_dom_classes": [],
            "_model_module": "@jupyter-widgets/controls",
            "_model_module_version": "1.5.0",
            "_model_name": "FloatProgressModel",
            "_view_count": null,
            "_view_module": "@jupyter-widgets/controls",
            "_view_module_version": "1.5.0",
            "_view_name": "ProgressView",
            "bar_style": "success",
            "description": "",
            "description_tooltip": null,
            "layout": "IPY_MODEL_8846b0a647434c71be75b8df03e4b4e7",
            "max": 1,
            "min": 0,
            "orientation": "horizontal",
            "style": "IPY_MODEL_1c70a564b5ad422ab8834268fd3600d2",
            "value": 1
          }
        },
        "f0e9997af1f0415e9ff053f7dffdd526": {
          "model_module": "@jupyter-widgets/controls",
          "model_name": "HTMLModel",
          "model_module_version": "1.5.0",
          "state": {
            "_dom_classes": [],
            "_model_module": "@jupyter-widgets/controls",
            "_model_module_version": "1.5.0",
            "_model_name": "HTMLModel",
            "_view_count": null,
            "_view_module": "@jupyter-widgets/controls",
            "_view_module_version": "1.5.0",
            "_view_name": "HTMLView",
            "description": "",
            "description_tooltip": null,
            "layout": "IPY_MODEL_375c64834aa7473897e5d699cb9ff59c",
            "placeholder": "​",
            "style": "IPY_MODEL_8ba28562fafb4821bf39c71312ebff58",
            "value": " 4/4 [00:21&lt;00:00,  5.14s/ file]"
          }
        },
        "7220ee70bdd84e67b6e13fba0afb9b08": {
          "model_module": "@jupyter-widgets/base",
          "model_name": "LayoutModel",
          "model_module_version": "1.2.0",
          "state": {
            "_model_module": "@jupyter-widgets/base",
            "_model_module_version": "1.2.0",
            "_model_name": "LayoutModel",
            "_view_count": null,
            "_view_module": "@jupyter-widgets/base",
            "_view_module_version": "1.2.0",
            "_view_name": "LayoutView",
            "align_content": null,
            "align_items": null,
            "align_self": null,
            "border": null,
            "bottom": null,
            "display": null,
            "flex": null,
            "flex_flow": null,
            "grid_area": null,
            "grid_auto_columns": null,
            "grid_auto_flow": null,
            "grid_auto_rows": null,
            "grid_column": null,
            "grid_gap": null,
            "grid_row": null,
            "grid_template_areas": null,
            "grid_template_columns": null,
            "grid_template_rows": null,
            "height": null,
            "justify_content": null,
            "justify_items": null,
            "left": null,
            "margin": null,
            "max_height": null,
            "max_width": null,
            "min_height": null,
            "min_width": null,
            "object_fit": null,
            "object_position": null,
            "order": null,
            "overflow": null,
            "overflow_x": null,
            "overflow_y": null,
            "padding": null,
            "right": null,
            "top": null,
            "visibility": null,
            "width": null
          }
        },
        "9d4e32daad284fe48a35a693801238a9": {
          "model_module": "@jupyter-widgets/base",
          "model_name": "LayoutModel",
          "model_module_version": "1.2.0",
          "state": {
            "_model_module": "@jupyter-widgets/base",
            "_model_module_version": "1.2.0",
            "_model_name": "LayoutModel",
            "_view_count": null,
            "_view_module": "@jupyter-widgets/base",
            "_view_module_version": "1.2.0",
            "_view_name": "LayoutView",
            "align_content": null,
            "align_items": null,
            "align_self": null,
            "border": null,
            "bottom": null,
            "display": null,
            "flex": null,
            "flex_flow": null,
            "grid_area": null,
            "grid_auto_columns": null,
            "grid_auto_flow": null,
            "grid_auto_rows": null,
            "grid_column": null,
            "grid_gap": null,
            "grid_row": null,
            "grid_template_areas": null,
            "grid_template_columns": null,
            "grid_template_rows": null,
            "height": null,
            "justify_content": null,
            "justify_items": null,
            "left": null,
            "margin": null,
            "max_height": null,
            "max_width": null,
            "min_height": null,
            "min_width": null,
            "object_fit": null,
            "object_position": null,
            "order": null,
            "overflow": null,
            "overflow_x": null,
            "overflow_y": null,
            "padding": null,
            "right": null,
            "top": null,
            "visibility": null,
            "width": null
          }
        },
        "f29541b346ca4e1996b21c1b923a0ba1": {
          "model_module": "@jupyter-widgets/controls",
          "model_name": "DescriptionStyleModel",
          "model_module_version": "1.5.0",
          "state": {
            "_model_module": "@jupyter-widgets/controls",
            "_model_module_version": "1.5.0",
            "_model_name": "DescriptionStyleModel",
            "_view_count": null,
            "_view_module": "@jupyter-widgets/base",
            "_view_module_version": "1.2.0",
            "_view_name": "StyleView",
            "description_width": ""
          }
        },
        "8846b0a647434c71be75b8df03e4b4e7": {
          "model_module": "@jupyter-widgets/base",
          "model_name": "LayoutModel",
          "model_module_version": "1.2.0",
          "state": {
            "_model_module": "@jupyter-widgets/base",
            "_model_module_version": "1.2.0",
            "_model_name": "LayoutModel",
            "_view_count": null,
            "_view_module": "@jupyter-widgets/base",
            "_view_module_version": "1.2.0",
            "_view_name": "LayoutView",
            "align_content": null,
            "align_items": null,
            "align_self": null,
            "border": null,
            "bottom": null,
            "display": null,
            "flex": null,
            "flex_flow": null,
            "grid_area": null,
            "grid_auto_columns": null,
            "grid_auto_flow": null,
            "grid_auto_rows": null,
            "grid_column": null,
            "grid_gap": null,
            "grid_row": null,
            "grid_template_areas": null,
            "grid_template_columns": null,
            "grid_template_rows": null,
            "height": null,
            "justify_content": null,
            "justify_items": null,
            "left": null,
            "margin": null,
            "max_height": null,
            "max_width": null,
            "min_height": null,
            "min_width": null,
            "object_fit": null,
            "object_position": null,
            "order": null,
            "overflow": null,
            "overflow_x": null,
            "overflow_y": null,
            "padding": null,
            "right": null,
            "top": null,
            "visibility": null,
            "width": "20px"
          }
        },
        "1c70a564b5ad422ab8834268fd3600d2": {
          "model_module": "@jupyter-widgets/controls",
          "model_name": "ProgressStyleModel",
          "model_module_version": "1.5.0",
          "state": {
            "_model_module": "@jupyter-widgets/controls",
            "_model_module_version": "1.5.0",
            "_model_name": "ProgressStyleModel",
            "_view_count": null,
            "_view_module": "@jupyter-widgets/base",
            "_view_module_version": "1.2.0",
            "_view_name": "StyleView",
            "bar_color": null,
            "description_width": ""
          }
        },
        "375c64834aa7473897e5d699cb9ff59c": {
          "model_module": "@jupyter-widgets/base",
          "model_name": "LayoutModel",
          "model_module_version": "1.2.0",
          "state": {
            "_model_module": "@jupyter-widgets/base",
            "_model_module_version": "1.2.0",
            "_model_name": "LayoutModel",
            "_view_count": null,
            "_view_module": "@jupyter-widgets/base",
            "_view_module_version": "1.2.0",
            "_view_name": "LayoutView",
            "align_content": null,
            "align_items": null,
            "align_self": null,
            "border": null,
            "bottom": null,
            "display": null,
            "flex": null,
            "flex_flow": null,
            "grid_area": null,
            "grid_auto_columns": null,
            "grid_auto_flow": null,
            "grid_auto_rows": null,
            "grid_column": null,
            "grid_gap": null,
            "grid_row": null,
            "grid_template_areas": null,
            "grid_template_columns": null,
            "grid_template_rows": null,
            "height": null,
            "justify_content": null,
            "justify_items": null,
            "left": null,
            "margin": null,
            "max_height": null,
            "max_width": null,
            "min_height": null,
            "min_width": null,
            "object_fit": null,
            "object_position": null,
            "order": null,
            "overflow": null,
            "overflow_x": null,
            "overflow_y": null,
            "padding": null,
            "right": null,
            "top": null,
            "visibility": null,
            "width": null
          }
        },
        "8ba28562fafb4821bf39c71312ebff58": {
          "model_module": "@jupyter-widgets/controls",
          "model_name": "DescriptionStyleModel",
          "model_module_version": "1.5.0",
          "state": {
            "_model_module": "@jupyter-widgets/controls",
            "_model_module_version": "1.5.0",
            "_model_name": "DescriptionStyleModel",
            "_view_count": null,
            "_view_module": "@jupyter-widgets/base",
            "_view_module_version": "1.2.0",
            "_view_name": "StyleView",
            "description_width": ""
          }
        },
        "822eb8def5ee4593a533d54fa09f5c0a": {
          "model_module": "@jupyter-widgets/controls",
          "model_name": "HBoxModel",
          "model_module_version": "1.5.0",
          "state": {
            "_dom_classes": [],
            "_model_module": "@jupyter-widgets/controls",
            "_model_module_version": "1.5.0",
            "_model_name": "HBoxModel",
            "_view_count": null,
            "_view_module": "@jupyter-widgets/controls",
            "_view_module_version": "1.5.0",
            "_view_name": "HBoxView",
            "box_style": "",
            "children": [
              "IPY_MODEL_6298d5105a7f4b14854c77a3075e015b",
              "IPY_MODEL_b5ecaf7808da4a338cd856d9cf44e89a",
              "IPY_MODEL_912f0aa80f394d0b919036a424ec51cc"
            ],
            "layout": "IPY_MODEL_1c7beef1e4f04d69ae8a78da48f641ba"
          }
        },
        "6298d5105a7f4b14854c77a3075e015b": {
          "model_module": "@jupyter-widgets/controls",
          "model_name": "HTMLModel",
          "model_module_version": "1.5.0",
          "state": {
            "_dom_classes": [],
            "_model_module": "@jupyter-widgets/controls",
            "_model_module_version": "1.5.0",
            "_model_name": "HTMLModel",
            "_view_count": null,
            "_view_module": "@jupyter-widgets/controls",
            "_view_module_version": "1.5.0",
            "_view_name": "HTMLView",
            "description": "",
            "description_tooltip": null,
            "layout": "IPY_MODEL_37d5b1f73ccb43cab8495538e836f03a",
            "placeholder": "​",
            "style": "IPY_MODEL_923a5ff23b6a429285f0988b5a712517",
            "value": ""
          }
        },
        "b5ecaf7808da4a338cd856d9cf44e89a": {
          "model_module": "@jupyter-widgets/controls",
          "model_name": "FloatProgressModel",
          "model_module_version": "1.5.0",
          "state": {
            "_dom_classes": [],
            "_model_module": "@jupyter-widgets/controls",
            "_model_module_version": "1.5.0",
            "_model_name": "FloatProgressModel",
            "_view_count": null,
            "_view_module": "@jupyter-widgets/controls",
            "_view_module_version": "1.5.0",
            "_view_name": "ProgressView",
            "bar_style": "info",
            "description": "",
            "description_tooltip": null,
            "layout": "IPY_MODEL_ab9bee72248740a18a7ff874c63f1b71",
            "max": 1,
            "min": 0,
            "orientation": "horizontal",
            "style": "IPY_MODEL_367942d42c454de1bb1c8a8d400cca59",
            "value": 1
          }
        },
        "912f0aa80f394d0b919036a424ec51cc": {
          "model_module": "@jupyter-widgets/controls",
          "model_name": "HTMLModel",
          "model_module_version": "1.5.0",
          "state": {
            "_dom_classes": [],
            "_model_module": "@jupyter-widgets/controls",
            "_model_module_version": "1.5.0",
            "_model_name": "HTMLModel",
            "_view_count": null,
            "_view_module": "@jupyter-widgets/controls",
            "_view_module_version": "1.5.0",
            "_view_name": "HTMLView",
            "description": "",
            "description_tooltip": null,
            "layout": "IPY_MODEL_6fb94ec3ac974451ad671a4cb552f08a",
            "placeholder": "​",
            "style": "IPY_MODEL_a05facac798d4446b245709c46dfb090",
            "value": " 19198/0 [00:18&lt;00:00, 1825.11 examples/s]"
          }
        },
        "1c7beef1e4f04d69ae8a78da48f641ba": {
          "model_module": "@jupyter-widgets/base",
          "model_name": "LayoutModel",
          "model_module_version": "1.2.0",
          "state": {
            "_model_module": "@jupyter-widgets/base",
            "_model_module_version": "1.2.0",
            "_model_name": "LayoutModel",
            "_view_count": null,
            "_view_module": "@jupyter-widgets/base",
            "_view_module_version": "1.2.0",
            "_view_name": "LayoutView",
            "align_content": null,
            "align_items": null,
            "align_self": null,
            "border": null,
            "bottom": null,
            "display": null,
            "flex": null,
            "flex_flow": null,
            "grid_area": null,
            "grid_auto_columns": null,
            "grid_auto_flow": null,
            "grid_auto_rows": null,
            "grid_column": null,
            "grid_gap": null,
            "grid_row": null,
            "grid_template_areas": null,
            "grid_template_columns": null,
            "grid_template_rows": null,
            "height": null,
            "justify_content": null,
            "justify_items": null,
            "left": null,
            "margin": null,
            "max_height": null,
            "max_width": null,
            "min_height": null,
            "min_width": null,
            "object_fit": null,
            "object_position": null,
            "order": null,
            "overflow": null,
            "overflow_x": null,
            "overflow_y": null,
            "padding": null,
            "right": null,
            "top": null,
            "visibility": null,
            "width": null
          }
        },
        "37d5b1f73ccb43cab8495538e836f03a": {
          "model_module": "@jupyter-widgets/base",
          "model_name": "LayoutModel",
          "model_module_version": "1.2.0",
          "state": {
            "_model_module": "@jupyter-widgets/base",
            "_model_module_version": "1.2.0",
            "_model_name": "LayoutModel",
            "_view_count": null,
            "_view_module": "@jupyter-widgets/base",
            "_view_module_version": "1.2.0",
            "_view_name": "LayoutView",
            "align_content": null,
            "align_items": null,
            "align_self": null,
            "border": null,
            "bottom": null,
            "display": null,
            "flex": null,
            "flex_flow": null,
            "grid_area": null,
            "grid_auto_columns": null,
            "grid_auto_flow": null,
            "grid_auto_rows": null,
            "grid_column": null,
            "grid_gap": null,
            "grid_row": null,
            "grid_template_areas": null,
            "grid_template_columns": null,
            "grid_template_rows": null,
            "height": null,
            "justify_content": null,
            "justify_items": null,
            "left": null,
            "margin": null,
            "max_height": null,
            "max_width": null,
            "min_height": null,
            "min_width": null,
            "object_fit": null,
            "object_position": null,
            "order": null,
            "overflow": null,
            "overflow_x": null,
            "overflow_y": null,
            "padding": null,
            "right": null,
            "top": null,
            "visibility": null,
            "width": null
          }
        },
        "923a5ff23b6a429285f0988b5a712517": {
          "model_module": "@jupyter-widgets/controls",
          "model_name": "DescriptionStyleModel",
          "model_module_version": "1.5.0",
          "state": {
            "_model_module": "@jupyter-widgets/controls",
            "_model_module_version": "1.5.0",
            "_model_name": "DescriptionStyleModel",
            "_view_count": null,
            "_view_module": "@jupyter-widgets/base",
            "_view_module_version": "1.2.0",
            "_view_name": "StyleView",
            "description_width": ""
          }
        },
        "ab9bee72248740a18a7ff874c63f1b71": {
          "model_module": "@jupyter-widgets/base",
          "model_name": "LayoutModel",
          "model_module_version": "1.2.0",
          "state": {
            "_model_module": "@jupyter-widgets/base",
            "_model_module_version": "1.2.0",
            "_model_name": "LayoutModel",
            "_view_count": null,
            "_view_module": "@jupyter-widgets/base",
            "_view_module_version": "1.2.0",
            "_view_name": "LayoutView",
            "align_content": null,
            "align_items": null,
            "align_self": null,
            "border": null,
            "bottom": null,
            "display": null,
            "flex": null,
            "flex_flow": null,
            "grid_area": null,
            "grid_auto_columns": null,
            "grid_auto_flow": null,
            "grid_auto_rows": null,
            "grid_column": null,
            "grid_gap": null,
            "grid_row": null,
            "grid_template_areas": null,
            "grid_template_columns": null,
            "grid_template_rows": null,
            "height": null,
            "justify_content": null,
            "justify_items": null,
            "left": null,
            "margin": null,
            "max_height": null,
            "max_width": null,
            "min_height": null,
            "min_width": null,
            "object_fit": null,
            "object_position": null,
            "order": null,
            "overflow": null,
            "overflow_x": null,
            "overflow_y": null,
            "padding": null,
            "right": null,
            "top": null,
            "visibility": null,
            "width": "20px"
          }
        },
        "367942d42c454de1bb1c8a8d400cca59": {
          "model_module": "@jupyter-widgets/controls",
          "model_name": "ProgressStyleModel",
          "model_module_version": "1.5.0",
          "state": {
            "_model_module": "@jupyter-widgets/controls",
            "_model_module_version": "1.5.0",
            "_model_name": "ProgressStyleModel",
            "_view_count": null,
            "_view_module": "@jupyter-widgets/base",
            "_view_module_version": "1.2.0",
            "_view_name": "StyleView",
            "bar_color": null,
            "description_width": ""
          }
        },
        "6fb94ec3ac974451ad671a4cb552f08a": {
          "model_module": "@jupyter-widgets/base",
          "model_name": "LayoutModel",
          "model_module_version": "1.2.0",
          "state": {
            "_model_module": "@jupyter-widgets/base",
            "_model_module_version": "1.2.0",
            "_model_name": "LayoutModel",
            "_view_count": null,
            "_view_module": "@jupyter-widgets/base",
            "_view_module_version": "1.2.0",
            "_view_name": "LayoutView",
            "align_content": null,
            "align_items": null,
            "align_self": null,
            "border": null,
            "bottom": null,
            "display": null,
            "flex": null,
            "flex_flow": null,
            "grid_area": null,
            "grid_auto_columns": null,
            "grid_auto_flow": null,
            "grid_auto_rows": null,
            "grid_column": null,
            "grid_gap": null,
            "grid_row": null,
            "grid_template_areas": null,
            "grid_template_columns": null,
            "grid_template_rows": null,
            "height": null,
            "justify_content": null,
            "justify_items": null,
            "left": null,
            "margin": null,
            "max_height": null,
            "max_width": null,
            "min_height": null,
            "min_width": null,
            "object_fit": null,
            "object_position": null,
            "order": null,
            "overflow": null,
            "overflow_x": null,
            "overflow_y": null,
            "padding": null,
            "right": null,
            "top": null,
            "visibility": null,
            "width": null
          }
        },
        "a05facac798d4446b245709c46dfb090": {
          "model_module": "@jupyter-widgets/controls",
          "model_name": "DescriptionStyleModel",
          "model_module_version": "1.5.0",
          "state": {
            "_model_module": "@jupyter-widgets/controls",
            "_model_module_version": "1.5.0",
            "_model_name": "DescriptionStyleModel",
            "_view_count": null,
            "_view_module": "@jupyter-widgets/base",
            "_view_module_version": "1.2.0",
            "_view_name": "StyleView",
            "description_width": ""
          }
        },
        "0a6b837296d948c79d18fd615a616e2f": {
          "model_module": "@jupyter-widgets/controls",
          "model_name": "HBoxModel",
          "model_module_version": "1.5.0",
          "state": {
            "_dom_classes": [],
            "_model_module": "@jupyter-widgets/controls",
            "_model_module_version": "1.5.0",
            "_model_name": "HBoxModel",
            "_view_count": null,
            "_view_module": "@jupyter-widgets/controls",
            "_view_module_version": "1.5.0",
            "_view_name": "HBoxView",
            "box_style": "",
            "children": [
              "IPY_MODEL_871b7d869a4b48e291b5d828bc8d34cc",
              "IPY_MODEL_e4d45d0c43fe4632a8993df0bd62273d",
              "IPY_MODEL_adfbfd8b33c14e41b796a24ebff8209e"
            ],
            "layout": "IPY_MODEL_ef73ce21e02643a8b23a146500dc2648"
          }
        },
        "871b7d869a4b48e291b5d828bc8d34cc": {
          "model_module": "@jupyter-widgets/controls",
          "model_name": "HTMLModel",
          "model_module_version": "1.5.0",
          "state": {
            "_dom_classes": [],
            "_model_module": "@jupyter-widgets/controls",
            "_model_module_version": "1.5.0",
            "_model_name": "HTMLModel",
            "_view_count": null,
            "_view_module": "@jupyter-widgets/controls",
            "_view_module_version": "1.5.0",
            "_view_name": "HTMLView",
            "description": "",
            "description_tooltip": null,
            "layout": "IPY_MODEL_82fcb3523e3e4c48b142897de31c4394",
            "placeholder": "​",
            "style": "IPY_MODEL_6c1dfb6d543f4b9bb4e9692bc782980e",
            "value": "100%"
          }
        },
        "e4d45d0c43fe4632a8993df0bd62273d": {
          "model_module": "@jupyter-widgets/controls",
          "model_name": "FloatProgressModel",
          "model_module_version": "1.5.0",
          "state": {
            "_dom_classes": [],
            "_model_module": "@jupyter-widgets/controls",
            "_model_module_version": "1.5.0",
            "_model_name": "FloatProgressModel",
            "_view_count": null,
            "_view_module": "@jupyter-widgets/controls",
            "_view_module_version": "1.5.0",
            "_view_name": "ProgressView",
            "bar_style": "danger",
            "description": "",
            "description_tooltip": null,
            "layout": "IPY_MODEL_42c4947ed4d44c74890642968bc87442",
            "max": 19280,
            "min": 0,
            "orientation": "horizontal",
            "style": "IPY_MODEL_c1e91e85d6f54cc58709b64d08164393",
            "value": 19279
          }
        },
        "adfbfd8b33c14e41b796a24ebff8209e": {
          "model_module": "@jupyter-widgets/controls",
          "model_name": "HTMLModel",
          "model_module_version": "1.5.0",
          "state": {
            "_dom_classes": [],
            "_model_module": "@jupyter-widgets/controls",
            "_model_module_version": "1.5.0",
            "_model_name": "HTMLModel",
            "_view_count": null,
            "_view_module": "@jupyter-widgets/controls",
            "_view_module_version": "1.5.0",
            "_view_name": "HTMLView",
            "description": "",
            "description_tooltip": null,
            "layout": "IPY_MODEL_34b50657941048a58ccbf7831eefcf41",
            "placeholder": "​",
            "style": "IPY_MODEL_378c21a354c743059574d20b8de4d565",
            "value": " 19279/19280 [00:00&lt;00:00, 65724.58 examples/s]"
          }
        },
        "ef73ce21e02643a8b23a146500dc2648": {
          "model_module": "@jupyter-widgets/base",
          "model_name": "LayoutModel",
          "model_module_version": "1.2.0",
          "state": {
            "_model_module": "@jupyter-widgets/base",
            "_model_module_version": "1.2.0",
            "_model_name": "LayoutModel",
            "_view_count": null,
            "_view_module": "@jupyter-widgets/base",
            "_view_module_version": "1.2.0",
            "_view_name": "LayoutView",
            "align_content": null,
            "align_items": null,
            "align_self": null,
            "border": null,
            "bottom": null,
            "display": null,
            "flex": null,
            "flex_flow": null,
            "grid_area": null,
            "grid_auto_columns": null,
            "grid_auto_flow": null,
            "grid_auto_rows": null,
            "grid_column": null,
            "grid_gap": null,
            "grid_row": null,
            "grid_template_areas": null,
            "grid_template_columns": null,
            "grid_template_rows": null,
            "height": null,
            "justify_content": null,
            "justify_items": null,
            "left": null,
            "margin": null,
            "max_height": null,
            "max_width": null,
            "min_height": null,
            "min_width": null,
            "object_fit": null,
            "object_position": null,
            "order": null,
            "overflow": null,
            "overflow_x": null,
            "overflow_y": null,
            "padding": null,
            "right": null,
            "top": null,
            "visibility": null,
            "width": null
          }
        },
        "82fcb3523e3e4c48b142897de31c4394": {
          "model_module": "@jupyter-widgets/base",
          "model_name": "LayoutModel",
          "model_module_version": "1.2.0",
          "state": {
            "_model_module": "@jupyter-widgets/base",
            "_model_module_version": "1.2.0",
            "_model_name": "LayoutModel",
            "_view_count": null,
            "_view_module": "@jupyter-widgets/base",
            "_view_module_version": "1.2.0",
            "_view_name": "LayoutView",
            "align_content": null,
            "align_items": null,
            "align_self": null,
            "border": null,
            "bottom": null,
            "display": null,
            "flex": null,
            "flex_flow": null,
            "grid_area": null,
            "grid_auto_columns": null,
            "grid_auto_flow": null,
            "grid_auto_rows": null,
            "grid_column": null,
            "grid_gap": null,
            "grid_row": null,
            "grid_template_areas": null,
            "grid_template_columns": null,
            "grid_template_rows": null,
            "height": null,
            "justify_content": null,
            "justify_items": null,
            "left": null,
            "margin": null,
            "max_height": null,
            "max_width": null,
            "min_height": null,
            "min_width": null,
            "object_fit": null,
            "object_position": null,
            "order": null,
            "overflow": null,
            "overflow_x": null,
            "overflow_y": null,
            "padding": null,
            "right": null,
            "top": null,
            "visibility": null,
            "width": null
          }
        },
        "6c1dfb6d543f4b9bb4e9692bc782980e": {
          "model_module": "@jupyter-widgets/controls",
          "model_name": "DescriptionStyleModel",
          "model_module_version": "1.5.0",
          "state": {
            "_model_module": "@jupyter-widgets/controls",
            "_model_module_version": "1.5.0",
            "_model_name": "DescriptionStyleModel",
            "_view_count": null,
            "_view_module": "@jupyter-widgets/base",
            "_view_module_version": "1.2.0",
            "_view_name": "StyleView",
            "description_width": ""
          }
        },
        "42c4947ed4d44c74890642968bc87442": {
          "model_module": "@jupyter-widgets/base",
          "model_name": "LayoutModel",
          "model_module_version": "1.2.0",
          "state": {
            "_model_module": "@jupyter-widgets/base",
            "_model_module_version": "1.2.0",
            "_model_name": "LayoutModel",
            "_view_count": null,
            "_view_module": "@jupyter-widgets/base",
            "_view_module_version": "1.2.0",
            "_view_name": "LayoutView",
            "align_content": null,
            "align_items": null,
            "align_self": null,
            "border": null,
            "bottom": null,
            "display": null,
            "flex": null,
            "flex_flow": null,
            "grid_area": null,
            "grid_auto_columns": null,
            "grid_auto_flow": null,
            "grid_auto_rows": null,
            "grid_column": null,
            "grid_gap": null,
            "grid_row": null,
            "grid_template_areas": null,
            "grid_template_columns": null,
            "grid_template_rows": null,
            "height": null,
            "justify_content": null,
            "justify_items": null,
            "left": null,
            "margin": null,
            "max_height": null,
            "max_width": null,
            "min_height": null,
            "min_width": null,
            "object_fit": null,
            "object_position": null,
            "order": null,
            "overflow": null,
            "overflow_x": null,
            "overflow_y": null,
            "padding": null,
            "right": null,
            "top": null,
            "visibility": null,
            "width": null
          }
        },
        "c1e91e85d6f54cc58709b64d08164393": {
          "model_module": "@jupyter-widgets/controls",
          "model_name": "ProgressStyleModel",
          "model_module_version": "1.5.0",
          "state": {
            "_model_module": "@jupyter-widgets/controls",
            "_model_module_version": "1.5.0",
            "_model_name": "ProgressStyleModel",
            "_view_count": null,
            "_view_module": "@jupyter-widgets/base",
            "_view_module_version": "1.2.0",
            "_view_name": "StyleView",
            "bar_color": null,
            "description_width": ""
          }
        },
        "34b50657941048a58ccbf7831eefcf41": {
          "model_module": "@jupyter-widgets/base",
          "model_name": "LayoutModel",
          "model_module_version": "1.2.0",
          "state": {
            "_model_module": "@jupyter-widgets/base",
            "_model_module_version": "1.2.0",
            "_model_name": "LayoutModel",
            "_view_count": null,
            "_view_module": "@jupyter-widgets/base",
            "_view_module_version": "1.2.0",
            "_view_name": "LayoutView",
            "align_content": null,
            "align_items": null,
            "align_self": null,
            "border": null,
            "bottom": null,
            "display": null,
            "flex": null,
            "flex_flow": null,
            "grid_area": null,
            "grid_auto_columns": null,
            "grid_auto_flow": null,
            "grid_auto_rows": null,
            "grid_column": null,
            "grid_gap": null,
            "grid_row": null,
            "grid_template_areas": null,
            "grid_template_columns": null,
            "grid_template_rows": null,
            "height": null,
            "justify_content": null,
            "justify_items": null,
            "left": null,
            "margin": null,
            "max_height": null,
            "max_width": null,
            "min_height": null,
            "min_width": null,
            "object_fit": null,
            "object_position": null,
            "order": null,
            "overflow": null,
            "overflow_x": null,
            "overflow_y": null,
            "padding": null,
            "right": null,
            "top": null,
            "visibility": null,
            "width": null
          }
        },
        "378c21a354c743059574d20b8de4d565": {
          "model_module": "@jupyter-widgets/controls",
          "model_name": "DescriptionStyleModel",
          "model_module_version": "1.5.0",
          "state": {
            "_model_module": "@jupyter-widgets/controls",
            "_model_module_version": "1.5.0",
            "_model_name": "DescriptionStyleModel",
            "_view_count": null,
            "_view_module": "@jupyter-widgets/base",
            "_view_module_version": "1.2.0",
            "_view_name": "StyleView",
            "description_width": ""
          }
        },
        "894023bf3ebe4fa3a5d195fcce13ffbb": {
          "model_module": "@jupyter-widgets/controls",
          "model_name": "HBoxModel",
          "model_module_version": "1.5.0",
          "state": {
            "_dom_classes": [],
            "_model_module": "@jupyter-widgets/controls",
            "_model_module_version": "1.5.0",
            "_model_name": "HBoxModel",
            "_view_count": null,
            "_view_module": "@jupyter-widgets/controls",
            "_view_module_version": "1.5.0",
            "_view_name": "HBoxView",
            "box_style": "",
            "children": [
              "IPY_MODEL_54a8c1bcbfc242fdb451e7253ff4f13f",
              "IPY_MODEL_82b6e61ccc8b4b90a6b1f526c2f86936",
              "IPY_MODEL_2ae361d1ac714652b69be337be9105fc"
            ],
            "layout": "IPY_MODEL_f4c38ff7508146c5880842e102672df9"
          }
        },
        "54a8c1bcbfc242fdb451e7253ff4f13f": {
          "model_module": "@jupyter-widgets/controls",
          "model_name": "HTMLModel",
          "model_module_version": "1.5.0",
          "state": {
            "_dom_classes": [],
            "_model_module": "@jupyter-widgets/controls",
            "_model_module_version": "1.5.0",
            "_model_name": "HTMLModel",
            "_view_count": null,
            "_view_module": "@jupyter-widgets/controls",
            "_view_module_version": "1.5.0",
            "_view_name": "HTMLView",
            "description": "",
            "description_tooltip": null,
            "layout": "IPY_MODEL_5fea314d8aca40f1b0106b4e2a83d2c8",
            "placeholder": "​",
            "style": "IPY_MODEL_0e4abe0679154813843e7b49debb1e8e",
            "value": ""
          }
        },
        "82b6e61ccc8b4b90a6b1f526c2f86936": {
          "model_module": "@jupyter-widgets/controls",
          "model_name": "FloatProgressModel",
          "model_module_version": "1.5.0",
          "state": {
            "_dom_classes": [],
            "_model_module": "@jupyter-widgets/controls",
            "_model_module_version": "1.5.0",
            "_model_name": "FloatProgressModel",
            "_view_count": null,
            "_view_module": "@jupyter-widgets/controls",
            "_view_module_version": "1.5.0",
            "_view_name": "ProgressView",
            "bar_style": "info",
            "description": "",
            "description_tooltip": null,
            "layout": "IPY_MODEL_324d3dbac2624b51b9f92ae02e31acdb",
            "max": 1,
            "min": 0,
            "orientation": "horizontal",
            "style": "IPY_MODEL_29d18e2e5e2e4d538de4a573873cd01f",
            "value": 1
          }
        },
        "2ae361d1ac714652b69be337be9105fc": {
          "model_module": "@jupyter-widgets/controls",
          "model_name": "HTMLModel",
          "model_module_version": "1.5.0",
          "state": {
            "_dom_classes": [],
            "_model_module": "@jupyter-widgets/controls",
            "_model_module_version": "1.5.0",
            "_model_name": "HTMLModel",
            "_view_count": null,
            "_view_module": "@jupyter-widgets/controls",
            "_view_module_version": "1.5.0",
            "_view_name": "HTMLView",
            "description": "",
            "description_tooltip": null,
            "layout": "IPY_MODEL_135ad23150cd469697adc07415d3e16e",
            "placeholder": "​",
            "style": "IPY_MODEL_56a3f105ce3c4a22b0a51d8565b63763",
            "value": " 13177/0 [00:07&lt;00:00, 1011.77 examples/s]"
          }
        },
        "f4c38ff7508146c5880842e102672df9": {
          "model_module": "@jupyter-widgets/base",
          "model_name": "LayoutModel",
          "model_module_version": "1.2.0",
          "state": {
            "_model_module": "@jupyter-widgets/base",
            "_model_module_version": "1.2.0",
            "_model_name": "LayoutModel",
            "_view_count": null,
            "_view_module": "@jupyter-widgets/base",
            "_view_module_version": "1.2.0",
            "_view_name": "LayoutView",
            "align_content": null,
            "align_items": null,
            "align_self": null,
            "border": null,
            "bottom": null,
            "display": null,
            "flex": null,
            "flex_flow": null,
            "grid_area": null,
            "grid_auto_columns": null,
            "grid_auto_flow": null,
            "grid_auto_rows": null,
            "grid_column": null,
            "grid_gap": null,
            "grid_row": null,
            "grid_template_areas": null,
            "grid_template_columns": null,
            "grid_template_rows": null,
            "height": null,
            "justify_content": null,
            "justify_items": null,
            "left": null,
            "margin": null,
            "max_height": null,
            "max_width": null,
            "min_height": null,
            "min_width": null,
            "object_fit": null,
            "object_position": null,
            "order": null,
            "overflow": null,
            "overflow_x": null,
            "overflow_y": null,
            "padding": null,
            "right": null,
            "top": null,
            "visibility": null,
            "width": null
          }
        },
        "5fea314d8aca40f1b0106b4e2a83d2c8": {
          "model_module": "@jupyter-widgets/base",
          "model_name": "LayoutModel",
          "model_module_version": "1.2.0",
          "state": {
            "_model_module": "@jupyter-widgets/base",
            "_model_module_version": "1.2.0",
            "_model_name": "LayoutModel",
            "_view_count": null,
            "_view_module": "@jupyter-widgets/base",
            "_view_module_version": "1.2.0",
            "_view_name": "LayoutView",
            "align_content": null,
            "align_items": null,
            "align_self": null,
            "border": null,
            "bottom": null,
            "display": null,
            "flex": null,
            "flex_flow": null,
            "grid_area": null,
            "grid_auto_columns": null,
            "grid_auto_flow": null,
            "grid_auto_rows": null,
            "grid_column": null,
            "grid_gap": null,
            "grid_row": null,
            "grid_template_areas": null,
            "grid_template_columns": null,
            "grid_template_rows": null,
            "height": null,
            "justify_content": null,
            "justify_items": null,
            "left": null,
            "margin": null,
            "max_height": null,
            "max_width": null,
            "min_height": null,
            "min_width": null,
            "object_fit": null,
            "object_position": null,
            "order": null,
            "overflow": null,
            "overflow_x": null,
            "overflow_y": null,
            "padding": null,
            "right": null,
            "top": null,
            "visibility": null,
            "width": null
          }
        },
        "0e4abe0679154813843e7b49debb1e8e": {
          "model_module": "@jupyter-widgets/controls",
          "model_name": "DescriptionStyleModel",
          "model_module_version": "1.5.0",
          "state": {
            "_model_module": "@jupyter-widgets/controls",
            "_model_module_version": "1.5.0",
            "_model_name": "DescriptionStyleModel",
            "_view_count": null,
            "_view_module": "@jupyter-widgets/base",
            "_view_module_version": "1.2.0",
            "_view_name": "StyleView",
            "description_width": ""
          }
        },
        "324d3dbac2624b51b9f92ae02e31acdb": {
          "model_module": "@jupyter-widgets/base",
          "model_name": "LayoutModel",
          "model_module_version": "1.2.0",
          "state": {
            "_model_module": "@jupyter-widgets/base",
            "_model_module_version": "1.2.0",
            "_model_name": "LayoutModel",
            "_view_count": null,
            "_view_module": "@jupyter-widgets/base",
            "_view_module_version": "1.2.0",
            "_view_name": "LayoutView",
            "align_content": null,
            "align_items": null,
            "align_self": null,
            "border": null,
            "bottom": null,
            "display": null,
            "flex": null,
            "flex_flow": null,
            "grid_area": null,
            "grid_auto_columns": null,
            "grid_auto_flow": null,
            "grid_auto_rows": null,
            "grid_column": null,
            "grid_gap": null,
            "grid_row": null,
            "grid_template_areas": null,
            "grid_template_columns": null,
            "grid_template_rows": null,
            "height": null,
            "justify_content": null,
            "justify_items": null,
            "left": null,
            "margin": null,
            "max_height": null,
            "max_width": null,
            "min_height": null,
            "min_width": null,
            "object_fit": null,
            "object_position": null,
            "order": null,
            "overflow": null,
            "overflow_x": null,
            "overflow_y": null,
            "padding": null,
            "right": null,
            "top": null,
            "visibility": null,
            "width": "20px"
          }
        },
        "29d18e2e5e2e4d538de4a573873cd01f": {
          "model_module": "@jupyter-widgets/controls",
          "model_name": "ProgressStyleModel",
          "model_module_version": "1.5.0",
          "state": {
            "_model_module": "@jupyter-widgets/controls",
            "_model_module_version": "1.5.0",
            "_model_name": "ProgressStyleModel",
            "_view_count": null,
            "_view_module": "@jupyter-widgets/base",
            "_view_module_version": "1.2.0",
            "_view_name": "StyleView",
            "bar_color": null,
            "description_width": ""
          }
        },
        "135ad23150cd469697adc07415d3e16e": {
          "model_module": "@jupyter-widgets/base",
          "model_name": "LayoutModel",
          "model_module_version": "1.2.0",
          "state": {
            "_model_module": "@jupyter-widgets/base",
            "_model_module_version": "1.2.0",
            "_model_name": "LayoutModel",
            "_view_count": null,
            "_view_module": "@jupyter-widgets/base",
            "_view_module_version": "1.2.0",
            "_view_name": "LayoutView",
            "align_content": null,
            "align_items": null,
            "align_self": null,
            "border": null,
            "bottom": null,
            "display": null,
            "flex": null,
            "flex_flow": null,
            "grid_area": null,
            "grid_auto_columns": null,
            "grid_auto_flow": null,
            "grid_auto_rows": null,
            "grid_column": null,
            "grid_gap": null,
            "grid_row": null,
            "grid_template_areas": null,
            "grid_template_columns": null,
            "grid_template_rows": null,
            "height": null,
            "justify_content": null,
            "justify_items": null,
            "left": null,
            "margin": null,
            "max_height": null,
            "max_width": null,
            "min_height": null,
            "min_width": null,
            "object_fit": null,
            "object_position": null,
            "order": null,
            "overflow": null,
            "overflow_x": null,
            "overflow_y": null,
            "padding": null,
            "right": null,
            "top": null,
            "visibility": null,
            "width": null
          }
        },
        "56a3f105ce3c4a22b0a51d8565b63763": {
          "model_module": "@jupyter-widgets/controls",
          "model_name": "DescriptionStyleModel",
          "model_module_version": "1.5.0",
          "state": {
            "_model_module": "@jupyter-widgets/controls",
            "_model_module_version": "1.5.0",
            "_model_name": "DescriptionStyleModel",
            "_view_count": null,
            "_view_module": "@jupyter-widgets/base",
            "_view_module_version": "1.2.0",
            "_view_name": "StyleView",
            "description_width": ""
          }
        },
        "efe339d7f200402fa06401153526bee4": {
          "model_module": "@jupyter-widgets/controls",
          "model_name": "HBoxModel",
          "model_module_version": "1.5.0",
          "state": {
            "_dom_classes": [],
            "_model_module": "@jupyter-widgets/controls",
            "_model_module_version": "1.5.0",
            "_model_name": "HBoxModel",
            "_view_count": null,
            "_view_module": "@jupyter-widgets/controls",
            "_view_module_version": "1.5.0",
            "_view_name": "HBoxView",
            "box_style": "",
            "children": [
              "IPY_MODEL_76eade9a331f4b1786282e2cf7875def",
              "IPY_MODEL_fe2bdc6bcb2e401389554f493c542e47",
              "IPY_MODEL_d55a7cc8cd5a4030bbc8165c202b009b"
            ],
            "layout": "IPY_MODEL_817b17a449684295b11436ddc977b7e9"
          }
        },
        "76eade9a331f4b1786282e2cf7875def": {
          "model_module": "@jupyter-widgets/controls",
          "model_name": "HTMLModel",
          "model_module_version": "1.5.0",
          "state": {
            "_dom_classes": [],
            "_model_module": "@jupyter-widgets/controls",
            "_model_module_version": "1.5.0",
            "_model_name": "HTMLModel",
            "_view_count": null,
            "_view_module": "@jupyter-widgets/controls",
            "_view_module_version": "1.5.0",
            "_view_name": "HTMLView",
            "description": "",
            "description_tooltip": null,
            "layout": "IPY_MODEL_155432ed1a464e2da890dc0c6f16f4a7",
            "placeholder": "​",
            "style": "IPY_MODEL_fd8a80a886da498d8cf681af68853421",
            "value": "100%"
          }
        },
        "fe2bdc6bcb2e401389554f493c542e47": {
          "model_module": "@jupyter-widgets/controls",
          "model_name": "FloatProgressModel",
          "model_module_version": "1.5.0",
          "state": {
            "_dom_classes": [],
            "_model_module": "@jupyter-widgets/controls",
            "_model_module_version": "1.5.0",
            "_model_name": "FloatProgressModel",
            "_view_count": null,
            "_view_module": "@jupyter-widgets/controls",
            "_view_module_version": "1.5.0",
            "_view_name": "ProgressView",
            "bar_style": "danger",
            "description": "",
            "description_tooltip": null,
            "layout": "IPY_MODEL_74cc5f4fdfd445288ca25dcf75982546",
            "max": 13180,
            "min": 0,
            "orientation": "horizontal",
            "style": "IPY_MODEL_d2760d3fff4a4e658dbd36cdd8199878",
            "value": 13179
          }
        },
        "d55a7cc8cd5a4030bbc8165c202b009b": {
          "model_module": "@jupyter-widgets/controls",
          "model_name": "HTMLModel",
          "model_module_version": "1.5.0",
          "state": {
            "_dom_classes": [],
            "_model_module": "@jupyter-widgets/controls",
            "_model_module_version": "1.5.0",
            "_model_name": "HTMLModel",
            "_view_count": null,
            "_view_module": "@jupyter-widgets/controls",
            "_view_module_version": "1.5.0",
            "_view_name": "HTMLView",
            "description": "",
            "description_tooltip": null,
            "layout": "IPY_MODEL_c9162f9330db4a60ae0f1e4435ec4bad",
            "placeholder": "​",
            "style": "IPY_MODEL_6021c1de5de14fff9e9a6c8276644812",
            "value": " 13179/13180 [00:00&lt;00:00, 23976.76 examples/s]"
          }
        },
        "817b17a449684295b11436ddc977b7e9": {
          "model_module": "@jupyter-widgets/base",
          "model_name": "LayoutModel",
          "model_module_version": "1.2.0",
          "state": {
            "_model_module": "@jupyter-widgets/base",
            "_model_module_version": "1.2.0",
            "_model_name": "LayoutModel",
            "_view_count": null,
            "_view_module": "@jupyter-widgets/base",
            "_view_module_version": "1.2.0",
            "_view_name": "LayoutView",
            "align_content": null,
            "align_items": null,
            "align_self": null,
            "border": null,
            "bottom": null,
            "display": null,
            "flex": null,
            "flex_flow": null,
            "grid_area": null,
            "grid_auto_columns": null,
            "grid_auto_flow": null,
            "grid_auto_rows": null,
            "grid_column": null,
            "grid_gap": null,
            "grid_row": null,
            "grid_template_areas": null,
            "grid_template_columns": null,
            "grid_template_rows": null,
            "height": null,
            "justify_content": null,
            "justify_items": null,
            "left": null,
            "margin": null,
            "max_height": null,
            "max_width": null,
            "min_height": null,
            "min_width": null,
            "object_fit": null,
            "object_position": null,
            "order": null,
            "overflow": null,
            "overflow_x": null,
            "overflow_y": null,
            "padding": null,
            "right": null,
            "top": null,
            "visibility": null,
            "width": null
          }
        },
        "155432ed1a464e2da890dc0c6f16f4a7": {
          "model_module": "@jupyter-widgets/base",
          "model_name": "LayoutModel",
          "model_module_version": "1.2.0",
          "state": {
            "_model_module": "@jupyter-widgets/base",
            "_model_module_version": "1.2.0",
            "_model_name": "LayoutModel",
            "_view_count": null,
            "_view_module": "@jupyter-widgets/base",
            "_view_module_version": "1.2.0",
            "_view_name": "LayoutView",
            "align_content": null,
            "align_items": null,
            "align_self": null,
            "border": null,
            "bottom": null,
            "display": null,
            "flex": null,
            "flex_flow": null,
            "grid_area": null,
            "grid_auto_columns": null,
            "grid_auto_flow": null,
            "grid_auto_rows": null,
            "grid_column": null,
            "grid_gap": null,
            "grid_row": null,
            "grid_template_areas": null,
            "grid_template_columns": null,
            "grid_template_rows": null,
            "height": null,
            "justify_content": null,
            "justify_items": null,
            "left": null,
            "margin": null,
            "max_height": null,
            "max_width": null,
            "min_height": null,
            "min_width": null,
            "object_fit": null,
            "object_position": null,
            "order": null,
            "overflow": null,
            "overflow_x": null,
            "overflow_y": null,
            "padding": null,
            "right": null,
            "top": null,
            "visibility": null,
            "width": null
          }
        },
        "fd8a80a886da498d8cf681af68853421": {
          "model_module": "@jupyter-widgets/controls",
          "model_name": "DescriptionStyleModel",
          "model_module_version": "1.5.0",
          "state": {
            "_model_module": "@jupyter-widgets/controls",
            "_model_module_version": "1.5.0",
            "_model_name": "DescriptionStyleModel",
            "_view_count": null,
            "_view_module": "@jupyter-widgets/base",
            "_view_module_version": "1.2.0",
            "_view_name": "StyleView",
            "description_width": ""
          }
        },
        "74cc5f4fdfd445288ca25dcf75982546": {
          "model_module": "@jupyter-widgets/base",
          "model_name": "LayoutModel",
          "model_module_version": "1.2.0",
          "state": {
            "_model_module": "@jupyter-widgets/base",
            "_model_module_version": "1.2.0",
            "_model_name": "LayoutModel",
            "_view_count": null,
            "_view_module": "@jupyter-widgets/base",
            "_view_module_version": "1.2.0",
            "_view_name": "LayoutView",
            "align_content": null,
            "align_items": null,
            "align_self": null,
            "border": null,
            "bottom": null,
            "display": null,
            "flex": null,
            "flex_flow": null,
            "grid_area": null,
            "grid_auto_columns": null,
            "grid_auto_flow": null,
            "grid_auto_rows": null,
            "grid_column": null,
            "grid_gap": null,
            "grid_row": null,
            "grid_template_areas": null,
            "grid_template_columns": null,
            "grid_template_rows": null,
            "height": null,
            "justify_content": null,
            "justify_items": null,
            "left": null,
            "margin": null,
            "max_height": null,
            "max_width": null,
            "min_height": null,
            "min_width": null,
            "object_fit": null,
            "object_position": null,
            "order": null,
            "overflow": null,
            "overflow_x": null,
            "overflow_y": null,
            "padding": null,
            "right": null,
            "top": null,
            "visibility": null,
            "width": null
          }
        },
        "d2760d3fff4a4e658dbd36cdd8199878": {
          "model_module": "@jupyter-widgets/controls",
          "model_name": "ProgressStyleModel",
          "model_module_version": "1.5.0",
          "state": {
            "_model_module": "@jupyter-widgets/controls",
            "_model_module_version": "1.5.0",
            "_model_name": "ProgressStyleModel",
            "_view_count": null,
            "_view_module": "@jupyter-widgets/base",
            "_view_module_version": "1.2.0",
            "_view_name": "StyleView",
            "bar_color": null,
            "description_width": ""
          }
        },
        "c9162f9330db4a60ae0f1e4435ec4bad": {
          "model_module": "@jupyter-widgets/base",
          "model_name": "LayoutModel",
          "model_module_version": "1.2.0",
          "state": {
            "_model_module": "@jupyter-widgets/base",
            "_model_module_version": "1.2.0",
            "_model_name": "LayoutModel",
            "_view_count": null,
            "_view_module": "@jupyter-widgets/base",
            "_view_module_version": "1.2.0",
            "_view_name": "LayoutView",
            "align_content": null,
            "align_items": null,
            "align_self": null,
            "border": null,
            "bottom": null,
            "display": null,
            "flex": null,
            "flex_flow": null,
            "grid_area": null,
            "grid_auto_columns": null,
            "grid_auto_flow": null,
            "grid_auto_rows": null,
            "grid_column": null,
            "grid_gap": null,
            "grid_row": null,
            "grid_template_areas": null,
            "grid_template_columns": null,
            "grid_template_rows": null,
            "height": null,
            "justify_content": null,
            "justify_items": null,
            "left": null,
            "margin": null,
            "max_height": null,
            "max_width": null,
            "min_height": null,
            "min_width": null,
            "object_fit": null,
            "object_position": null,
            "order": null,
            "overflow": null,
            "overflow_x": null,
            "overflow_y": null,
            "padding": null,
            "right": null,
            "top": null,
            "visibility": null,
            "width": null
          }
        },
        "6021c1de5de14fff9e9a6c8276644812": {
          "model_module": "@jupyter-widgets/controls",
          "model_name": "DescriptionStyleModel",
          "model_module_version": "1.5.0",
          "state": {
            "_model_module": "@jupyter-widgets/controls",
            "_model_module_version": "1.5.0",
            "_model_name": "DescriptionStyleModel",
            "_view_count": null,
            "_view_module": "@jupyter-widgets/base",
            "_view_module_version": "1.2.0",
            "_view_name": "StyleView",
            "description_width": ""
          }
        },
        "8a9ca0cb02474c5e88f442a52df9bef5": {
          "model_module": "@jupyter-widgets/controls",
          "model_name": "HBoxModel",
          "model_module_version": "1.5.0",
          "state": {
            "_dom_classes": [],
            "_model_module": "@jupyter-widgets/controls",
            "_model_module_version": "1.5.0",
            "_model_name": "HBoxModel",
            "_view_count": null,
            "_view_module": "@jupyter-widgets/controls",
            "_view_module_version": "1.5.0",
            "_view_name": "HBoxView",
            "box_style": "",
            "children": [
              "IPY_MODEL_9684eb91275e403d907fe43072a71c62",
              "IPY_MODEL_857397c66bd64c2b8aedb74577a204f9",
              "IPY_MODEL_bed35abe399c4affb92e277cdef09dcc"
            ],
            "layout": "IPY_MODEL_48f6038030664733be98c889ef919ceb"
          }
        },
        "9684eb91275e403d907fe43072a71c62": {
          "model_module": "@jupyter-widgets/controls",
          "model_name": "HTMLModel",
          "model_module_version": "1.5.0",
          "state": {
            "_dom_classes": [],
            "_model_module": "@jupyter-widgets/controls",
            "_model_module_version": "1.5.0",
            "_model_name": "HTMLModel",
            "_view_count": null,
            "_view_module": "@jupyter-widgets/controls",
            "_view_module_version": "1.5.0",
            "_view_name": "HTMLView",
            "description": "",
            "description_tooltip": null,
            "layout": "IPY_MODEL_ae8cebd5b0254e0297b9b845ac9f64c7",
            "placeholder": "​",
            "style": "IPY_MODEL_93b793fddc714972a78bf850227d0214",
            "value": ""
          }
        },
        "857397c66bd64c2b8aedb74577a204f9": {
          "model_module": "@jupyter-widgets/controls",
          "model_name": "FloatProgressModel",
          "model_module_version": "1.5.0",
          "state": {
            "_dom_classes": [],
            "_model_module": "@jupyter-widgets/controls",
            "_model_module_version": "1.5.0",
            "_model_name": "FloatProgressModel",
            "_view_count": null,
            "_view_module": "@jupyter-widgets/controls",
            "_view_module_version": "1.5.0",
            "_view_name": "ProgressView",
            "bar_style": "info",
            "description": "",
            "description_tooltip": null,
            "layout": "IPY_MODEL_dad23e8284e744e4978d9a28483aa3f9",
            "max": 1,
            "min": 0,
            "orientation": "horizontal",
            "style": "IPY_MODEL_fe638d005d6f40078f1e02ff8ae1979e",
            "value": 1
          }
        },
        "bed35abe399c4affb92e277cdef09dcc": {
          "model_module": "@jupyter-widgets/controls",
          "model_name": "HTMLModel",
          "model_module_version": "1.5.0",
          "state": {
            "_dom_classes": [],
            "_model_module": "@jupyter-widgets/controls",
            "_model_module_version": "1.5.0",
            "_model_name": "HTMLModel",
            "_view_count": null,
            "_view_module": "@jupyter-widgets/controls",
            "_view_module_version": "1.5.0",
            "_view_name": "HTMLView",
            "description": "",
            "description_tooltip": null,
            "layout": "IPY_MODEL_58d9ecc46b824d2db6b47e2b60def315",
            "placeholder": "​",
            "style": "IPY_MODEL_d95bee96bc73476996a7b52ec5c10b4a",
            "value": " 2645/0 [00:02&lt;00:00, 1085.40 examples/s]"
          }
        },
        "48f6038030664733be98c889ef919ceb": {
          "model_module": "@jupyter-widgets/base",
          "model_name": "LayoutModel",
          "model_module_version": "1.2.0",
          "state": {
            "_model_module": "@jupyter-widgets/base",
            "_model_module_version": "1.2.0",
            "_model_name": "LayoutModel",
            "_view_count": null,
            "_view_module": "@jupyter-widgets/base",
            "_view_module_version": "1.2.0",
            "_view_name": "LayoutView",
            "align_content": null,
            "align_items": null,
            "align_self": null,
            "border": null,
            "bottom": null,
            "display": null,
            "flex": null,
            "flex_flow": null,
            "grid_area": null,
            "grid_auto_columns": null,
            "grid_auto_flow": null,
            "grid_auto_rows": null,
            "grid_column": null,
            "grid_gap": null,
            "grid_row": null,
            "grid_template_areas": null,
            "grid_template_columns": null,
            "grid_template_rows": null,
            "height": null,
            "justify_content": null,
            "justify_items": null,
            "left": null,
            "margin": null,
            "max_height": null,
            "max_width": null,
            "min_height": null,
            "min_width": null,
            "object_fit": null,
            "object_position": null,
            "order": null,
            "overflow": null,
            "overflow_x": null,
            "overflow_y": null,
            "padding": null,
            "right": null,
            "top": null,
            "visibility": null,
            "width": null
          }
        },
        "ae8cebd5b0254e0297b9b845ac9f64c7": {
          "model_module": "@jupyter-widgets/base",
          "model_name": "LayoutModel",
          "model_module_version": "1.2.0",
          "state": {
            "_model_module": "@jupyter-widgets/base",
            "_model_module_version": "1.2.0",
            "_model_name": "LayoutModel",
            "_view_count": null,
            "_view_module": "@jupyter-widgets/base",
            "_view_module_version": "1.2.0",
            "_view_name": "LayoutView",
            "align_content": null,
            "align_items": null,
            "align_self": null,
            "border": null,
            "bottom": null,
            "display": null,
            "flex": null,
            "flex_flow": null,
            "grid_area": null,
            "grid_auto_columns": null,
            "grid_auto_flow": null,
            "grid_auto_rows": null,
            "grid_column": null,
            "grid_gap": null,
            "grid_row": null,
            "grid_template_areas": null,
            "grid_template_columns": null,
            "grid_template_rows": null,
            "height": null,
            "justify_content": null,
            "justify_items": null,
            "left": null,
            "margin": null,
            "max_height": null,
            "max_width": null,
            "min_height": null,
            "min_width": null,
            "object_fit": null,
            "object_position": null,
            "order": null,
            "overflow": null,
            "overflow_x": null,
            "overflow_y": null,
            "padding": null,
            "right": null,
            "top": null,
            "visibility": null,
            "width": null
          }
        },
        "93b793fddc714972a78bf850227d0214": {
          "model_module": "@jupyter-widgets/controls",
          "model_name": "DescriptionStyleModel",
          "model_module_version": "1.5.0",
          "state": {
            "_model_module": "@jupyter-widgets/controls",
            "_model_module_version": "1.5.0",
            "_model_name": "DescriptionStyleModel",
            "_view_count": null,
            "_view_module": "@jupyter-widgets/base",
            "_view_module_version": "1.2.0",
            "_view_name": "StyleView",
            "description_width": ""
          }
        },
        "dad23e8284e744e4978d9a28483aa3f9": {
          "model_module": "@jupyter-widgets/base",
          "model_name": "LayoutModel",
          "model_module_version": "1.2.0",
          "state": {
            "_model_module": "@jupyter-widgets/base",
            "_model_module_version": "1.2.0",
            "_model_name": "LayoutModel",
            "_view_count": null,
            "_view_module": "@jupyter-widgets/base",
            "_view_module_version": "1.2.0",
            "_view_name": "LayoutView",
            "align_content": null,
            "align_items": null,
            "align_self": null,
            "border": null,
            "bottom": null,
            "display": null,
            "flex": null,
            "flex_flow": null,
            "grid_area": null,
            "grid_auto_columns": null,
            "grid_auto_flow": null,
            "grid_auto_rows": null,
            "grid_column": null,
            "grid_gap": null,
            "grid_row": null,
            "grid_template_areas": null,
            "grid_template_columns": null,
            "grid_template_rows": null,
            "height": null,
            "justify_content": null,
            "justify_items": null,
            "left": null,
            "margin": null,
            "max_height": null,
            "max_width": null,
            "min_height": null,
            "min_width": null,
            "object_fit": null,
            "object_position": null,
            "order": null,
            "overflow": null,
            "overflow_x": null,
            "overflow_y": null,
            "padding": null,
            "right": null,
            "top": null,
            "visibility": null,
            "width": "20px"
          }
        },
        "fe638d005d6f40078f1e02ff8ae1979e": {
          "model_module": "@jupyter-widgets/controls",
          "model_name": "ProgressStyleModel",
          "model_module_version": "1.5.0",
          "state": {
            "_model_module": "@jupyter-widgets/controls",
            "_model_module_version": "1.5.0",
            "_model_name": "ProgressStyleModel",
            "_view_count": null,
            "_view_module": "@jupyter-widgets/base",
            "_view_module_version": "1.2.0",
            "_view_name": "StyleView",
            "bar_color": null,
            "description_width": ""
          }
        },
        "58d9ecc46b824d2db6b47e2b60def315": {
          "model_module": "@jupyter-widgets/base",
          "model_name": "LayoutModel",
          "model_module_version": "1.2.0",
          "state": {
            "_model_module": "@jupyter-widgets/base",
            "_model_module_version": "1.2.0",
            "_model_name": "LayoutModel",
            "_view_count": null,
            "_view_module": "@jupyter-widgets/base",
            "_view_module_version": "1.2.0",
            "_view_name": "LayoutView",
            "align_content": null,
            "align_items": null,
            "align_self": null,
            "border": null,
            "bottom": null,
            "display": null,
            "flex": null,
            "flex_flow": null,
            "grid_area": null,
            "grid_auto_columns": null,
            "grid_auto_flow": null,
            "grid_auto_rows": null,
            "grid_column": null,
            "grid_gap": null,
            "grid_row": null,
            "grid_template_areas": null,
            "grid_template_columns": null,
            "grid_template_rows": null,
            "height": null,
            "justify_content": null,
            "justify_items": null,
            "left": null,
            "margin": null,
            "max_height": null,
            "max_width": null,
            "min_height": null,
            "min_width": null,
            "object_fit": null,
            "object_position": null,
            "order": null,
            "overflow": null,
            "overflow_x": null,
            "overflow_y": null,
            "padding": null,
            "right": null,
            "top": null,
            "visibility": null,
            "width": null
          }
        },
        "d95bee96bc73476996a7b52ec5c10b4a": {
          "model_module": "@jupyter-widgets/controls",
          "model_name": "DescriptionStyleModel",
          "model_module_version": "1.5.0",
          "state": {
            "_model_module": "@jupyter-widgets/controls",
            "_model_module_version": "1.5.0",
            "_model_name": "DescriptionStyleModel",
            "_view_count": null,
            "_view_module": "@jupyter-widgets/base",
            "_view_module_version": "1.2.0",
            "_view_name": "StyleView",
            "description_width": ""
          }
        },
        "c1e5b9eaa5fb4070bbab17981d15ca35": {
          "model_module": "@jupyter-widgets/controls",
          "model_name": "HBoxModel",
          "model_module_version": "1.5.0",
          "state": {
            "_dom_classes": [],
            "_model_module": "@jupyter-widgets/controls",
            "_model_module_version": "1.5.0",
            "_model_name": "HBoxModel",
            "_view_count": null,
            "_view_module": "@jupyter-widgets/controls",
            "_view_module_version": "1.5.0",
            "_view_name": "HBoxView",
            "box_style": "",
            "children": [
              "IPY_MODEL_a9e0a18b9017423591153577d699bc21",
              "IPY_MODEL_72a6c1a0ea29468cb75e44de4bfd9d44",
              "IPY_MODEL_33d82c2eb7a9461982a05efe26c694ab"
            ],
            "layout": "IPY_MODEL_a3c3936fc0ce490eb8d2fb3af4b46e3f"
          }
        },
        "a9e0a18b9017423591153577d699bc21": {
          "model_module": "@jupyter-widgets/controls",
          "model_name": "HTMLModel",
          "model_module_version": "1.5.0",
          "state": {
            "_dom_classes": [],
            "_model_module": "@jupyter-widgets/controls",
            "_model_module_version": "1.5.0",
            "_model_name": "HTMLModel",
            "_view_count": null,
            "_view_module": "@jupyter-widgets/controls",
            "_view_module_version": "1.5.0",
            "_view_name": "HTMLView",
            "description": "",
            "description_tooltip": null,
            "layout": "IPY_MODEL_ad451d8bad714b508c3840f4a9e07296",
            "placeholder": "​",
            "style": "IPY_MODEL_a375762c9a51494997a94b06dd2d440b",
            "value": "100%"
          }
        },
        "72a6c1a0ea29468cb75e44de4bfd9d44": {
          "model_module": "@jupyter-widgets/controls",
          "model_name": "FloatProgressModel",
          "model_module_version": "1.5.0",
          "state": {
            "_dom_classes": [],
            "_model_module": "@jupyter-widgets/controls",
            "_model_module_version": "1.5.0",
            "_model_name": "FloatProgressModel",
            "_view_count": null,
            "_view_module": "@jupyter-widgets/controls",
            "_view_module_version": "1.5.0",
            "_view_name": "ProgressView",
            "bar_style": "danger",
            "description": "",
            "description_tooltip": null,
            "layout": "IPY_MODEL_e0e7c2a52de74a2f8507ee413991124a",
            "max": 2720,
            "min": 0,
            "orientation": "horizontal",
            "style": "IPY_MODEL_5a14f8c36bb04be384f7be8982194fd9",
            "value": 2719
          }
        },
        "33d82c2eb7a9461982a05efe26c694ab": {
          "model_module": "@jupyter-widgets/controls",
          "model_name": "HTMLModel",
          "model_module_version": "1.5.0",
          "state": {
            "_dom_classes": [],
            "_model_module": "@jupyter-widgets/controls",
            "_model_module_version": "1.5.0",
            "_model_name": "HTMLModel",
            "_view_count": null,
            "_view_module": "@jupyter-widgets/controls",
            "_view_module_version": "1.5.0",
            "_view_name": "HTMLView",
            "description": "",
            "description_tooltip": null,
            "layout": "IPY_MODEL_ef9b436a633e4fa9935955663b20c287",
            "placeholder": "​",
            "style": "IPY_MODEL_5bd0e478c59943abb9bba8d825249365",
            "value": " 2719/2720 [00:00&lt;00:00, 27212.21 examples/s]"
          }
        },
        "a3c3936fc0ce490eb8d2fb3af4b46e3f": {
          "model_module": "@jupyter-widgets/base",
          "model_name": "LayoutModel",
          "model_module_version": "1.2.0",
          "state": {
            "_model_module": "@jupyter-widgets/base",
            "_model_module_version": "1.2.0",
            "_model_name": "LayoutModel",
            "_view_count": null,
            "_view_module": "@jupyter-widgets/base",
            "_view_module_version": "1.2.0",
            "_view_name": "LayoutView",
            "align_content": null,
            "align_items": null,
            "align_self": null,
            "border": null,
            "bottom": null,
            "display": null,
            "flex": null,
            "flex_flow": null,
            "grid_area": null,
            "grid_auto_columns": null,
            "grid_auto_flow": null,
            "grid_auto_rows": null,
            "grid_column": null,
            "grid_gap": null,
            "grid_row": null,
            "grid_template_areas": null,
            "grid_template_columns": null,
            "grid_template_rows": null,
            "height": null,
            "justify_content": null,
            "justify_items": null,
            "left": null,
            "margin": null,
            "max_height": null,
            "max_width": null,
            "min_height": null,
            "min_width": null,
            "object_fit": null,
            "object_position": null,
            "order": null,
            "overflow": null,
            "overflow_x": null,
            "overflow_y": null,
            "padding": null,
            "right": null,
            "top": null,
            "visibility": null,
            "width": null
          }
        },
        "ad451d8bad714b508c3840f4a9e07296": {
          "model_module": "@jupyter-widgets/base",
          "model_name": "LayoutModel",
          "model_module_version": "1.2.0",
          "state": {
            "_model_module": "@jupyter-widgets/base",
            "_model_module_version": "1.2.0",
            "_model_name": "LayoutModel",
            "_view_count": null,
            "_view_module": "@jupyter-widgets/base",
            "_view_module_version": "1.2.0",
            "_view_name": "LayoutView",
            "align_content": null,
            "align_items": null,
            "align_self": null,
            "border": null,
            "bottom": null,
            "display": null,
            "flex": null,
            "flex_flow": null,
            "grid_area": null,
            "grid_auto_columns": null,
            "grid_auto_flow": null,
            "grid_auto_rows": null,
            "grid_column": null,
            "grid_gap": null,
            "grid_row": null,
            "grid_template_areas": null,
            "grid_template_columns": null,
            "grid_template_rows": null,
            "height": null,
            "justify_content": null,
            "justify_items": null,
            "left": null,
            "margin": null,
            "max_height": null,
            "max_width": null,
            "min_height": null,
            "min_width": null,
            "object_fit": null,
            "object_position": null,
            "order": null,
            "overflow": null,
            "overflow_x": null,
            "overflow_y": null,
            "padding": null,
            "right": null,
            "top": null,
            "visibility": null,
            "width": null
          }
        },
        "a375762c9a51494997a94b06dd2d440b": {
          "model_module": "@jupyter-widgets/controls",
          "model_name": "DescriptionStyleModel",
          "model_module_version": "1.5.0",
          "state": {
            "_model_module": "@jupyter-widgets/controls",
            "_model_module_version": "1.5.0",
            "_model_name": "DescriptionStyleModel",
            "_view_count": null,
            "_view_module": "@jupyter-widgets/base",
            "_view_module_version": "1.2.0",
            "_view_name": "StyleView",
            "description_width": ""
          }
        },
        "e0e7c2a52de74a2f8507ee413991124a": {
          "model_module": "@jupyter-widgets/base",
          "model_name": "LayoutModel",
          "model_module_version": "1.2.0",
          "state": {
            "_model_module": "@jupyter-widgets/base",
            "_model_module_version": "1.2.0",
            "_model_name": "LayoutModel",
            "_view_count": null,
            "_view_module": "@jupyter-widgets/base",
            "_view_module_version": "1.2.0",
            "_view_name": "LayoutView",
            "align_content": null,
            "align_items": null,
            "align_self": null,
            "border": null,
            "bottom": null,
            "display": null,
            "flex": null,
            "flex_flow": null,
            "grid_area": null,
            "grid_auto_columns": null,
            "grid_auto_flow": null,
            "grid_auto_rows": null,
            "grid_column": null,
            "grid_gap": null,
            "grid_row": null,
            "grid_template_areas": null,
            "grid_template_columns": null,
            "grid_template_rows": null,
            "height": null,
            "justify_content": null,
            "justify_items": null,
            "left": null,
            "margin": null,
            "max_height": null,
            "max_width": null,
            "min_height": null,
            "min_width": null,
            "object_fit": null,
            "object_position": null,
            "order": null,
            "overflow": null,
            "overflow_x": null,
            "overflow_y": null,
            "padding": null,
            "right": null,
            "top": null,
            "visibility": null,
            "width": null
          }
        },
        "5a14f8c36bb04be384f7be8982194fd9": {
          "model_module": "@jupyter-widgets/controls",
          "model_name": "ProgressStyleModel",
          "model_module_version": "1.5.0",
          "state": {
            "_model_module": "@jupyter-widgets/controls",
            "_model_module_version": "1.5.0",
            "_model_name": "ProgressStyleModel",
            "_view_count": null,
            "_view_module": "@jupyter-widgets/base",
            "_view_module_version": "1.2.0",
            "_view_name": "StyleView",
            "bar_color": null,
            "description_width": ""
          }
        },
        "ef9b436a633e4fa9935955663b20c287": {
          "model_module": "@jupyter-widgets/base",
          "model_name": "LayoutModel",
          "model_module_version": "1.2.0",
          "state": {
            "_model_module": "@jupyter-widgets/base",
            "_model_module_version": "1.2.0",
            "_model_name": "LayoutModel",
            "_view_count": null,
            "_view_module": "@jupyter-widgets/base",
            "_view_module_version": "1.2.0",
            "_view_name": "LayoutView",
            "align_content": null,
            "align_items": null,
            "align_self": null,
            "border": null,
            "bottom": null,
            "display": null,
            "flex": null,
            "flex_flow": null,
            "grid_area": null,
            "grid_auto_columns": null,
            "grid_auto_flow": null,
            "grid_auto_rows": null,
            "grid_column": null,
            "grid_gap": null,
            "grid_row": null,
            "grid_template_areas": null,
            "grid_template_columns": null,
            "grid_template_rows": null,
            "height": null,
            "justify_content": null,
            "justify_items": null,
            "left": null,
            "margin": null,
            "max_height": null,
            "max_width": null,
            "min_height": null,
            "min_width": null,
            "object_fit": null,
            "object_position": null,
            "order": null,
            "overflow": null,
            "overflow_x": null,
            "overflow_y": null,
            "padding": null,
            "right": null,
            "top": null,
            "visibility": null,
            "width": null
          }
        },
        "5bd0e478c59943abb9bba8d825249365": {
          "model_module": "@jupyter-widgets/controls",
          "model_name": "DescriptionStyleModel",
          "model_module_version": "1.5.0",
          "state": {
            "_model_module": "@jupyter-widgets/controls",
            "_model_module_version": "1.5.0",
            "_model_name": "DescriptionStyleModel",
            "_view_count": null,
            "_view_module": "@jupyter-widgets/base",
            "_view_module_version": "1.2.0",
            "_view_name": "StyleView",
            "description_width": ""
          }
        },
        "830a75abc8e745b1acde2237d31df698": {
          "model_module": "@jupyter-widgets/controls",
          "model_name": "HBoxModel",
          "model_module_version": "1.5.0",
          "state": {
            "_dom_classes": [],
            "_model_module": "@jupyter-widgets/controls",
            "_model_module_version": "1.5.0",
            "_model_name": "HBoxModel",
            "_view_count": null,
            "_view_module": "@jupyter-widgets/controls",
            "_view_module_version": "1.5.0",
            "_view_name": "HBoxView",
            "box_style": "",
            "children": [
              "IPY_MODEL_070e5271ae9d4d16ac6bada4690b00f1",
              "IPY_MODEL_ed864af5171b4fcca2957e3e9430f81a",
              "IPY_MODEL_2bf41a67579d41c3a0589b2f102dddd6"
            ],
            "layout": "IPY_MODEL_c0dc3c7085da4bc0a82e1e53256b2a4e"
          }
        },
        "070e5271ae9d4d16ac6bada4690b00f1": {
          "model_module": "@jupyter-widgets/controls",
          "model_name": "HTMLModel",
          "model_module_version": "1.5.0",
          "state": {
            "_dom_classes": [],
            "_model_module": "@jupyter-widgets/controls",
            "_model_module_version": "1.5.0",
            "_model_name": "HTMLModel",
            "_view_count": null,
            "_view_module": "@jupyter-widgets/controls",
            "_view_module_version": "1.5.0",
            "_view_name": "HTMLView",
            "description": "",
            "description_tooltip": null,
            "layout": "IPY_MODEL_cce9d2fd3237469a94c7475053090d74",
            "placeholder": "​",
            "style": "IPY_MODEL_02345db1b481416698cde24afa4e3767",
            "value": ""
          }
        },
        "ed864af5171b4fcca2957e3e9430f81a": {
          "model_module": "@jupyter-widgets/controls",
          "model_name": "FloatProgressModel",
          "model_module_version": "1.5.0",
          "state": {
            "_dom_classes": [],
            "_model_module": "@jupyter-widgets/controls",
            "_model_module_version": "1.5.0",
            "_model_name": "FloatProgressModel",
            "_view_count": null,
            "_view_module": "@jupyter-widgets/controls",
            "_view_module_version": "1.5.0",
            "_view_name": "ProgressView",
            "bar_style": "info",
            "description": "",
            "description_tooltip": null,
            "layout": "IPY_MODEL_9b3e8b4f2adf4d3680c8b5eaca36acf3",
            "max": 1,
            "min": 0,
            "orientation": "horizontal",
            "style": "IPY_MODEL_e35952dc0c854c729db3b13abbc147b4",
            "value": 1
          }
        },
        "2bf41a67579d41c3a0589b2f102dddd6": {
          "model_module": "@jupyter-widgets/controls",
          "model_name": "HTMLModel",
          "model_module_version": "1.5.0",
          "state": {
            "_dom_classes": [],
            "_model_module": "@jupyter-widgets/controls",
            "_model_module_version": "1.5.0",
            "_model_name": "HTMLModel",
            "_view_count": null,
            "_view_module": "@jupyter-widgets/controls",
            "_view_module_version": "1.5.0",
            "_view_name": "HTMLView",
            "description": "",
            "description_tooltip": null,
            "layout": "IPY_MODEL_406398795968488fa97c3e7242196441",
            "placeholder": "​",
            "style": "IPY_MODEL_6d4203ecb5e54c76ac2fe9bf4c9b5fc0",
            "value": " 3107/0 [00:03&lt;00:00, 1078.49 examples/s]"
          }
        },
        "c0dc3c7085da4bc0a82e1e53256b2a4e": {
          "model_module": "@jupyter-widgets/base",
          "model_name": "LayoutModel",
          "model_module_version": "1.2.0",
          "state": {
            "_model_module": "@jupyter-widgets/base",
            "_model_module_version": "1.2.0",
            "_model_name": "LayoutModel",
            "_view_count": null,
            "_view_module": "@jupyter-widgets/base",
            "_view_module_version": "1.2.0",
            "_view_name": "LayoutView",
            "align_content": null,
            "align_items": null,
            "align_self": null,
            "border": null,
            "bottom": null,
            "display": null,
            "flex": null,
            "flex_flow": null,
            "grid_area": null,
            "grid_auto_columns": null,
            "grid_auto_flow": null,
            "grid_auto_rows": null,
            "grid_column": null,
            "grid_gap": null,
            "grid_row": null,
            "grid_template_areas": null,
            "grid_template_columns": null,
            "grid_template_rows": null,
            "height": null,
            "justify_content": null,
            "justify_items": null,
            "left": null,
            "margin": null,
            "max_height": null,
            "max_width": null,
            "min_height": null,
            "min_width": null,
            "object_fit": null,
            "object_position": null,
            "order": null,
            "overflow": null,
            "overflow_x": null,
            "overflow_y": null,
            "padding": null,
            "right": null,
            "top": null,
            "visibility": null,
            "width": null
          }
        },
        "cce9d2fd3237469a94c7475053090d74": {
          "model_module": "@jupyter-widgets/base",
          "model_name": "LayoutModel",
          "model_module_version": "1.2.0",
          "state": {
            "_model_module": "@jupyter-widgets/base",
            "_model_module_version": "1.2.0",
            "_model_name": "LayoutModel",
            "_view_count": null,
            "_view_module": "@jupyter-widgets/base",
            "_view_module_version": "1.2.0",
            "_view_name": "LayoutView",
            "align_content": null,
            "align_items": null,
            "align_self": null,
            "border": null,
            "bottom": null,
            "display": null,
            "flex": null,
            "flex_flow": null,
            "grid_area": null,
            "grid_auto_columns": null,
            "grid_auto_flow": null,
            "grid_auto_rows": null,
            "grid_column": null,
            "grid_gap": null,
            "grid_row": null,
            "grid_template_areas": null,
            "grid_template_columns": null,
            "grid_template_rows": null,
            "height": null,
            "justify_content": null,
            "justify_items": null,
            "left": null,
            "margin": null,
            "max_height": null,
            "max_width": null,
            "min_height": null,
            "min_width": null,
            "object_fit": null,
            "object_position": null,
            "order": null,
            "overflow": null,
            "overflow_x": null,
            "overflow_y": null,
            "padding": null,
            "right": null,
            "top": null,
            "visibility": null,
            "width": null
          }
        },
        "02345db1b481416698cde24afa4e3767": {
          "model_module": "@jupyter-widgets/controls",
          "model_name": "DescriptionStyleModel",
          "model_module_version": "1.5.0",
          "state": {
            "_model_module": "@jupyter-widgets/controls",
            "_model_module_version": "1.5.0",
            "_model_name": "DescriptionStyleModel",
            "_view_count": null,
            "_view_module": "@jupyter-widgets/base",
            "_view_module_version": "1.2.0",
            "_view_name": "StyleView",
            "description_width": ""
          }
        },
        "9b3e8b4f2adf4d3680c8b5eaca36acf3": {
          "model_module": "@jupyter-widgets/base",
          "model_name": "LayoutModel",
          "model_module_version": "1.2.0",
          "state": {
            "_model_module": "@jupyter-widgets/base",
            "_model_module_version": "1.2.0",
            "_model_name": "LayoutModel",
            "_view_count": null,
            "_view_module": "@jupyter-widgets/base",
            "_view_module_version": "1.2.0",
            "_view_name": "LayoutView",
            "align_content": null,
            "align_items": null,
            "align_self": null,
            "border": null,
            "bottom": null,
            "display": null,
            "flex": null,
            "flex_flow": null,
            "grid_area": null,
            "grid_auto_columns": null,
            "grid_auto_flow": null,
            "grid_auto_rows": null,
            "grid_column": null,
            "grid_gap": null,
            "grid_row": null,
            "grid_template_areas": null,
            "grid_template_columns": null,
            "grid_template_rows": null,
            "height": null,
            "justify_content": null,
            "justify_items": null,
            "left": null,
            "margin": null,
            "max_height": null,
            "max_width": null,
            "min_height": null,
            "min_width": null,
            "object_fit": null,
            "object_position": null,
            "order": null,
            "overflow": null,
            "overflow_x": null,
            "overflow_y": null,
            "padding": null,
            "right": null,
            "top": null,
            "visibility": null,
            "width": "20px"
          }
        },
        "e35952dc0c854c729db3b13abbc147b4": {
          "model_module": "@jupyter-widgets/controls",
          "model_name": "ProgressStyleModel",
          "model_module_version": "1.5.0",
          "state": {
            "_model_module": "@jupyter-widgets/controls",
            "_model_module_version": "1.5.0",
            "_model_name": "ProgressStyleModel",
            "_view_count": null,
            "_view_module": "@jupyter-widgets/base",
            "_view_module_version": "1.2.0",
            "_view_name": "StyleView",
            "bar_color": null,
            "description_width": ""
          }
        },
        "406398795968488fa97c3e7242196441": {
          "model_module": "@jupyter-widgets/base",
          "model_name": "LayoutModel",
          "model_module_version": "1.2.0",
          "state": {
            "_model_module": "@jupyter-widgets/base",
            "_model_module_version": "1.2.0",
            "_model_name": "LayoutModel",
            "_view_count": null,
            "_view_module": "@jupyter-widgets/base",
            "_view_module_version": "1.2.0",
            "_view_name": "LayoutView",
            "align_content": null,
            "align_items": null,
            "align_self": null,
            "border": null,
            "bottom": null,
            "display": null,
            "flex": null,
            "flex_flow": null,
            "grid_area": null,
            "grid_auto_columns": null,
            "grid_auto_flow": null,
            "grid_auto_rows": null,
            "grid_column": null,
            "grid_gap": null,
            "grid_row": null,
            "grid_template_areas": null,
            "grid_template_columns": null,
            "grid_template_rows": null,
            "height": null,
            "justify_content": null,
            "justify_items": null,
            "left": null,
            "margin": null,
            "max_height": null,
            "max_width": null,
            "min_height": null,
            "min_width": null,
            "object_fit": null,
            "object_position": null,
            "order": null,
            "overflow": null,
            "overflow_x": null,
            "overflow_y": null,
            "padding": null,
            "right": null,
            "top": null,
            "visibility": null,
            "width": null
          }
        },
        "6d4203ecb5e54c76ac2fe9bf4c9b5fc0": {
          "model_module": "@jupyter-widgets/controls",
          "model_name": "DescriptionStyleModel",
          "model_module_version": "1.5.0",
          "state": {
            "_model_module": "@jupyter-widgets/controls",
            "_model_module_version": "1.5.0",
            "_model_name": "DescriptionStyleModel",
            "_view_count": null,
            "_view_module": "@jupyter-widgets/base",
            "_view_module_version": "1.2.0",
            "_view_name": "StyleView",
            "description_width": ""
          }
        },
        "4da6642943a449ddb60c64297e1ab45f": {
          "model_module": "@jupyter-widgets/controls",
          "model_name": "HBoxModel",
          "model_module_version": "1.5.0",
          "state": {
            "_dom_classes": [],
            "_model_module": "@jupyter-widgets/controls",
            "_model_module_version": "1.5.0",
            "_model_name": "HBoxModel",
            "_view_count": null,
            "_view_module": "@jupyter-widgets/controls",
            "_view_module_version": "1.5.0",
            "_view_name": "HBoxView",
            "box_style": "",
            "children": [
              "IPY_MODEL_d4a1850db22a477288f8a237aedbd43f",
              "IPY_MODEL_18cf4e5464f04056b567766ad87e8026",
              "IPY_MODEL_b67ad1d6f3bf4e71baf17e3092cc4acf"
            ],
            "layout": "IPY_MODEL_56128b724a3941bcbc8ea09737e17213"
          }
        },
        "d4a1850db22a477288f8a237aedbd43f": {
          "model_module": "@jupyter-widgets/controls",
          "model_name": "HTMLModel",
          "model_module_version": "1.5.0",
          "state": {
            "_dom_classes": [],
            "_model_module": "@jupyter-widgets/controls",
            "_model_module_version": "1.5.0",
            "_model_name": "HTMLModel",
            "_view_count": null,
            "_view_module": "@jupyter-widgets/controls",
            "_view_module_version": "1.5.0",
            "_view_name": "HTMLView",
            "description": "",
            "description_tooltip": null,
            "layout": "IPY_MODEL_d788ec6dd00445d99595d7ae4af3c40c",
            "placeholder": "​",
            "style": "IPY_MODEL_3f8bada77f1440ceb153ac7b2ddcf08e",
            "value": "100%"
          }
        },
        "18cf4e5464f04056b567766ad87e8026": {
          "model_module": "@jupyter-widgets/controls",
          "model_name": "FloatProgressModel",
          "model_module_version": "1.5.0",
          "state": {
            "_dom_classes": [],
            "_model_module": "@jupyter-widgets/controls",
            "_model_module_version": "1.5.0",
            "_model_name": "FloatProgressModel",
            "_view_count": null,
            "_view_module": "@jupyter-widgets/controls",
            "_view_module_version": "1.5.0",
            "_view_name": "ProgressView",
            "bar_style": "danger",
            "description": "",
            "description_tooltip": null,
            "layout": "IPY_MODEL_7cd63898298d49818dc1aa4c6c77229e",
            "max": 3120,
            "min": 0,
            "orientation": "horizontal",
            "style": "IPY_MODEL_e62c0e13db0148a29b54f955ef363e99",
            "value": 3119
          }
        },
        "b67ad1d6f3bf4e71baf17e3092cc4acf": {
          "model_module": "@jupyter-widgets/controls",
          "model_name": "HTMLModel",
          "model_module_version": "1.5.0",
          "state": {
            "_dom_classes": [],
            "_model_module": "@jupyter-widgets/controls",
            "_model_module_version": "1.5.0",
            "_model_name": "HTMLModel",
            "_view_count": null,
            "_view_module": "@jupyter-widgets/controls",
            "_view_module_version": "1.5.0",
            "_view_name": "HTMLView",
            "description": "",
            "description_tooltip": null,
            "layout": "IPY_MODEL_2a2d63ae47324235bff4659385cbed5b",
            "placeholder": "​",
            "style": "IPY_MODEL_09cf282180b549049883e05261d77572",
            "value": " 3119/3120 [00:00&lt;00:00, 16787.95 examples/s]"
          }
        },
        "56128b724a3941bcbc8ea09737e17213": {
          "model_module": "@jupyter-widgets/base",
          "model_name": "LayoutModel",
          "model_module_version": "1.2.0",
          "state": {
            "_model_module": "@jupyter-widgets/base",
            "_model_module_version": "1.2.0",
            "_model_name": "LayoutModel",
            "_view_count": null,
            "_view_module": "@jupyter-widgets/base",
            "_view_module_version": "1.2.0",
            "_view_name": "LayoutView",
            "align_content": null,
            "align_items": null,
            "align_self": null,
            "border": null,
            "bottom": null,
            "display": null,
            "flex": null,
            "flex_flow": null,
            "grid_area": null,
            "grid_auto_columns": null,
            "grid_auto_flow": null,
            "grid_auto_rows": null,
            "grid_column": null,
            "grid_gap": null,
            "grid_row": null,
            "grid_template_areas": null,
            "grid_template_columns": null,
            "grid_template_rows": null,
            "height": null,
            "justify_content": null,
            "justify_items": null,
            "left": null,
            "margin": null,
            "max_height": null,
            "max_width": null,
            "min_height": null,
            "min_width": null,
            "object_fit": null,
            "object_position": null,
            "order": null,
            "overflow": null,
            "overflow_x": null,
            "overflow_y": null,
            "padding": null,
            "right": null,
            "top": null,
            "visibility": null,
            "width": null
          }
        },
        "d788ec6dd00445d99595d7ae4af3c40c": {
          "model_module": "@jupyter-widgets/base",
          "model_name": "LayoutModel",
          "model_module_version": "1.2.0",
          "state": {
            "_model_module": "@jupyter-widgets/base",
            "_model_module_version": "1.2.0",
            "_model_name": "LayoutModel",
            "_view_count": null,
            "_view_module": "@jupyter-widgets/base",
            "_view_module_version": "1.2.0",
            "_view_name": "LayoutView",
            "align_content": null,
            "align_items": null,
            "align_self": null,
            "border": null,
            "bottom": null,
            "display": null,
            "flex": null,
            "flex_flow": null,
            "grid_area": null,
            "grid_auto_columns": null,
            "grid_auto_flow": null,
            "grid_auto_rows": null,
            "grid_column": null,
            "grid_gap": null,
            "grid_row": null,
            "grid_template_areas": null,
            "grid_template_columns": null,
            "grid_template_rows": null,
            "height": null,
            "justify_content": null,
            "justify_items": null,
            "left": null,
            "margin": null,
            "max_height": null,
            "max_width": null,
            "min_height": null,
            "min_width": null,
            "object_fit": null,
            "object_position": null,
            "order": null,
            "overflow": null,
            "overflow_x": null,
            "overflow_y": null,
            "padding": null,
            "right": null,
            "top": null,
            "visibility": null,
            "width": null
          }
        },
        "3f8bada77f1440ceb153ac7b2ddcf08e": {
          "model_module": "@jupyter-widgets/controls",
          "model_name": "DescriptionStyleModel",
          "model_module_version": "1.5.0",
          "state": {
            "_model_module": "@jupyter-widgets/controls",
            "_model_module_version": "1.5.0",
            "_model_name": "DescriptionStyleModel",
            "_view_count": null,
            "_view_module": "@jupyter-widgets/base",
            "_view_module_version": "1.2.0",
            "_view_name": "StyleView",
            "description_width": ""
          }
        },
        "7cd63898298d49818dc1aa4c6c77229e": {
          "model_module": "@jupyter-widgets/base",
          "model_name": "LayoutModel",
          "model_module_version": "1.2.0",
          "state": {
            "_model_module": "@jupyter-widgets/base",
            "_model_module_version": "1.2.0",
            "_model_name": "LayoutModel",
            "_view_count": null,
            "_view_module": "@jupyter-widgets/base",
            "_view_module_version": "1.2.0",
            "_view_name": "LayoutView",
            "align_content": null,
            "align_items": null,
            "align_self": null,
            "border": null,
            "bottom": null,
            "display": null,
            "flex": null,
            "flex_flow": null,
            "grid_area": null,
            "grid_auto_columns": null,
            "grid_auto_flow": null,
            "grid_auto_rows": null,
            "grid_column": null,
            "grid_gap": null,
            "grid_row": null,
            "grid_template_areas": null,
            "grid_template_columns": null,
            "grid_template_rows": null,
            "height": null,
            "justify_content": null,
            "justify_items": null,
            "left": null,
            "margin": null,
            "max_height": null,
            "max_width": null,
            "min_height": null,
            "min_width": null,
            "object_fit": null,
            "object_position": null,
            "order": null,
            "overflow": null,
            "overflow_x": null,
            "overflow_y": null,
            "padding": null,
            "right": null,
            "top": null,
            "visibility": null,
            "width": null
          }
        },
        "e62c0e13db0148a29b54f955ef363e99": {
          "model_module": "@jupyter-widgets/controls",
          "model_name": "ProgressStyleModel",
          "model_module_version": "1.5.0",
          "state": {
            "_model_module": "@jupyter-widgets/controls",
            "_model_module_version": "1.5.0",
            "_model_name": "ProgressStyleModel",
            "_view_count": null,
            "_view_module": "@jupyter-widgets/base",
            "_view_module_version": "1.2.0",
            "_view_name": "StyleView",
            "bar_color": null,
            "description_width": ""
          }
        },
        "2a2d63ae47324235bff4659385cbed5b": {
          "model_module": "@jupyter-widgets/base",
          "model_name": "LayoutModel",
          "model_module_version": "1.2.0",
          "state": {
            "_model_module": "@jupyter-widgets/base",
            "_model_module_version": "1.2.0",
            "_model_name": "LayoutModel",
            "_view_count": null,
            "_view_module": "@jupyter-widgets/base",
            "_view_module_version": "1.2.0",
            "_view_name": "LayoutView",
            "align_content": null,
            "align_items": null,
            "align_self": null,
            "border": null,
            "bottom": null,
            "display": null,
            "flex": null,
            "flex_flow": null,
            "grid_area": null,
            "grid_auto_columns": null,
            "grid_auto_flow": null,
            "grid_auto_rows": null,
            "grid_column": null,
            "grid_gap": null,
            "grid_row": null,
            "grid_template_areas": null,
            "grid_template_columns": null,
            "grid_template_rows": null,
            "height": null,
            "justify_content": null,
            "justify_items": null,
            "left": null,
            "margin": null,
            "max_height": null,
            "max_width": null,
            "min_height": null,
            "min_width": null,
            "object_fit": null,
            "object_position": null,
            "order": null,
            "overflow": null,
            "overflow_x": null,
            "overflow_y": null,
            "padding": null,
            "right": null,
            "top": null,
            "visibility": null,
            "width": null
          }
        },
        "09cf282180b549049883e05261d77572": {
          "model_module": "@jupyter-widgets/controls",
          "model_name": "DescriptionStyleModel",
          "model_module_version": "1.5.0",
          "state": {
            "_model_module": "@jupyter-widgets/controls",
            "_model_module_version": "1.5.0",
            "_model_name": "DescriptionStyleModel",
            "_view_count": null,
            "_view_module": "@jupyter-widgets/base",
            "_view_module_version": "1.2.0",
            "_view_name": "StyleView",
            "description_width": ""
          }
        }
      }
    }
  },
  "nbformat": 4,
  "nbformat_minor": 0
}